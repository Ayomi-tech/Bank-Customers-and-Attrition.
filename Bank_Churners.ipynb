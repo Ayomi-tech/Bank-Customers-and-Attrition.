{
 "cells": [
  {
   "cell_type": "markdown",
   "metadata": {},
   "source": [
    "### The story\n",
    "A manager at the bank is disturbed with more and more customers leaving their credit card services. They would really appreciate if one could predict for them which customer is more likely to get churned so they can proactively go to the customer to provide them better services and turn customers' decisions in the opposite direction. This dataset consists of 10,000 customers mentioning their age, salary, marital_status, credit card limit, credit card category, etc."
   ]
  },
  {
   "cell_type": "markdown",
   "metadata": {},
   "source": [
    "#### Importing the necessary Libraries"
   ]
  },
  {
   "cell_type": "code",
   "execution_count": 139,
   "metadata": {},
   "outputs": [],
   "source": [
    "# importing the necessary libraries:\n",
    "import pandas as pd\n",
    "import numpy as np\n",
    "pd.set_option('display.max_columns',None) # this will show the entire coloumns \n",
    "import seaborn as sns\n",
    "import matplotlib.pyplot as plt\n",
    "import statsmodels.api as sm\n",
    "#pip install -U scikit-learn (this is to get the min&max for scatterplot)"
   ]
  },
  {
   "cell_type": "code",
   "execution_count": 140,
   "metadata": {
    "scrolled": false
   },
   "outputs": [
    {
     "data": {
      "text/html": [
       "<div>\n",
       "<style scoped>\n",
       "    .dataframe tbody tr th:only-of-type {\n",
       "        vertical-align: middle;\n",
       "    }\n",
       "\n",
       "    .dataframe tbody tr th {\n",
       "        vertical-align: top;\n",
       "    }\n",
       "\n",
       "    .dataframe thead th {\n",
       "        text-align: right;\n",
       "    }\n",
       "</style>\n",
       "<table border=\"1\" class=\"dataframe\">\n",
       "  <thead>\n",
       "    <tr style=\"text-align: right;\">\n",
       "      <th></th>\n",
       "      <th>CLIENTNUM</th>\n",
       "      <th>Attrition_Flag</th>\n",
       "      <th>Customer_Age</th>\n",
       "      <th>Gender</th>\n",
       "      <th>Dependent_count</th>\n",
       "      <th>Education_Level</th>\n",
       "      <th>Marital_Status</th>\n",
       "      <th>Income_Category</th>\n",
       "      <th>Card_Category</th>\n",
       "      <th>Months_on_book</th>\n",
       "      <th>Total_Relationship_Count</th>\n",
       "      <th>Months_Inactive_12_mon</th>\n",
       "      <th>Contacts_Count_12_mon</th>\n",
       "      <th>Credit_Limit</th>\n",
       "      <th>Total_Revolving_Bal</th>\n",
       "      <th>Avg_Open_To_Buy</th>\n",
       "      <th>Total_Amt_Chng_Q4_Q1</th>\n",
       "      <th>Total_Trans_Amt</th>\n",
       "      <th>Total_Trans_Ct</th>\n",
       "      <th>Total_Ct_Chng_Q4_Q1</th>\n",
       "      <th>Avg_Utilization_Ratio</th>\n",
       "      <th>Naive_Bayes_Classifier_Attrition_Flag_Card_Category_Contacts_Count_12_mon_Dependent_count_Education_Level_Months_Inactive_12_mon_1</th>\n",
       "      <th>Naive_Bayes_Classifier_Attrition_Flag_Card_Category_Contacts_Count_12_mon_Dependent_count_Education_Level_Months_Inactive_12_mon_2</th>\n",
       "    </tr>\n",
       "  </thead>\n",
       "  <tbody>\n",
       "    <tr>\n",
       "      <th>0</th>\n",
       "      <td>768805383</td>\n",
       "      <td>Existing Customer</td>\n",
       "      <td>45</td>\n",
       "      <td>M</td>\n",
       "      <td>3</td>\n",
       "      <td>High School</td>\n",
       "      <td>Married</td>\n",
       "      <td>$60K - $80K</td>\n",
       "      <td>Blue</td>\n",
       "      <td>39</td>\n",
       "      <td>5</td>\n",
       "      <td>1</td>\n",
       "      <td>3</td>\n",
       "      <td>12691.0</td>\n",
       "      <td>777</td>\n",
       "      <td>11914.0</td>\n",
       "      <td>1.335</td>\n",
       "      <td>1144</td>\n",
       "      <td>42</td>\n",
       "      <td>1.625</td>\n",
       "      <td>0.061</td>\n",
       "      <td>0.000093</td>\n",
       "      <td>0.99991</td>\n",
       "    </tr>\n",
       "    <tr>\n",
       "      <th>1</th>\n",
       "      <td>818770008</td>\n",
       "      <td>Existing Customer</td>\n",
       "      <td>49</td>\n",
       "      <td>F</td>\n",
       "      <td>5</td>\n",
       "      <td>Graduate</td>\n",
       "      <td>Single</td>\n",
       "      <td>Less than $40K</td>\n",
       "      <td>Blue</td>\n",
       "      <td>44</td>\n",
       "      <td>6</td>\n",
       "      <td>1</td>\n",
       "      <td>2</td>\n",
       "      <td>8256.0</td>\n",
       "      <td>864</td>\n",
       "      <td>7392.0</td>\n",
       "      <td>1.541</td>\n",
       "      <td>1291</td>\n",
       "      <td>33</td>\n",
       "      <td>3.714</td>\n",
       "      <td>0.105</td>\n",
       "      <td>0.000057</td>\n",
       "      <td>0.99994</td>\n",
       "    </tr>\n",
       "    <tr>\n",
       "      <th>2</th>\n",
       "      <td>713982108</td>\n",
       "      <td>Existing Customer</td>\n",
       "      <td>51</td>\n",
       "      <td>M</td>\n",
       "      <td>3</td>\n",
       "      <td>Graduate</td>\n",
       "      <td>Married</td>\n",
       "      <td>$80K - $120K</td>\n",
       "      <td>Blue</td>\n",
       "      <td>36</td>\n",
       "      <td>4</td>\n",
       "      <td>1</td>\n",
       "      <td>0</td>\n",
       "      <td>3418.0</td>\n",
       "      <td>0</td>\n",
       "      <td>3418.0</td>\n",
       "      <td>2.594</td>\n",
       "      <td>1887</td>\n",
       "      <td>20</td>\n",
       "      <td>2.333</td>\n",
       "      <td>0.000</td>\n",
       "      <td>0.000021</td>\n",
       "      <td>0.99998</td>\n",
       "    </tr>\n",
       "    <tr>\n",
       "      <th>3</th>\n",
       "      <td>769911858</td>\n",
       "      <td>Existing Customer</td>\n",
       "      <td>40</td>\n",
       "      <td>F</td>\n",
       "      <td>4</td>\n",
       "      <td>High School</td>\n",
       "      <td>Unknown</td>\n",
       "      <td>Less than $40K</td>\n",
       "      <td>Blue</td>\n",
       "      <td>34</td>\n",
       "      <td>3</td>\n",
       "      <td>4</td>\n",
       "      <td>1</td>\n",
       "      <td>3313.0</td>\n",
       "      <td>2517</td>\n",
       "      <td>796.0</td>\n",
       "      <td>1.405</td>\n",
       "      <td>1171</td>\n",
       "      <td>20</td>\n",
       "      <td>2.333</td>\n",
       "      <td>0.760</td>\n",
       "      <td>0.000134</td>\n",
       "      <td>0.99987</td>\n",
       "    </tr>\n",
       "    <tr>\n",
       "      <th>4</th>\n",
       "      <td>709106358</td>\n",
       "      <td>Existing Customer</td>\n",
       "      <td>40</td>\n",
       "      <td>M</td>\n",
       "      <td>3</td>\n",
       "      <td>Uneducated</td>\n",
       "      <td>Married</td>\n",
       "      <td>$60K - $80K</td>\n",
       "      <td>Blue</td>\n",
       "      <td>21</td>\n",
       "      <td>5</td>\n",
       "      <td>1</td>\n",
       "      <td>0</td>\n",
       "      <td>4716.0</td>\n",
       "      <td>0</td>\n",
       "      <td>4716.0</td>\n",
       "      <td>2.175</td>\n",
       "      <td>816</td>\n",
       "      <td>28</td>\n",
       "      <td>2.500</td>\n",
       "      <td>0.000</td>\n",
       "      <td>0.000022</td>\n",
       "      <td>0.99998</td>\n",
       "    </tr>\n",
       "  </tbody>\n",
       "</table>\n",
       "</div>"
      ],
      "text/plain": [
       "   CLIENTNUM     Attrition_Flag  Customer_Age Gender  Dependent_count  \\\n",
       "0  768805383  Existing Customer            45      M                3   \n",
       "1  818770008  Existing Customer            49      F                5   \n",
       "2  713982108  Existing Customer            51      M                3   \n",
       "3  769911858  Existing Customer            40      F                4   \n",
       "4  709106358  Existing Customer            40      M                3   \n",
       "\n",
       "  Education_Level Marital_Status Income_Category Card_Category  \\\n",
       "0     High School        Married     $60K - $80K          Blue   \n",
       "1        Graduate         Single  Less than $40K          Blue   \n",
       "2        Graduate        Married    $80K - $120K          Blue   \n",
       "3     High School        Unknown  Less than $40K          Blue   \n",
       "4      Uneducated        Married     $60K - $80K          Blue   \n",
       "\n",
       "   Months_on_book  Total_Relationship_Count  Months_Inactive_12_mon  \\\n",
       "0              39                         5                       1   \n",
       "1              44                         6                       1   \n",
       "2              36                         4                       1   \n",
       "3              34                         3                       4   \n",
       "4              21                         5                       1   \n",
       "\n",
       "   Contacts_Count_12_mon  Credit_Limit  Total_Revolving_Bal  Avg_Open_To_Buy  \\\n",
       "0                      3       12691.0                  777          11914.0   \n",
       "1                      2        8256.0                  864           7392.0   \n",
       "2                      0        3418.0                    0           3418.0   \n",
       "3                      1        3313.0                 2517            796.0   \n",
       "4                      0        4716.0                    0           4716.0   \n",
       "\n",
       "   Total_Amt_Chng_Q4_Q1  Total_Trans_Amt  Total_Trans_Ct  Total_Ct_Chng_Q4_Q1  \\\n",
       "0                 1.335             1144              42                1.625   \n",
       "1                 1.541             1291              33                3.714   \n",
       "2                 2.594             1887              20                2.333   \n",
       "3                 1.405             1171              20                2.333   \n",
       "4                 2.175              816              28                2.500   \n",
       "\n",
       "   Avg_Utilization_Ratio  \\\n",
       "0                  0.061   \n",
       "1                  0.105   \n",
       "2                  0.000   \n",
       "3                  0.760   \n",
       "4                  0.000   \n",
       "\n",
       "   Naive_Bayes_Classifier_Attrition_Flag_Card_Category_Contacts_Count_12_mon_Dependent_count_Education_Level_Months_Inactive_12_mon_1  \\\n",
       "0                                           0.000093                                                                                    \n",
       "1                                           0.000057                                                                                    \n",
       "2                                           0.000021                                                                                    \n",
       "3                                           0.000134                                                                                    \n",
       "4                                           0.000022                                                                                    \n",
       "\n",
       "   Naive_Bayes_Classifier_Attrition_Flag_Card_Category_Contacts_Count_12_mon_Dependent_count_Education_Level_Months_Inactive_12_mon_2  \n",
       "0                                            0.99991                                                                                   \n",
       "1                                            0.99994                                                                                   \n",
       "2                                            0.99998                                                                                   \n",
       "3                                            0.99987                                                                                   \n",
       "4                                            0.99998                                                                                   "
      ]
     },
     "execution_count": 140,
     "metadata": {},
     "output_type": "execute_result"
    }
   ],
   "source": [
    "# we read the csv file which contains the data on 10128 customers in the bank:\n",
    "card=pd.read_csv('BankChurners.csv')\n",
    "card.head()"
   ]
  },
  {
   "cell_type": "markdown",
   "metadata": {},
   "source": [
    "#### Data Cleaning"
   ]
  },
  {
   "cell_type": "code",
   "execution_count": 141,
   "metadata": {},
   "outputs": [],
   "source": [
    "# lets drop the last 2 columns as there are some sort of irrelevant analysis and we dont need them.\n",
    "\n",
    "card=card.drop(['Naive_Bayes_Classifier_Attrition_Flag_Card_Category_Contacts_Count_12_mon_Dependent_count_Education_Level_Months_Inactive_12_mon_1', 'Naive_Bayes_Classifier_Attrition_Flag_Card_Category_Contacts_Count_12_mon_Dependent_count_Education_Level_Months_Inactive_12_mon_2'], axis=1)\n"
   ]
  },
  {
   "cell_type": "code",
   "execution_count": 142,
   "metadata": {
    "scrolled": false
   },
   "outputs": [
    {
     "data": {
      "text/plain": [
       "CLIENTNUM                   0\n",
       "Attrition_Flag              0\n",
       "Customer_Age                0\n",
       "Gender                      0\n",
       "Dependent_count             0\n",
       "Education_Level             0\n",
       "Marital_Status              0\n",
       "Income_Category             0\n",
       "Card_Category               0\n",
       "Months_on_book              0\n",
       "Total_Relationship_Count    0\n",
       "Months_Inactive_12_mon      0\n",
       "Contacts_Count_12_mon       0\n",
       "Credit_Limit                0\n",
       "Total_Revolving_Bal         0\n",
       "Avg_Open_To_Buy             0\n",
       "Total_Amt_Chng_Q4_Q1        0\n",
       "Total_Trans_Amt             0\n",
       "Total_Trans_Ct              0\n",
       "Total_Ct_Chng_Q4_Q1         0\n",
       "Avg_Utilization_Ratio       0\n",
       "dtype: int64"
      ]
     },
     "execution_count": 142,
     "metadata": {},
     "output_type": "execute_result"
    }
   ],
   "source": [
    "# to check for missing values\n",
    "card.isnull().sum()"
   ]
  },
  {
   "cell_type": "code",
   "execution_count": 144,
   "metadata": {
    "scrolled": false
   },
   "outputs": [
    {
     "data": {
      "text/plain": [
       "CLIENTNUM                      0\n",
       "Attrition_Flag                 0\n",
       "Customer_Age                   0\n",
       "Gender                         0\n",
       "Dependent_count                0\n",
       "Education_Level             1519\n",
       "Marital_Status               749\n",
       "Income_Category             1112\n",
       "Card_Category                  0\n",
       "Months_on_book                 0\n",
       "Total_Relationship_Count       0\n",
       "Months_Inactive_12_mon         0\n",
       "Contacts_Count_12_mon          0\n",
       "Credit_Limit                   0\n",
       "Total_Revolving_Bal            0\n",
       "Avg_Open_To_Buy                0\n",
       "Total_Amt_Chng_Q4_Q1           0\n",
       "Total_Trans_Amt                0\n",
       "Total_Trans_Ct                 0\n",
       "Total_Ct_Chng_Q4_Q1            0\n",
       "Avg_Utilization_Ratio          0\n",
       "dtype: int64"
      ]
     },
     "execution_count": 144,
     "metadata": {},
     "output_type": "execute_result"
    }
   ],
   "source": [
    "# to check if there is any 'Unknown' values in the dataframe\n",
    "card.where(card == 'Unknown').count()"
   ]
  },
  {
   "cell_type": "code",
   "execution_count": 150,
   "metadata": {},
   "outputs": [],
   "source": [
    "# we drop the rows with 'Unknown' values for 'Marital_Status' & 'income category':\n",
    "card.drop(card[card['Education_Level'].str.contains('Unknown')].index, inplace=True) \n",
    "card.drop(card[card['Marital_Status'].str.contains('Unknown')].index, inplace=True)\n",
    "card.drop(card[card['Income_Category'].str.contains('Unknown')].index, inplace=True)    \n",
    "               "
   ]
  },
  {
   "cell_type": "markdown",
   "metadata": {},
   "source": [
    "#### Priliminary analysis "
   ]
  },
  {
   "cell_type": "code",
   "execution_count": 151,
   "metadata": {},
   "outputs": [
    {
     "data": {
      "text/html": [
       "<div>\n",
       "<style scoped>\n",
       "    .dataframe tbody tr th:only-of-type {\n",
       "        vertical-align: middle;\n",
       "    }\n",
       "\n",
       "    .dataframe tbody tr th {\n",
       "        vertical-align: top;\n",
       "    }\n",
       "\n",
       "    .dataframe thead th {\n",
       "        text-align: right;\n",
       "    }\n",
       "</style>\n",
       "<table border=\"1\" class=\"dataframe\">\n",
       "  <thead>\n",
       "    <tr style=\"text-align: right;\">\n",
       "      <th></th>\n",
       "      <th>Avg_Open_To_Buy</th>\n",
       "      <th>Avg_Utilization_Ratio</th>\n",
       "      <th>Contacts_Count_12_mon</th>\n",
       "      <th>Credit_Limit</th>\n",
       "      <th>Customer_Age</th>\n",
       "      <th>Months_Inactive_12_mon</th>\n",
       "      <th>Months_on_book</th>\n",
       "      <th>Total_Amt_Chng_Q4_Q1</th>\n",
       "      <th>Total_Ct_Chng_Q4_Q1</th>\n",
       "      <th>Total_Relationship_Count</th>\n",
       "      <th>Total_Revolving_Bal</th>\n",
       "      <th>Total_Trans_Amt</th>\n",
       "      <th>Total_Trans_Ct</th>\n",
       "    </tr>\n",
       "    <tr>\n",
       "      <th>Gender</th>\n",
       "      <th></th>\n",
       "      <th></th>\n",
       "      <th></th>\n",
       "      <th></th>\n",
       "      <th></th>\n",
       "      <th></th>\n",
       "      <th></th>\n",
       "      <th></th>\n",
       "      <th></th>\n",
       "      <th></th>\n",
       "      <th></th>\n",
       "      <th></th>\n",
       "      <th></th>\n",
       "    </tr>\n",
       "  </thead>\n",
       "  <tbody>\n",
       "    <tr>\n",
       "      <th>F</th>\n",
       "      <td>2786.758163</td>\n",
       "      <td>0.372560</td>\n",
       "      <td>2.402074</td>\n",
       "      <td>3936.542163</td>\n",
       "      <td>46.436741</td>\n",
       "      <td>2.354370</td>\n",
       "      <td>36.013333</td>\n",
       "      <td>0.752438</td>\n",
       "      <td>0.713342</td>\n",
       "      <td>3.826667</td>\n",
       "      <td>1149.784000</td>\n",
       "      <td>4268.376593</td>\n",
       "      <td>65.887111</td>\n",
       "    </tr>\n",
       "    <tr>\n",
       "      <th>M</th>\n",
       "      <td>11458.430572</td>\n",
       "      <td>0.200126</td>\n",
       "      <td>2.502159</td>\n",
       "      <td>12642.067377</td>\n",
       "      <td>46.266595</td>\n",
       "      <td>2.331894</td>\n",
       "      <td>35.952240</td>\n",
       "      <td>0.768002</td>\n",
       "      <td>0.709837</td>\n",
       "      <td>3.812736</td>\n",
       "      <td>1183.636805</td>\n",
       "      <td>4508.976255</td>\n",
       "      <td>63.243119</td>\n",
       "    </tr>\n",
       "  </tbody>\n",
       "</table>\n",
       "</div>"
      ],
      "text/plain": [
       "        Avg_Open_To_Buy  Avg_Utilization_Ratio  Contacts_Count_12_mon  \\\n",
       "Gender                                                                  \n",
       "F           2786.758163               0.372560               2.402074   \n",
       "M          11458.430572               0.200126               2.502159   \n",
       "\n",
       "        Credit_Limit  Customer_Age  Months_Inactive_12_mon  Months_on_book  \\\n",
       "Gender                                                                       \n",
       "F        3936.542163     46.436741                2.354370       36.013333   \n",
       "M       12642.067377     46.266595                2.331894       35.952240   \n",
       "\n",
       "        Total_Amt_Chng_Q4_Q1  Total_Ct_Chng_Q4_Q1  Total_Relationship_Count  \\\n",
       "Gender                                                                        \n",
       "F                   0.752438             0.713342                  3.826667   \n",
       "M                   0.768002             0.709837                  3.812736   \n",
       "\n",
       "        Total_Revolving_Bal  Total_Trans_Amt  Total_Trans_Ct  \n",
       "Gender                                                        \n",
       "F               1149.784000      4268.376593       65.887111  \n",
       "M               1183.636805      4508.976255       63.243119  "
      ]
     },
     "execution_count": 151,
     "metadata": {},
     "output_type": "execute_result"
    }
   ],
   "source": [
    "# to get a glimpse of the average of the data based on the gender: \n",
    "pd.pivot_table(card, values=['Customer_Age', 'Months_on_book',\n",
    "       'Total_Relationship_Count', 'Months_Inactive_12_mon',\n",
    "       'Contacts_Count_12_mon', 'Credit_Limit', 'Total_Revolving_Bal',\n",
    "       'Avg_Open_To_Buy', 'Total_Amt_Chng_Q4_Q1', 'Total_Trans_Amt',\n",
    "       'Total_Trans_Ct', 'Total_Ct_Chng_Q4_Q1', 'Avg_Utilization_Ratio'], index='Gender')"
   ]
  },
  {
   "cell_type": "code",
   "execution_count": 6,
   "metadata": {},
   "outputs": [
    {
     "data": {
      "text/plain": [
       "Married     4194\n",
       "Single      3499\n",
       "Divorced     655\n",
       "Name: Marital_Status, dtype: int64"
      ]
     },
     "execution_count": 6,
     "metadata": {},
     "output_type": "execute_result"
    }
   ],
   "source": [
    "card['Marital_Status'].value_counts()"
   ]
  },
  {
   "cell_type": "code",
   "execution_count": 7,
   "metadata": {},
   "outputs": [
    {
     "data": {
      "text/plain": [
       "Less than $40K    3311\n",
       "$40K - $60K       1658\n",
       "$80K - $120K      1399\n",
       "$60K - $80K       1300\n",
       "$120K +            680\n",
       "Name: Income_Category, dtype: int64"
      ]
     },
     "execution_count": 7,
     "metadata": {},
     "output_type": "execute_result"
    }
   ],
   "source": [
    "card['Income_Category'].value_counts()"
   ]
  },
  {
   "cell_type": "code",
   "execution_count": 9,
   "metadata": {},
   "outputs": [
    {
     "data": {
      "text/plain": [
       "Existing Customer    7020\n",
       "Attrited Customer    1328\n",
       "Name: Attrition_Flag, dtype: int64"
      ]
     },
     "execution_count": 9,
     "metadata": {},
     "output_type": "execute_result"
    }
   ],
   "source": [
    "card['Attrition_Flag'].value_counts()"
   ]
  },
  {
   "cell_type": "code",
   "execution_count": 153,
   "metadata": {
    "scrolled": true
   },
   "outputs": [
    {
     "data": {
      "text/html": [
       "<div>\n",
       "<style scoped>\n",
       "    .dataframe tbody tr th:only-of-type {\n",
       "        vertical-align: middle;\n",
       "    }\n",
       "\n",
       "    .dataframe tbody tr th {\n",
       "        vertical-align: top;\n",
       "    }\n",
       "\n",
       "    .dataframe thead th {\n",
       "        text-align: right;\n",
       "    }\n",
       "</style>\n",
       "<table border=\"1\" class=\"dataframe\">\n",
       "  <thead>\n",
       "    <tr style=\"text-align: right;\">\n",
       "      <th></th>\n",
       "      <th>CLIENTNUM</th>\n",
       "      <th>Attrition_Flag</th>\n",
       "      <th>Customer_Age</th>\n",
       "      <th>Gender</th>\n",
       "      <th>Dependent_count</th>\n",
       "      <th>Education_Level</th>\n",
       "      <th>Marital_Status</th>\n",
       "      <th>Income_Category</th>\n",
       "      <th>Card_Category</th>\n",
       "      <th>Months_on_book</th>\n",
       "      <th>Total_Relationship_Count</th>\n",
       "      <th>Months_Inactive_12_mon</th>\n",
       "      <th>Contacts_Count_12_mon</th>\n",
       "      <th>Credit_Limit</th>\n",
       "      <th>Total_Revolving_Bal</th>\n",
       "      <th>Avg_Open_To_Buy</th>\n",
       "      <th>Total_Amt_Chng_Q4_Q1</th>\n",
       "      <th>Total_Trans_Amt</th>\n",
       "      <th>Total_Trans_Ct</th>\n",
       "      <th>Total_Ct_Chng_Q4_Q1</th>\n",
       "      <th>Avg_Utilization_Ratio</th>\n",
       "      <th>Attrition</th>\n",
       "    </tr>\n",
       "  </thead>\n",
       "  <tbody>\n",
       "    <tr>\n",
       "      <th>0</th>\n",
       "      <td>768805383</td>\n",
       "      <td>Existing Customer</td>\n",
       "      <td>45</td>\n",
       "      <td>M</td>\n",
       "      <td>3</td>\n",
       "      <td>High School</td>\n",
       "      <td>Married</td>\n",
       "      <td>$60K - $80K</td>\n",
       "      <td>Blue</td>\n",
       "      <td>39</td>\n",
       "      <td>5</td>\n",
       "      <td>1</td>\n",
       "      <td>3</td>\n",
       "      <td>12691.0</td>\n",
       "      <td>777</td>\n",
       "      <td>11914.0</td>\n",
       "      <td>1.335</td>\n",
       "      <td>1144</td>\n",
       "      <td>42</td>\n",
       "      <td>1.625</td>\n",
       "      <td>0.061</td>\n",
       "      <td>0</td>\n",
       "    </tr>\n",
       "    <tr>\n",
       "      <th>1</th>\n",
       "      <td>818770008</td>\n",
       "      <td>Existing Customer</td>\n",
       "      <td>49</td>\n",
       "      <td>F</td>\n",
       "      <td>5</td>\n",
       "      <td>Graduate</td>\n",
       "      <td>Single</td>\n",
       "      <td>Less than $40K</td>\n",
       "      <td>Blue</td>\n",
       "      <td>44</td>\n",
       "      <td>6</td>\n",
       "      <td>1</td>\n",
       "      <td>2</td>\n",
       "      <td>8256.0</td>\n",
       "      <td>864</td>\n",
       "      <td>7392.0</td>\n",
       "      <td>1.541</td>\n",
       "      <td>1291</td>\n",
       "      <td>33</td>\n",
       "      <td>3.714</td>\n",
       "      <td>0.105</td>\n",
       "      <td>0</td>\n",
       "    </tr>\n",
       "    <tr>\n",
       "      <th>2</th>\n",
       "      <td>713982108</td>\n",
       "      <td>Existing Customer</td>\n",
       "      <td>51</td>\n",
       "      <td>M</td>\n",
       "      <td>3</td>\n",
       "      <td>Graduate</td>\n",
       "      <td>Married</td>\n",
       "      <td>$80K - $120K</td>\n",
       "      <td>Blue</td>\n",
       "      <td>36</td>\n",
       "      <td>4</td>\n",
       "      <td>1</td>\n",
       "      <td>0</td>\n",
       "      <td>3418.0</td>\n",
       "      <td>0</td>\n",
       "      <td>3418.0</td>\n",
       "      <td>2.594</td>\n",
       "      <td>1887</td>\n",
       "      <td>20</td>\n",
       "      <td>2.333</td>\n",
       "      <td>0.000</td>\n",
       "      <td>0</td>\n",
       "    </tr>\n",
       "    <tr>\n",
       "      <th>4</th>\n",
       "      <td>709106358</td>\n",
       "      <td>Existing Customer</td>\n",
       "      <td>40</td>\n",
       "      <td>M</td>\n",
       "      <td>3</td>\n",
       "      <td>Uneducated</td>\n",
       "      <td>Married</td>\n",
       "      <td>$60K - $80K</td>\n",
       "      <td>Blue</td>\n",
       "      <td>21</td>\n",
       "      <td>5</td>\n",
       "      <td>1</td>\n",
       "      <td>0</td>\n",
       "      <td>4716.0</td>\n",
       "      <td>0</td>\n",
       "      <td>4716.0</td>\n",
       "      <td>2.175</td>\n",
       "      <td>816</td>\n",
       "      <td>28</td>\n",
       "      <td>2.500</td>\n",
       "      <td>0.000</td>\n",
       "      <td>0</td>\n",
       "    </tr>\n",
       "    <tr>\n",
       "      <th>5</th>\n",
       "      <td>713061558</td>\n",
       "      <td>Existing Customer</td>\n",
       "      <td>44</td>\n",
       "      <td>M</td>\n",
       "      <td>2</td>\n",
       "      <td>Graduate</td>\n",
       "      <td>Married</td>\n",
       "      <td>$40K - $60K</td>\n",
       "      <td>Blue</td>\n",
       "      <td>36</td>\n",
       "      <td>3</td>\n",
       "      <td>1</td>\n",
       "      <td>2</td>\n",
       "      <td>4010.0</td>\n",
       "      <td>1247</td>\n",
       "      <td>2763.0</td>\n",
       "      <td>1.376</td>\n",
       "      <td>1088</td>\n",
       "      <td>24</td>\n",
       "      <td>0.846</td>\n",
       "      <td>0.311</td>\n",
       "      <td>0</td>\n",
       "    </tr>\n",
       "  </tbody>\n",
       "</table>\n",
       "</div>"
      ],
      "text/plain": [
       "   CLIENTNUM     Attrition_Flag  Customer_Age Gender  Dependent_count  \\\n",
       "0  768805383  Existing Customer            45      M                3   \n",
       "1  818770008  Existing Customer            49      F                5   \n",
       "2  713982108  Existing Customer            51      M                3   \n",
       "4  709106358  Existing Customer            40      M                3   \n",
       "5  713061558  Existing Customer            44      M                2   \n",
       "\n",
       "  Education_Level Marital_Status Income_Category Card_Category  \\\n",
       "0     High School        Married     $60K - $80K          Blue   \n",
       "1        Graduate         Single  Less than $40K          Blue   \n",
       "2        Graduate        Married    $80K - $120K          Blue   \n",
       "4      Uneducated        Married     $60K - $80K          Blue   \n",
       "5        Graduate        Married     $40K - $60K          Blue   \n",
       "\n",
       "   Months_on_book  Total_Relationship_Count  Months_Inactive_12_mon  \\\n",
       "0              39                         5                       1   \n",
       "1              44                         6                       1   \n",
       "2              36                         4                       1   \n",
       "4              21                         5                       1   \n",
       "5              36                         3                       1   \n",
       "\n",
       "   Contacts_Count_12_mon  Credit_Limit  Total_Revolving_Bal  Avg_Open_To_Buy  \\\n",
       "0                      3       12691.0                  777          11914.0   \n",
       "1                      2        8256.0                  864           7392.0   \n",
       "2                      0        3418.0                    0           3418.0   \n",
       "4                      0        4716.0                    0           4716.0   \n",
       "5                      2        4010.0                 1247           2763.0   \n",
       "\n",
       "   Total_Amt_Chng_Q4_Q1  Total_Trans_Amt  Total_Trans_Ct  Total_Ct_Chng_Q4_Q1  \\\n",
       "0                 1.335             1144              42                1.625   \n",
       "1                 1.541             1291              33                3.714   \n",
       "2                 2.594             1887              20                2.333   \n",
       "4                 2.175              816              28                2.500   \n",
       "5                 1.376             1088              24                0.846   \n",
       "\n",
       "   Avg_Utilization_Ratio  Attrition  \n",
       "0                  0.061          0  \n",
       "1                  0.105          0  \n",
       "2                  0.000          0  \n",
       "4                  0.000          0  \n",
       "5                  0.311          0  "
      ]
     },
     "execution_count": 153,
     "metadata": {},
     "output_type": "execute_result"
    }
   ],
   "source": [
    "# 'Attrition' is our Dependent Variable for the Logistic Regression, therefore we create\n",
    "# a binary variable:\n",
    "card['Attrition']= np.where(card['Attrition_Flag'] == 'Attrited Customer', 1 ,0)\n",
    "card.head()"
   ]
  },
  {
   "cell_type": "code",
   "execution_count": 154,
   "metadata": {},
   "outputs": [],
   "source": [
    "# Export the cleaned DataFrame back to csv in order to be used for Tableau analysis in the future:\n",
    "card.to_csv('card_tableau1.csv', index=False)\n"
   ]
  },
  {
   "cell_type": "code",
   "execution_count": 157,
   "metadata": {},
   "outputs": [
    {
     "data": {
      "image/png": "[encoded data removed]",
      "text/plain": [
       "<Figure size 576x576 with 1 Axes>"
      ]
     },
     "metadata": {
      "needs_background": "light"
     },
     "output_type": "display_data"
    }
   ],
   "source": [
    "# we want a bar chart to plot the average credit limit against age:\n",
    "#plt.subplots(figsize=(8,8)) # this will be applied to all the plots from now on.\n",
    "\n",
    "grp = card.groupby('Customer_Age')['Credit_Limit'].mean().reset_index()\n",
    "x= grp['Customer_Age']\n",
    "y =grp['Credit_Limit']\n",
    "plt.bar(x=x, height=y)\n",
    "plt.plot(figsize=(8,8))\n",
    "\n",
    "\n",
    "plt.show()"
   ]
  },
  {
   "cell_type": "code",
   "execution_count": 12,
   "metadata": {},
   "outputs": [
    {
     "data": {
      "image/png": "[encoded data removed]",
      "text/plain": [
       "<Figure size 432x288 with 1 Axes>"
      ]
     },
     "metadata": {
      "needs_background": "light"
     },
     "output_type": "display_data"
    }
   ],
   "source": [
    "# scatter plot of credit limit and age\n",
    "plt.scatter(x=grp['Customer_Age'], y=grp['Credit_Limit'])\n",
    "plt.xlabel ('Customer Age')\n",
    "plt.ylabel ('Credit Limit')\n",
    "plt.title ('Scatter plot of Customer Age against Credit Limit')\n",
    "plt.show()"
   ]
  },
  {
   "cell_type": "code",
   "execution_count": 17,
   "metadata": {},
   "outputs": [
    {
     "data": {
      "text/html": [
       "<div>\n",
       "<style scoped>\n",
       "    .dataframe tbody tr th:only-of-type {\n",
       "        vertical-align: middle;\n",
       "    }\n",
       "\n",
       "    .dataframe tbody tr th {\n",
       "        vertical-align: top;\n",
       "    }\n",
       "\n",
       "    .dataframe thead th {\n",
       "        text-align: right;\n",
       "    }\n",
       "</style>\n",
       "<table border=\"1\" class=\"dataframe\">\n",
       "  <thead>\n",
       "    <tr style=\"text-align: right;\">\n",
       "      <th></th>\n",
       "      <th>Months_on_book</th>\n",
       "    </tr>\n",
       "    <tr>\n",
       "      <th>Gender</th>\n",
       "      <th></th>\n",
       "    </tr>\n",
       "  </thead>\n",
       "  <tbody>\n",
       "    <tr>\n",
       "      <th>F</th>\n",
       "      <td>36.063782</td>\n",
       "    </tr>\n",
       "    <tr>\n",
       "      <th>M</th>\n",
       "      <td>35.918391</td>\n",
       "    </tr>\n",
       "  </tbody>\n",
       "</table>\n",
       "</div>"
      ],
      "text/plain": [
       "        Months_on_book\n",
       "Gender                \n",
       "F            36.063782\n",
       "M            35.918391"
      ]
     },
     "execution_count": 17,
     "metadata": {},
     "output_type": "execute_result"
    }
   ],
   "source": [
    "# to get the average months on book for both genders:\n",
    "pd.pivot_table(card, values='Months_on_book', index='Gender') # default function for 'values' is mean "
   ]
  },
  {
   "cell_type": "code",
   "execution_count": 18,
   "metadata": {},
   "outputs": [
    {
     "data": {
      "text/html": [
       "<div>\n",
       "<style scoped>\n",
       "    .dataframe tbody tr th:only-of-type {\n",
       "        vertical-align: middle;\n",
       "    }\n",
       "\n",
       "    .dataframe tbody tr th {\n",
       "        vertical-align: top;\n",
       "    }\n",
       "\n",
       "    .dataframe thead th {\n",
       "        text-align: right;\n",
       "    }\n",
       "</style>\n",
       "<table border=\"1\" class=\"dataframe\">\n",
       "  <thead>\n",
       "    <tr style=\"text-align: right;\">\n",
       "      <th></th>\n",
       "      <th>Credit_Limit</th>\n",
       "    </tr>\n",
       "    <tr>\n",
       "      <th>Gender</th>\n",
       "      <th></th>\n",
       "    </tr>\n",
       "  </thead>\n",
       "  <tbody>\n",
       "    <tr>\n",
       "      <th>F</th>\n",
       "      <td>3923.752901</td>\n",
       "    </tr>\n",
       "    <tr>\n",
       "      <th>M</th>\n",
       "      <td>12620.955701</td>\n",
       "    </tr>\n",
       "  </tbody>\n",
       "</table>\n",
       "</div>"
      ],
      "text/plain": [
       "        Credit_Limit\n",
       "Gender              \n",
       "F        3923.752901\n",
       "M       12620.955701"
      ]
     },
     "execution_count": 18,
     "metadata": {},
     "output_type": "execute_result"
    }
   ],
   "source": [
    "# to get the average credit limit for both genders:\n",
    "pd.pivot_table(card, values='Credit_Limit', index='Gender') # default function for 'values' is mean "
   ]
  },
  {
   "cell_type": "code",
   "execution_count": 20,
   "metadata": {},
   "outputs": [
    {
     "data": {
      "text/plain": [
       "0    0.84092\n",
       "1    0.15908\n",
       "Name: Attrition, dtype: float64"
      ]
     },
     "execution_count": 20,
     "metadata": {},
     "output_type": "execute_result"
    }
   ],
   "source": [
    "# to get the percentage of the existing and churned customers:\n",
    "card['Attrition'].value_counts(normalize=True)\n"
   ]
  },
  {
   "cell_type": "code",
   "execution_count": 17,
   "metadata": {
    "scrolled": true
   },
   "outputs": [
    {
     "data": {
      "text/html": [
       "<div>\n",
       "<style scoped>\n",
       "    .dataframe tbody tr th:only-of-type {\n",
       "        vertical-align: middle;\n",
       "    }\n",
       "\n",
       "    .dataframe tbody tr th {\n",
       "        vertical-align: top;\n",
       "    }\n",
       "\n",
       "    .dataframe thead th {\n",
       "        text-align: right;\n",
       "    }\n",
       "</style>\n",
       "<table border=\"1\" class=\"dataframe\">\n",
       "  <thead>\n",
       "    <tr style=\"text-align: right;\">\n",
       "      <th></th>\n",
       "      <th>Attrition</th>\n",
       "      <th>Credit_Limit</th>\n",
       "      <th>Total_Revolving_Bal</th>\n",
       "      <th>Avg_Open_To_Buy</th>\n",
       "      <th>Total_Trans_Amt</th>\n",
       "      <th>Avg_Utilization_Ratio</th>\n",
       "    </tr>\n",
       "  </thead>\n",
       "  <tbody>\n",
       "    <tr>\n",
       "      <th>Attrition</th>\n",
       "      <td>1.000000</td>\n",
       "      <td>-0.018300</td>\n",
       "      <td>-0.265673</td>\n",
       "      <td>0.005451</td>\n",
       "      <td>-0.160422</td>\n",
       "      <td>-0.185231</td>\n",
       "    </tr>\n",
       "    <tr>\n",
       "      <th>Credit_Limit</th>\n",
       "      <td>-0.018300</td>\n",
       "      <td>1.000000</td>\n",
       "      <td>0.045030</td>\n",
       "      <td>0.996004</td>\n",
       "      <td>0.167746</td>\n",
       "      <td>-0.482457</td>\n",
       "    </tr>\n",
       "    <tr>\n",
       "      <th>Total_Revolving_Bal</th>\n",
       "      <td>-0.265673</td>\n",
       "      <td>0.045030</td>\n",
       "      <td>1.000000</td>\n",
       "      <td>-0.044371</td>\n",
       "      <td>0.057583</td>\n",
       "      <td>0.625420</td>\n",
       "    </tr>\n",
       "    <tr>\n",
       "      <th>Avg_Open_To_Buy</th>\n",
       "      <td>0.005451</td>\n",
       "      <td>0.996004</td>\n",
       "      <td>-0.044371</td>\n",
       "      <td>1.000000</td>\n",
       "      <td>0.162603</td>\n",
       "      <td>-0.538385</td>\n",
       "    </tr>\n",
       "    <tr>\n",
       "      <th>Total_Trans_Amt</th>\n",
       "      <td>-0.160422</td>\n",
       "      <td>0.167746</td>\n",
       "      <td>0.057583</td>\n",
       "      <td>0.162603</td>\n",
       "      <td>1.000000</td>\n",
       "      <td>-0.091037</td>\n",
       "    </tr>\n",
       "    <tr>\n",
       "      <th>Avg_Utilization_Ratio</th>\n",
       "      <td>-0.185231</td>\n",
       "      <td>-0.482457</td>\n",
       "      <td>0.625420</td>\n",
       "      <td>-0.538385</td>\n",
       "      <td>-0.091037</td>\n",
       "      <td>1.000000</td>\n",
       "    </tr>\n",
       "  </tbody>\n",
       "</table>\n",
       "</div>"
      ],
      "text/plain": [
       "                       Attrition  Credit_Limit  Total_Revolving_Bal  \\\n",
       "Attrition               1.000000     -0.018300            -0.265673   \n",
       "Credit_Limit           -0.018300      1.000000             0.045030   \n",
       "Total_Revolving_Bal    -0.265673      0.045030             1.000000   \n",
       "Avg_Open_To_Buy         0.005451      0.996004            -0.044371   \n",
       "Total_Trans_Amt        -0.160422      0.167746             0.057583   \n",
       "Avg_Utilization_Ratio  -0.185231     -0.482457             0.625420   \n",
       "\n",
       "                       Avg_Open_To_Buy  Total_Trans_Amt  Avg_Utilization_Ratio  \n",
       "Attrition                     0.005451        -0.160422              -0.185231  \n",
       "Credit_Limit                  0.996004         0.167746              -0.482457  \n",
       "Total_Revolving_Bal          -0.044371         0.057583               0.625420  \n",
       "Avg_Open_To_Buy               1.000000         0.162603              -0.538385  \n",
       "Total_Trans_Amt               0.162603         1.000000              -0.091037  \n",
       "Avg_Utilization_Ratio        -0.538385        -0.091037               1.000000  "
      ]
     },
     "execution_count": 17,
     "metadata": {},
     "output_type": "execute_result"
    }
   ],
   "source": [
    "# the correlation between 'Attrition' (DV)and the selected desired columns\n",
    "# (independent variables):\n",
    "card[['Attrition','Credit_Limit','Total_Revolving_Bal','Avg_Open_To_Buy',\n",
    "      'Total_Trans_Amt','Avg_Utilization_Ratio']].corr()\n",
    "\n"
   ]
  },
  {
   "cell_type": "code",
   "execution_count": 18,
   "metadata": {},
   "outputs": [],
   "source": [
    "# Here is the range of the correlation for interpretation:\n",
    "# zero: no correlation\n",
    "# weak (or negligible) correlation range between 0.0 - 0.3\n",
    "# low correlation 0.3 - 0.5\n",
    "# moderaye correlation 0.5 -0.7\n",
    "# strong (high) correlation 0.7 - 0.9\n",
    "# very high correlation 0.9 \n",
    "# perfect correlation 1.0\n",
    "\n",
    "# there is a very high correlation (0.996) between Avg_Open_To_Buy AND Credit limit \n",
    "# (this is a pre-warning that we must drop one of these independent variables).\n",
    "#Total_Revolving_Balance has a negligible correlation (0.045) with Credit Limit \n",
    "# and Total Transaction amount (0.0575) .\n",
    "\n"
   ]
  },
  {
   "cell_type": "code",
   "execution_count": 20,
   "metadata": {},
   "outputs": [],
   "source": [
    "#'Attrition' is negatively correlated with most of the independent variables \n",
    "# which is reasonable. For example: the higher the credit limit, th elower the chance of attrition."
   ]
  },
  {
   "cell_type": "code",
   "execution_count": 21,
   "metadata": {},
   "outputs": [
    {
     "data": {
      "text/plain": [
       "Index(['CLIENTNUM', 'Attrition_Flag', 'Customer_Age', 'Gender',\n",
       "       'Dependent_count', 'Education_Level', 'Marital_Status',\n",
       "       'Income_Category', 'Card_Category', 'Months_on_book',\n",
       "       'Total_Relationship_Count', 'Months_Inactive_12_mon',\n",
       "       'Contacts_Count_12_mon', 'Credit_Limit', 'Total_Revolving_Bal',\n",
       "       'Avg_Open_To_Buy', 'Total_Amt_Chng_Q4_Q1', 'Total_Trans_Amt',\n",
       "       'Total_Trans_Ct', 'Total_Ct_Chng_Q4_Q1', 'Avg_Utilization_Ratio',\n",
       "       'Attrition'],\n",
       "      dtype='object')"
      ]
     },
     "execution_count": 21,
     "metadata": {},
     "output_type": "execute_result"
    }
   ],
   "source": [
    "card.columns"
   ]
  },
  {
   "cell_type": "code",
   "execution_count": 26,
   "metadata": {},
   "outputs": [
    {
     "data": {
      "image/png": "[encoded data removed]",
      "text/plain": [
       "<Figure size 720x720 with 2 Axes>"
      ]
     },
     "metadata": {
      "needs_background": "light"
     },
     "output_type": "display_data"
    }
   ],
   "source": [
    "# creating a heatmap for the numerial columns:\n",
    "plt.subplots(figsize=(10,10))\n",
    "\n",
    "sns.heatmap(card[['Dependent_count','Months_on_book',\n",
    "       'Total_Relationship_Count', 'Months_Inactive_12_mon',\n",
    "       'Contacts_Count_12_mon', 'Credit_Limit', 'Total_Revolving_Bal',\n",
    "       'Avg_Open_To_Buy', 'Total_Amt_Chng_Q4_Q1', 'Total_Trans_Amt',\n",
    "       'Total_Trans_Ct', 'Total_Ct_Chng_Q4_Q1', 'Avg_Utilization_Ratio',\n",
    "       'Attrition']].corr(), annot=True, cmap='YlGnBu', linewidths=.8)\n",
    "plt.show()"
   ]
  },
  {
   "cell_type": "code",
   "execution_count": 23,
   "metadata": {},
   "outputs": [
    {
     "data": {
      "text/plain": [
       "<function matplotlib.pyplot.show(*args, **kw)>"
      ]
     },
     "execution_count": 23,
     "metadata": {},
     "output_type": "execute_result"
    },
    {
     "data": {
      "image/png": "[encoded data removed]",
      "text/plain": [
       "<Figure size 432x288 with 1 Axes>"
      ]
     },
     "metadata": {
      "needs_background": "light"
     },
     "output_type": "display_data"
    }
   ],
   "source": [
    "# another way of showing perfect correlation between credit limit and 'Avg_Open_To_Buy':\n",
    "plt.scatter(x=card['Credit_Limit'], y=card['Avg_Open_To_Buy'])\n",
    "plt.show"
   ]
  },
  {
   "cell_type": "code",
   "execution_count": 173,
   "metadata": {
    "scrolled": false
   },
   "outputs": [
    {
     "data": {
      "text/plain": [
       "Attrition                   1.000000\n",
       "Credit_Limit               -0.015815\n",
       "Dependent_count             0.011423\n",
       "Months_on_book              0.009249\n",
       "Total_Relationship_Count   -0.145713\n",
       "Months_Inactive_12_mon      0.152732\n",
       "Contacts_Count_12_mon       0.193923\n",
       "Credit_Limit               -0.015815\n",
       "Total_Revolving_Bal        -0.265380\n",
       "Total_Amt_Chng_Q4_Q1       -0.132702\n",
       "Total_Trans_Amt            -0.160378\n",
       "Total_Trans_Ct             -0.357261\n",
       "Total_Ct_Chng_Q4_Q1        -0.280460\n",
       "Avg_Utilization_Ratio      -0.183984\n",
       "Name: Attrition, dtype: float64"
      ]
     },
     "execution_count": 173,
     "metadata": {},
     "output_type": "execute_result"
    }
   ],
   "source": [
    "# based on the heatmap, we drop 'Avg_Open_To_Buy' due to perfect correlation with credit limit: \n",
    "#but we are only interested in the interactions between dependent variable 'Attrition' \n",
    "# and our selected independent varaibles:   \n",
    "card[['Attrition', 'Credit_Limit','Dependent_count','Months_on_book',\n",
    "       'Total_Relationship_Count', 'Months_Inactive_12_mon',\n",
    "       'Contacts_Count_12_mon', 'Credit_Limit', 'Total_Revolving_Bal',\n",
    "       'Total_Amt_Chng_Q4_Q1', 'Total_Trans_Amt',\n",
    "       'Total_Trans_Ct', 'Total_Ct_Chng_Q4_Q1', 'Avg_Utilization_Ratio']].corr()['Attrition']\n",
    "\n"
   ]
  },
  {
   "cell_type": "code",
   "execution_count": 175,
   "metadata": {},
   "outputs": [
    {
     "data": {
      "text/plain": [
       "Attrition                   1.000000\n",
       "Total_Relationship_Count   -0.145713\n",
       "Months_Inactive_12_mon      0.152732\n",
       "Contacts_Count_12_mon       0.193923\n",
       "Credit_Limit               -0.015815\n",
       "Total_Revolving_Bal        -0.265380\n",
       "Total_Amt_Chng_Q4_Q1       -0.132702\n",
       "Total_Trans_Amt            -0.160378\n",
       "Total_Trans_Ct             -0.357261\n",
       "Total_Ct_Chng_Q4_Q1        -0.280460\n",
       "Avg_Utilization_Ratio      -0.183984\n",
       "Name: Attrition, dtype: float64"
      ]
     },
     "execution_count": 175,
     "metadata": {},
     "output_type": "execute_result"
    }
   ],
   "source": [
    "#based on the above we can see that 'Dependent_count','Months_on_book' are not important,\n",
    "# so we drop them\n",
    "card[['Attrition',\n",
    "       'Total_Relationship_Count', 'Months_Inactive_12_mon',\n",
    "       'Contacts_Count_12_mon', 'Credit_Limit','Total_Revolving_Bal',\n",
    "       'Total_Amt_Chng_Q4_Q1', 'Total_Trans_Amt',\n",
    "       'Total_Trans_Ct', 'Total_Ct_Chng_Q4_Q1', 'Avg_Utilization_Ratio']].corr()['Attrition']\n",
    "\n"
   ]
  },
  {
   "cell_type": "code",
   "execution_count": 25,
   "metadata": {},
   "outputs": [],
   "source": [
    "# if we are interested in pairplot, we can use the below command:\n",
    "#sns.pairplot(card)\n",
    "#plt.show()"
   ]
  },
  {
   "cell_type": "code",
   "execution_count": 27,
   "metadata": {},
   "outputs": [
    {
     "data": {
      "image/png": "[encoded data removed]",
      "text/plain": [
       "<Figure size 432x288 with 1 Axes>"
      ]
     },
     "metadata": {
      "needs_background": "light"
     },
     "output_type": "display_data"
    }
   ],
   "source": [
    "plt.scatter(x=card['Avg_Utilization_Ratio'], y=card['Credit_Limit'])\n",
    "plt.show()"
   ]
  },
  {
   "cell_type": "code",
   "execution_count": 36,
   "metadata": {},
   "outputs": [
    {
     "data": {
      "image/png": "[encoded data removed]",
      "text/plain": [
       "<Figure size 360x360 with 1 Axes>"
      ]
     },
     "metadata": {},
     "output_type": "display_data"
    }
   ],
   "source": [
    "# to depict a pie chart for Gender:\n",
    "card['Gender'].value_counts().plot.pie(autopct=\"%1.1f%%\",explode=(0.05,0), radius=1.5,startangle=90,shadow=True)\n",
    "plt.rcParams['figure.figsize'] = (5, 5)\n",
    "\n",
    "#plt.title ('pie chart of Gender')\n",
    "plt.show()"
   ]
  },
  {
   "cell_type": "code",
   "execution_count": 40,
   "metadata": {},
   "outputs": [
    {
     "data": {
      "image/png": "[encoded data removed]",
      "text/plain": [
       "<Figure size 576x576 with 1 Axes>"
      ]
     },
     "metadata": {},
     "output_type": "display_data"
    }
   ],
   "source": [
    "card['Card_Category'].value_counts().plot.pie(autopct=\"%1.1f%%\")\n",
    "\n",
    "#plt.title ('Card_Category')\n",
    "plt.rcParams['figure.figsize'] = (8, 8)\n",
    "#grid=True"
   ]
  },
  {
   "cell_type": "code",
   "execution_count": 41,
   "metadata": {},
   "outputs": [
    {
     "data": {
      "image/png": "[encoded data removed]",
      "text/plain": [
       "<Figure size 576x576 with 1 Axes>"
      ]
     },
     "metadata": {
      "needs_background": "light"
     },
     "output_type": "display_data"
    }
   ],
   "source": [
    "#plt.subplots(figsize=(10,8))\n",
    "sns.barplot(x=card['Customer_Age'], y=card['Customer_Age'].value_counts())\n",
    "plt.xlabel ('Customer Age')\n",
    "plt.ylabel ('Number of Customers')\n",
    "plt.title('Age Analysis')\n",
    "plt.show()\n"
   ]
  },
  {
   "cell_type": "code",
   "execution_count": 33,
   "metadata": {},
   "outputs": [
    {
     "data": {
      "image/png": "[encoded data removed]",
      "text/plain": [
       "<Figure size 576x576 with 1 Axes>"
      ]
     },
     "metadata": {
      "needs_background": "light"
     },
     "output_type": "display_data"
    }
   ],
   "source": [
    "card['Customer_Age'].hist(bins=80)\n",
    "plt.xlabel ('Customer Age')\n",
    "plt.ylabel ('Frequency')\n",
    "plt.title ('Customer Age')\n",
    "plt.show()"
   ]
  },
  {
   "cell_type": "code",
   "execution_count": 34,
   "metadata": {},
   "outputs": [
    {
     "data": {
      "image/png": "[encoded data removed]",
      "text/plain": [
       "<Figure size 576x576 with 1 Axes>"
      ]
     },
     "metadata": {
      "needs_background": "light"
     },
     "output_type": "display_data"
    }
   ],
   "source": [
    "sns.violinplot(card['Customer_Age'], grid=True, palette='Set3')\n",
    "#plt.xticks(rotation=90)\n",
    "plt.title ('violin plot for age')\n",
    "plt.show()"
   ]
  },
  {
   "cell_type": "code",
   "execution_count": 182,
   "metadata": {
    "scrolled": true
   },
   "outputs": [
    {
     "data": {
      "text/html": [
       "<div>\n",
       "<style scoped>\n",
       "    .dataframe tbody tr th:only-of-type {\n",
       "        vertical-align: middle;\n",
       "    }\n",
       "\n",
       "    .dataframe tbody tr th {\n",
       "        vertical-align: top;\n",
       "    }\n",
       "\n",
       "    .dataframe thead th {\n",
       "        text-align: right;\n",
       "    }\n",
       "</style>\n",
       "<table border=\"1\" class=\"dataframe\">\n",
       "  <thead>\n",
       "    <tr style=\"text-align: right;\">\n",
       "      <th></th>\n",
       "      <th>Total_Relationship_Count</th>\n",
       "      <th>Months_Inactive_12_mon</th>\n",
       "      <th>Contacts_Count_12_mon</th>\n",
       "      <th>Credit_Limit</th>\n",
       "      <th>Total_Revolving_Bal</th>\n",
       "      <th>Total_Amt_Chng_Q4_Q1</th>\n",
       "      <th>Total_Trans_Amt</th>\n",
       "      <th>Total_Trans_Ct</th>\n",
       "      <th>Total_Ct_Chng_Q4_Q1</th>\n",
       "      <th>Avg_Utilization_Ratio</th>\n",
       "    </tr>\n",
       "  </thead>\n",
       "  <tbody>\n",
       "    <tr>\n",
       "      <th>0</th>\n",
       "      <td>5</td>\n",
       "      <td>1</td>\n",
       "      <td>3</td>\n",
       "      <td>12691.0</td>\n",
       "      <td>777</td>\n",
       "      <td>1.335</td>\n",
       "      <td>1144</td>\n",
       "      <td>42</td>\n",
       "      <td>1.625</td>\n",
       "      <td>0.061</td>\n",
       "    </tr>\n",
       "    <tr>\n",
       "      <th>1</th>\n",
       "      <td>6</td>\n",
       "      <td>1</td>\n",
       "      <td>2</td>\n",
       "      <td>8256.0</td>\n",
       "      <td>864</td>\n",
       "      <td>1.541</td>\n",
       "      <td>1291</td>\n",
       "      <td>33</td>\n",
       "      <td>3.714</td>\n",
       "      <td>0.105</td>\n",
       "    </tr>\n",
       "    <tr>\n",
       "      <th>2</th>\n",
       "      <td>4</td>\n",
       "      <td>1</td>\n",
       "      <td>0</td>\n",
       "      <td>3418.0</td>\n",
       "      <td>0</td>\n",
       "      <td>2.594</td>\n",
       "      <td>1887</td>\n",
       "      <td>20</td>\n",
       "      <td>2.333</td>\n",
       "      <td>0.000</td>\n",
       "    </tr>\n",
       "    <tr>\n",
       "      <th>4</th>\n",
       "      <td>5</td>\n",
       "      <td>1</td>\n",
       "      <td>0</td>\n",
       "      <td>4716.0</td>\n",
       "      <td>0</td>\n",
       "      <td>2.175</td>\n",
       "      <td>816</td>\n",
       "      <td>28</td>\n",
       "      <td>2.500</td>\n",
       "      <td>0.000</td>\n",
       "    </tr>\n",
       "    <tr>\n",
       "      <th>5</th>\n",
       "      <td>3</td>\n",
       "      <td>1</td>\n",
       "      <td>2</td>\n",
       "      <td>4010.0</td>\n",
       "      <td>1247</td>\n",
       "      <td>1.376</td>\n",
       "      <td>1088</td>\n",
       "      <td>24</td>\n",
       "      <td>0.846</td>\n",
       "      <td>0.311</td>\n",
       "    </tr>\n",
       "  </tbody>\n",
       "</table>\n",
       "</div>"
      ],
      "text/plain": [
       "   Total_Relationship_Count  Months_Inactive_12_mon  Contacts_Count_12_mon  \\\n",
       "0                         5                       1                      3   \n",
       "1                         6                       1                      2   \n",
       "2                         4                       1                      0   \n",
       "4                         5                       1                      0   \n",
       "5                         3                       1                      2   \n",
       "\n",
       "   Credit_Limit  Total_Revolving_Bal  Total_Amt_Chng_Q4_Q1  Total_Trans_Amt  \\\n",
       "0       12691.0                  777                 1.335             1144   \n",
       "1        8256.0                  864                 1.541             1291   \n",
       "2        3418.0                    0                 2.594             1887   \n",
       "4        4716.0                    0                 2.175              816   \n",
       "5        4010.0                 1247                 1.376             1088   \n",
       "\n",
       "   Total_Trans_Ct  Total_Ct_Chng_Q4_Q1  Avg_Utilization_Ratio  \n",
       "0              42                1.625                  0.061  \n",
       "1              33                3.714                  0.105  \n",
       "2              20                2.333                  0.000  \n",
       "4              28                2.500                  0.000  \n",
       "5              24                0.846                  0.311  "
      ]
     },
     "execution_count": 182,
     "metadata": {},
     "output_type": "execute_result"
    }
   ],
   "source": [
    "# lets take the numeric columns, and drop the variables that have the least correlation with attrition:\n",
    "num = card.select_dtypes(include=np.number)\n",
    "num= num.drop(num[['CLIENTNUM','Attrition', 'Customer_Age', 'Dependent_count','Months_on_book', 'Avg_Open_To_Buy']], axis=1)\n",
    "num.head()\n"
   ]
  },
  {
   "cell_type": "code",
   "execution_count": 183,
   "metadata": {},
   "outputs": [],
   "source": [
    "# since the range of the data is very high, it is better to normalise the data between 0 and 1 using minMaxScaler:\n",
    "from sklearn.preprocessing import MinMaxScaler\n",
    "scaler = MinMaxScaler()\n",
    "num1= pd.DataFrame(scaler.fit_transform(num), columns=num.columns, index=num.index)\n",
    "#num1.head()"
   ]
  },
  {
   "cell_type": "code",
   "execution_count": 184,
   "metadata": {},
   "outputs": [],
   "source": [
    "# we extract the desired columns form the original dataframe:\n",
    "num2= card[['Attrition','CLIENTNUM', 'Attrition_Flag', 'Customer_Age', 'Gender',\n",
    "       'Dependent_count', 'Education_Level', 'Marital_Status',\n",
    "       'Income_Category', 'Card_Category']]"
   ]
  },
  {
   "cell_type": "code",
   "execution_count": 185,
   "metadata": {
    "scrolled": false
   },
   "outputs": [
    {
     "data": {
      "text/html": [
       "<div>\n",
       "<style scoped>\n",
       "    .dataframe tbody tr th:only-of-type {\n",
       "        vertical-align: middle;\n",
       "    }\n",
       "\n",
       "    .dataframe tbody tr th {\n",
       "        vertical-align: top;\n",
       "    }\n",
       "\n",
       "    .dataframe thead th {\n",
       "        text-align: right;\n",
       "    }\n",
       "</style>\n",
       "<table border=\"1\" class=\"dataframe\">\n",
       "  <thead>\n",
       "    <tr style=\"text-align: right;\">\n",
       "      <th></th>\n",
       "      <th>Attrition</th>\n",
       "      <th>CLIENTNUM</th>\n",
       "      <th>Attrition_Flag</th>\n",
       "      <th>Customer_Age</th>\n",
       "      <th>Gender</th>\n",
       "      <th>Dependent_count</th>\n",
       "      <th>Education_Level</th>\n",
       "      <th>Marital_Status</th>\n",
       "      <th>Income_Category</th>\n",
       "      <th>Card_Category</th>\n",
       "      <th>Total_Relationship_Count</th>\n",
       "      <th>Months_Inactive_12_mon</th>\n",
       "      <th>Contacts_Count_12_mon</th>\n",
       "      <th>Credit_Limit</th>\n",
       "      <th>Total_Revolving_Bal</th>\n",
       "      <th>Total_Amt_Chng_Q4_Q1</th>\n",
       "      <th>Total_Trans_Amt</th>\n",
       "      <th>Total_Trans_Ct</th>\n",
       "      <th>Total_Ct_Chng_Q4_Q1</th>\n",
       "      <th>Avg_Utilization_Ratio</th>\n",
       "    </tr>\n",
       "  </thead>\n",
       "  <tbody>\n",
       "    <tr>\n",
       "      <th>0</th>\n",
       "      <td>0</td>\n",
       "      <td>768805383</td>\n",
       "      <td>Existing Customer</td>\n",
       "      <td>45</td>\n",
       "      <td>M</td>\n",
       "      <td>3</td>\n",
       "      <td>High School</td>\n",
       "      <td>Married</td>\n",
       "      <td>$60K - $80K</td>\n",
       "      <td>Blue</td>\n",
       "      <td>0.8</td>\n",
       "      <td>0.166667</td>\n",
       "      <td>0.500000</td>\n",
       "      <td>0.340190</td>\n",
       "      <td>0.308701</td>\n",
       "      <td>0.392994</td>\n",
       "      <td>0.036260</td>\n",
       "      <td>0.258065</td>\n",
       "      <td>0.437534</td>\n",
       "      <td>0.061061</td>\n",
       "    </tr>\n",
       "    <tr>\n",
       "      <th>1</th>\n",
       "      <td>0</td>\n",
       "      <td>818770008</td>\n",
       "      <td>Existing Customer</td>\n",
       "      <td>49</td>\n",
       "      <td>F</td>\n",
       "      <td>5</td>\n",
       "      <td>Graduate</td>\n",
       "      <td>Single</td>\n",
       "      <td>Less than $40K</td>\n",
       "      <td>Blue</td>\n",
       "      <td>1.0</td>\n",
       "      <td>0.166667</td>\n",
       "      <td>0.333333</td>\n",
       "      <td>0.206112</td>\n",
       "      <td>0.343266</td>\n",
       "      <td>0.453636</td>\n",
       "      <td>0.044667</td>\n",
       "      <td>0.185484</td>\n",
       "      <td>1.000000</td>\n",
       "      <td>0.105105</td>\n",
       "    </tr>\n",
       "    <tr>\n",
       "      <th>2</th>\n",
       "      <td>0</td>\n",
       "      <td>713982108</td>\n",
       "      <td>Existing Customer</td>\n",
       "      <td>51</td>\n",
       "      <td>M</td>\n",
       "      <td>3</td>\n",
       "      <td>Graduate</td>\n",
       "      <td>Married</td>\n",
       "      <td>$80K - $120K</td>\n",
       "      <td>Blue</td>\n",
       "      <td>0.6</td>\n",
       "      <td>0.166667</td>\n",
       "      <td>0.000000</td>\n",
       "      <td>0.059850</td>\n",
       "      <td>0.000000</td>\n",
       "      <td>0.763615</td>\n",
       "      <td>0.078753</td>\n",
       "      <td>0.080645</td>\n",
       "      <td>0.628164</td>\n",
       "      <td>0.000000</td>\n",
       "    </tr>\n",
       "    <tr>\n",
       "      <th>4</th>\n",
       "      <td>0</td>\n",
       "      <td>709106358</td>\n",
       "      <td>Existing Customer</td>\n",
       "      <td>40</td>\n",
       "      <td>M</td>\n",
       "      <td>3</td>\n",
       "      <td>Uneducated</td>\n",
       "      <td>Married</td>\n",
       "      <td>$60K - $80K</td>\n",
       "      <td>Blue</td>\n",
       "      <td>0.8</td>\n",
       "      <td>0.166667</td>\n",
       "      <td>0.000000</td>\n",
       "      <td>0.099091</td>\n",
       "      <td>0.000000</td>\n",
       "      <td>0.640271</td>\n",
       "      <td>0.017501</td>\n",
       "      <td>0.145161</td>\n",
       "      <td>0.673129</td>\n",
       "      <td>0.000000</td>\n",
       "    </tr>\n",
       "    <tr>\n",
       "      <th>5</th>\n",
       "      <td>0</td>\n",
       "      <td>713061558</td>\n",
       "      <td>Existing Customer</td>\n",
       "      <td>44</td>\n",
       "      <td>M</td>\n",
       "      <td>2</td>\n",
       "      <td>Graduate</td>\n",
       "      <td>Married</td>\n",
       "      <td>$40K - $60K</td>\n",
       "      <td>Blue</td>\n",
       "      <td>0.4</td>\n",
       "      <td>0.166667</td>\n",
       "      <td>0.333333</td>\n",
       "      <td>0.077747</td>\n",
       "      <td>0.495431</td>\n",
       "      <td>0.405063</td>\n",
       "      <td>0.033057</td>\n",
       "      <td>0.112903</td>\n",
       "      <td>0.227787</td>\n",
       "      <td>0.311311</td>\n",
       "    </tr>\n",
       "  </tbody>\n",
       "</table>\n",
       "</div>"
      ],
      "text/plain": [
       "   Attrition  CLIENTNUM     Attrition_Flag  Customer_Age Gender  \\\n",
       "0          0  768805383  Existing Customer            45      M   \n",
       "1          0  818770008  Existing Customer            49      F   \n",
       "2          0  713982108  Existing Customer            51      M   \n",
       "4          0  709106358  Existing Customer            40      M   \n",
       "5          0  713061558  Existing Customer            44      M   \n",
       "\n",
       "   Dependent_count Education_Level Marital_Status Income_Category  \\\n",
       "0                3     High School        Married     $60K - $80K   \n",
       "1                5        Graduate         Single  Less than $40K   \n",
       "2                3        Graduate        Married    $80K - $120K   \n",
       "4                3      Uneducated        Married     $60K - $80K   \n",
       "5                2        Graduate        Married     $40K - $60K   \n",
       "\n",
       "  Card_Category  Total_Relationship_Count  Months_Inactive_12_mon  \\\n",
       "0          Blue                       0.8                0.166667   \n",
       "1          Blue                       1.0                0.166667   \n",
       "2          Blue                       0.6                0.166667   \n",
       "4          Blue                       0.8                0.166667   \n",
       "5          Blue                       0.4                0.166667   \n",
       "\n",
       "   Contacts_Count_12_mon  Credit_Limit  Total_Revolving_Bal  \\\n",
       "0               0.500000      0.340190             0.308701   \n",
       "1               0.333333      0.206112             0.343266   \n",
       "2               0.000000      0.059850             0.000000   \n",
       "4               0.000000      0.099091             0.000000   \n",
       "5               0.333333      0.077747             0.495431   \n",
       "\n",
       "   Total_Amt_Chng_Q4_Q1  Total_Trans_Amt  Total_Trans_Ct  Total_Ct_Chng_Q4_Q1  \\\n",
       "0              0.392994         0.036260        0.258065             0.437534   \n",
       "1              0.453636         0.044667        0.185484             1.000000   \n",
       "2              0.763615         0.078753        0.080645             0.628164   \n",
       "4              0.640271         0.017501        0.145161             0.673129   \n",
       "5              0.405063         0.033057        0.112903             0.227787   \n",
       "\n",
       "   Avg_Utilization_Ratio  \n",
       "0               0.061061  \n",
       "1               0.105105  \n",
       "2               0.000000  \n",
       "4               0.000000  \n",
       "5               0.311311  "
      ]
     },
     "execution_count": 185,
     "metadata": {},
     "output_type": "execute_result"
    }
   ],
   "source": [
    "# now we should merge num1 and num2 dataframes:\n",
    "\n",
    "card1=pd.concat([num2, num1], axis=1)\n",
    "#card1.head()\n",
    "card1.head()"
   ]
  },
  {
   "cell_type": "code",
   "execution_count": 191,
   "metadata": {},
   "outputs": [
    {
     "data": {
      "text/plain": [
       "Index(['Attrition', 'CLIENTNUM', 'Attrition_Flag', 'Customer_Age', 'Gender',\n",
       "       'Dependent_count', 'Education_Level', 'Marital_Status',\n",
       "       'Income_Category', 'Card_Category', 'Total_Relationship_Count',\n",
       "       'Months_Inactive_12_mon', 'Contacts_Count_12_mon', 'Credit_Limit',\n",
       "       'Total_Revolving_Bal', 'Total_Amt_Chng_Q4_Q1', 'Total_Trans_Amt',\n",
       "       'Total_Trans_Ct', 'Total_Ct_Chng_Q4_Q1', 'Avg_Utilization_Ratio'],\n",
       "      dtype='object')"
      ]
     },
     "execution_count": 191,
     "metadata": {},
     "output_type": "execute_result"
    }
   ],
   "source": [
    "card1.columns"
   ]
  },
  {
   "cell_type": "code",
   "execution_count": 54,
   "metadata": {},
   "outputs": [],
   "source": [
    "#Another way to normalise a specific column using mathematic formula:\n",
    "\n",
    "#card['Credit_Limit']=(card['Credit_Limit']-min(card['Credit_Limit']))/(card['Credit_Limit'].max()-card['Credit_Limit'].min())\n",
    "# the returned values are between 0 & 1.\n",
    "# formula = (x-xmin)/(xmax-xmin)\n"
   ]
  },
  {
   "cell_type": "code",
   "execution_count": 189,
   "metadata": {},
   "outputs": [
    {
     "data": {
      "text/plain": [
       "<matplotlib.collections.PathCollection at 0x7fb86df95430>"
      ]
     },
     "execution_count": 189,
     "metadata": {},
     "output_type": "execute_result"
    },
    {
     "data": {
      "image/png": "[encoded data removed]",
      "text/plain": [
       "<Figure size 576x576 with 1 Axes>"
      ]
     },
     "metadata": {
      "needs_background": "light"
     },
     "output_type": "display_data"
    }
   ],
   "source": [
    "# Scatter between the mean of credit limit for each age category:\n",
    "\n",
    "plt.scatter(x = card1.groupby('Customer_Age')['Credit_Limit'].mean().reset_index()['Customer_Age'], \n",
    "            y = card1.groupby('Customer_Age')['Credit_Limit'].mean().reset_index()['Credit_Limit'])\n",
    "\n"
   ]
  },
  {
   "cell_type": "code",
   "execution_count": 56,
   "metadata": {},
   "outputs": [],
   "source": [
    "# when there is a U-shape relationship between x and y and we want to use regression, then we should \n",
    "# square the independent variable. In this case y= credit limit, x= customer age:\n",
    "# to know more about this type of regression : \n",
    "#https://www.theanalysisfactor.com/regression-modelshow-do-you-know-you-need-a-polynomial/"
   ]
  },
  {
   "cell_type": "markdown",
   "metadata": {},
   "source": [
    "### Logistic Regression"
   ]
  },
  {
   "cell_type": "code",
   "execution_count": 194,
   "metadata": {
    "scrolled": true
   },
   "outputs": [
    {
     "name": "stdout",
     "output_type": "stream",
     "text": [
      "Optimization terminated successfully.\n",
      "         Current function value: 0.245586\n",
      "         Iterations 8\n",
      "                           Logit Regression Results                           \n",
      "==============================================================================\n",
      "Dep. Variable:              Attrition   No. Observations:                 7081\n",
      "Model:                          Logit   Df Residuals:                     7070\n",
      "Method:                           MLE   Df Model:                           10\n",
      "Date:                Sun, 10 Oct 2021   Pseudo R-squ.:                  0.4354\n",
      "Time:                        08:53:52   Log-Likelihood:                -1739.0\n",
      "converged:                       True   LL-Null:                       -3080.0\n",
      "Covariance Type:            nonrobust   LLR p-value:                     0.000\n",
      "============================================================================================\n",
      "                               coef    std err          z      P>|z|      [0.025      0.975]\n",
      "--------------------------------------------------------------------------------------------\n",
      "const                        3.6716      0.277     13.275      0.000       3.130       4.214\n",
      "Total_Relationship_Count    -2.2286      0.160    -13.890      0.000      -2.543      -1.914\n",
      "Months_Inactive_12_mon       2.9674      0.268     11.064      0.000       2.442       3.493\n",
      "Contacts_Count_12_mon        2.6585      0.250     10.630      0.000       2.168       3.149\n",
      "Credit_Limit                -0.3079      0.195     -1.576      0.115      -0.691       0.075\n",
      "Total_Revolving_Bal         -2.4892      0.210    -11.833      0.000      -2.902      -2.077\n",
      "Total_Amt_Chng_Q4_Q1        -1.5277      0.730     -2.092      0.036      -2.959      -0.096\n",
      "Total_Trans_Amt              7.5797      0.447     16.956      0.000       6.704       8.456\n",
      "Total_Trans_Ct             -13.0210      0.510    -25.524      0.000     -14.021     -12.021\n",
      "Total_Ct_Chng_Q4_Q1        -10.2346      0.814    -12.570      0.000     -11.830      -8.639\n",
      "Avg_Utilization_Ratio       -0.0419      0.282     -0.149      0.882      -0.594       0.510\n",
      "============================================================================================\n"
     ]
    }
   ],
   "source": [
    "# since we are dealing with attriotion, we should use the logistic regression with the normalised data:\n",
    "Y= card1['Attrition'] # dependent variable\n",
    "X=card1[['Total_Relationship_Count',\n",
    "       'Months_Inactive_12_mon', 'Contacts_Count_12_mon', 'Credit_Limit',\n",
    "       'Total_Revolving_Bal', 'Total_Amt_Chng_Q4_Q1', 'Total_Trans_Amt',\n",
    "       'Total_Trans_Ct', 'Total_Ct_Chng_Q4_Q1', 'Avg_Utilization_Ratio']]\n",
    "\n",
    "X=sm.add_constant(X)\n",
    "\n",
    "model=sm.Logit(Y, X).fit()\n",
    "print(model.summary())\n"
   ]
  },
  {
   "cell_type": "code",
   "execution_count": 193,
   "metadata": {},
   "outputs": [
    {
     "name": "stdout",
     "output_type": "stream",
     "text": [
      "\n",
      "====================================\n",
      "                          Attrition \n",
      "------------------------------------\n",
      "const                    3.6716***  \n",
      "                         (0.2766)   \n",
      "Total_Relationship_Count -2.2286*** \n",
      "                         (0.1605)   \n",
      "Months_Inactive_12_mon   2.9674***  \n",
      "                         (0.2682)   \n",
      "Contacts_Count_12_mon    2.6585***  \n",
      "                         (0.2501)   \n",
      "Credit_Limit             -0.3079    \n",
      "                         (0.1954)   \n",
      "Total_Revolving_Bal      -2.4892*** \n",
      "                         (0.2104)   \n",
      "Total_Amt_Chng_Q4_Q1     -1.5277**  \n",
      "                         (0.7304)   \n",
      "Total_Trans_Amt          7.5797***  \n",
      "                         (0.4470)   \n",
      "Total_Trans_Ct           -13.0210***\n",
      "                         (0.5102)   \n",
      "Total_Ct_Chng_Q4_Q1      -10.2346***\n",
      "                         (0.8142)   \n",
      "Avg_Utilization_Ratio    -0.0419    \n",
      "                         (0.2816)   \n",
      "====================================\n",
      "Standard errors in parentheses.\n",
      "* p<.1, ** p<.05, ***p<.01\n"
     ]
    }
   ],
   "source": [
    "summaryL = summary_col(model,stars=True)\n",
    "print(summaryL)"
   ]
  },
  {
   "cell_type": "code",
   "execution_count": 45,
   "metadata": {},
   "outputs": [],
   "source": [
    "# interpretation of the coefficients:\n",
    "\n",
    "# 'Total_Revolving_Bal ' coefficient is negative: customers who have higher revolving balance with the bank \n",
    "# are less likely to have churned.\n",
    "# Credit_Limit coefficient is negative: customers who have higher  credit limit are less likely to have churned.\n",
    "# 'Months_Inactive_12_mon' & 'Contacts_Count_12_mon' & 'Total_Trans_Amt' coefficients are positive. It means that\n",
    "# customers who were inactive in the last 12 months, had higher number of contacts & had higher transaction amount\n",
    "# are very likely to churn. \n",
    "# when the p-value is less than 5%, the intervals will NOT contain the ZERO.\n"
   ]
  },
  {
   "cell_type": "markdown",
   "metadata": {},
   "source": [
    "### Logistic regression: educational level as dummy variable"
   ]
  },
  {
   "cell_type": "code",
   "execution_count": 195,
   "metadata": {},
   "outputs": [
    {
     "data": {
      "text/plain": [
       "Graduate         2591\n",
       "High School      1653\n",
       "Uneducated       1204\n",
       "College           844\n",
       "Post-Graduate     431\n",
       "Doctorate         358\n",
       "Name: Education_Level, dtype: int64"
      ]
     },
     "execution_count": 195,
     "metadata": {},
     "output_type": "execute_result"
    }
   ],
   "source": [
    "card1['Education_Level'].value_counts()"
   ]
  },
  {
   "cell_type": "code",
   "execution_count": 199,
   "metadata": {},
   "outputs": [
    {
     "name": "stdout",
     "output_type": "stream",
     "text": [
      "Optimization terminated successfully.\n",
      "         Current function value: 0.244980\n",
      "         Iterations 8\n",
      "                           Logit Regression Results                           \n",
      "==============================================================================\n",
      "Dep. Variable:              Attrition   No. Observations:                 7081\n",
      "Model:                          Logit   Df Residuals:                     7065\n",
      "Method:                           MLE   Df Model:                           15\n",
      "Date:                Sun, 10 Oct 2021   Pseudo R-squ.:                  0.4368\n",
      "Time:                        09:11:41   Log-Likelihood:                -1734.7\n",
      "converged:                       True   LL-Null:                       -3080.0\n",
      "Covariance Type:            nonrobust   LLR p-value:                     0.000\n",
      "============================================================================================\n",
      "                               coef    std err          z      P>|z|      [0.025      0.975]\n",
      "--------------------------------------------------------------------------------------------\n",
      "const                        3.6349      0.295     12.335      0.000       3.057       4.212\n",
      "College                      0.0680      0.168      0.405      0.686      -0.261       0.397\n",
      "Doctorate                    0.4547      0.211      2.156      0.031       0.041       0.868\n",
      "Graduate                    -0.0155      0.130     -0.119      0.905      -0.271       0.240\n",
      "High School                 -0.0818      0.143     -0.572      0.567      -0.362       0.199\n",
      "Post-Graduate                0.2277      0.205      1.113      0.266      -0.173       0.629\n",
      "Total_Relationship_Count    -2.2149      0.161    -13.779      0.000      -2.530      -1.900\n",
      "Months_Inactive_12_mon       2.9830      0.269     11.097      0.000       2.456       3.510\n",
      "Contacts_Count_12_mon        2.6639      0.250     10.642      0.000       2.173       3.154\n",
      "Credit_Limit                -0.3015      0.196     -1.538      0.124      -0.686       0.083\n",
      "Total_Revolving_Bal         -2.4885      0.211    -11.800      0.000      -2.902      -2.075\n",
      "Total_Amt_Chng_Q4_Q1        -1.5596      0.732     -2.129      0.033      -2.995      -0.124\n",
      "Total_Trans_Amt              7.6219      0.448     17.007      0.000       6.744       8.500\n",
      "Total_Trans_Ct             -13.0688      0.511    -25.551      0.000     -14.071     -12.066\n",
      "Total_Ct_Chng_Q4_Q1        -10.1741      0.815    -12.476      0.000     -11.772      -8.576\n",
      "Avg_Utilization_Ratio       -0.0384      0.282     -0.136      0.892      -0.592       0.515\n",
      "============================================================================================\n"
     ]
    }
   ],
   "source": [
    "edu=pd.get_dummies(card1['Education_Level'])\n",
    "edu.drop(['Uneducated'], axis=1, inplace=True) # we should drop one to be able to compare the result with that.\n",
    "Y= card1['Attrition'] # dependent variable\n",
    "X=card1[['Total_Relationship_Count',\n",
    "       'Months_Inactive_12_mon', 'Contacts_Count_12_mon', 'Credit_Limit',\n",
    "       'Total_Revolving_Bal', 'Total_Amt_Chng_Q4_Q1', 'Total_Trans_Amt',\n",
    "       'Total_Trans_Ct', 'Total_Ct_Chng_Q4_Q1', 'Avg_Utilization_Ratio']]\n",
    "X=pd.concat([edu, X], axis=1)\n",
    "X=sm.add_constant(X)\n",
    "\n",
    "model=sm.Logit(Y, X).fit()\n",
    "print(model.summary())"
   ]
  },
  {
   "cell_type": "code",
   "execution_count": 203,
   "metadata": {},
   "outputs": [],
   "source": [
    "# It seems that customers with'Doctorate' Educational Level are more likely to churn\n",
    "# as compared to 'Uneducated' group as the oefficients is significant."
   ]
  },
  {
   "cell_type": "markdown",
   "metadata": {},
   "source": [
    "### Logistic Regression, Marital status as Dummy Variable"
   ]
  },
  {
   "cell_type": "code",
   "execution_count": 51,
   "metadata": {},
   "outputs": [
    {
     "data": {
      "text/plain": [
       "Married     4194\n",
       "Single      3499\n",
       "Divorced     655\n",
       "Name: Marital_Status, dtype: int64"
      ]
     },
     "execution_count": 51,
     "metadata": {},
     "output_type": "execute_result"
    }
   ],
   "source": [
    "card1['Marital_Status'].value_counts()"
   ]
  },
  {
   "cell_type": "code",
   "execution_count": 197,
   "metadata": {},
   "outputs": [],
   "source": [
    "# to perform the Logistic regression with dummy variables:\n",
    "\n",
    "marital=pd.get_dummies(card1['Marital_Status'])\n",
    "marital.drop(['Single'], axis=1, inplace=True) # we should drop one to be able to compare the result with that.\n"
   ]
  },
  {
   "cell_type": "code",
   "execution_count": 202,
   "metadata": {},
   "outputs": [
    {
     "name": "stdout",
     "output_type": "stream",
     "text": [
      "Optimization terminated successfully.\n",
      "         Current function value: 0.242530\n",
      "         Iterations 8\n",
      "                           Logit Regression Results                           \n",
      "==============================================================================\n",
      "Dep. Variable:              Attrition   No. Observations:                 7081\n",
      "Model:                          Logit   Df Residuals:                     7068\n",
      "Method:                           MLE   Df Model:                           12\n",
      "Date:                Sun, 10 Oct 2021   Pseudo R-squ.:                  0.4424\n",
      "Time:                        10:10:34   Log-Likelihood:                -1717.4\n",
      "converged:                       True   LL-Null:                       -3080.0\n",
      "Covariance Type:            nonrobust   LLR p-value:                     0.000\n",
      "============================================================================================\n",
      "                               coef    std err          z      P>|z|      [0.025      0.975]\n",
      "--------------------------------------------------------------------------------------------\n",
      "const                        4.0510      0.287     14.108      0.000       3.488       4.614\n",
      "Divorced                     0.0649      0.172      0.377      0.707      -0.273       0.403\n",
      "Married                     -0.5856      0.095     -6.148      0.000      -0.772      -0.399\n",
      "Total_Relationship_Count    -2.2057      0.161    -13.678      0.000      -2.522      -1.890\n",
      "Months_Inactive_12_mon       2.9717      0.270     10.994      0.000       2.442       3.501\n",
      "Contacts_Count_12_mon        2.6937      0.252     10.696      0.000       2.200       3.187\n",
      "Credit_Limit                -0.3861      0.198     -1.950      0.051      -0.774       0.002\n",
      "Total_Revolving_Bal         -2.4109      0.212    -11.364      0.000      -2.827      -1.995\n",
      "Total_Amt_Chng_Q4_Q1        -1.4425      0.743     -1.942      0.052      -2.898       0.013\n",
      "Total_Trans_Amt              7.8153      0.454     17.227      0.000       6.926       8.705\n",
      "Total_Trans_Ct             -13.5477      0.524    -25.871      0.000     -14.574     -12.521\n",
      "Total_Ct_Chng_Q4_Q1        -10.2093      0.820    -12.443      0.000     -11.817      -8.601\n",
      "Avg_Utilization_Ratio       -0.0858      0.284     -0.302      0.763      -0.643       0.472\n",
      "============================================================================================\n",
      "\n",
      "====================================\n",
      "                          Attrition \n",
      "------------------------------------\n",
      "const                    4.0510***  \n",
      "                         (0.2871)   \n",
      "Divorced                 0.0649     \n",
      "                         (0.1725)   \n",
      "Married                  -0.5856*** \n",
      "                         (0.0952)   \n",
      "Total_Relationship_Count -2.2057*** \n",
      "                         (0.1613)   \n",
      "Months_Inactive_12_mon   2.9717***  \n",
      "                         (0.2703)   \n",
      "Contacts_Count_12_mon    2.6937***  \n",
      "                         (0.2518)   \n",
      "Credit_Limit             -0.3861*   \n",
      "                         (0.1980)   \n",
      "Total_Revolving_Bal      -2.4109*** \n",
      "                         (0.2122)   \n",
      "Total_Amt_Chng_Q4_Q1     -1.4425*   \n",
      "                         (0.7428)   \n",
      "Total_Trans_Amt          7.8153***  \n",
      "                         (0.4537)   \n",
      "Total_Trans_Ct           -13.5477***\n",
      "                         (0.5237)   \n",
      "Total_Ct_Chng_Q4_Q1      -10.2093***\n",
      "                         (0.8205)   \n",
      "Avg_Utilization_Ratio    -0.0858    \n",
      "                         (0.2844)   \n",
      "====================================\n",
      "Standard errors in parentheses.\n",
      "* p<.1, ** p<.05, ***p<.01\n"
     ]
    }
   ],
   "source": [
    "Y= card1['Attrition'] # dependent variable\n",
    "ivs=card1[['Total_Relationship_Count',\n",
    "       'Months_Inactive_12_mon', 'Contacts_Count_12_mon', 'Credit_Limit',\n",
    "       'Total_Revolving_Bal', 'Total_Amt_Chng_Q4_Q1', 'Total_Trans_Amt',\n",
    "       'Total_Trans_Ct', 'Total_Ct_Chng_Q4_Q1', 'Avg_Utilization_Ratio']]\n",
    "\n",
    "X=pd.concat([marital, ivs], axis=1)\n",
    "X=sm.add_constant(X)\n",
    "\n",
    "model=sm.Logit(Y, X).fit()\n",
    "print(model.summary())\n",
    "summary_Attrition_marital=summary_col(model, stars=True)\n",
    "print(summary_Attrition_marital)"
   ]
  },
  {
   "cell_type": "markdown",
   "metadata": {},
   "source": [
    "Interpretation of the dummy marital status:\n",
    "#1-  When the categorical variable (Divorced) is not significant, it means that the impact of 'Divorced'  is not different from the impact of the base variable (single).\n",
    "#2-  'Married' category is significant and the coefficient sign is negative. It means that the 'Married' group is less likely to churn as compared to the 'single' group."
   ]
  },
  {
   "cell_type": "markdown",
   "metadata": {},
   "source": [
    "### Logistic Regression, Income category as Dummy Variable"
   ]
  },
  {
   "cell_type": "code",
   "execution_count": 204,
   "metadata": {},
   "outputs": [
    {
     "data": {
      "text/plain": [
       "Less than $40K    2792\n",
       "$40K - $60K       1412\n",
       "$80K - $120K      1202\n",
       "$60K - $80K       1103\n",
       "$120K +            572\n",
       "Name: Income_Category, dtype: int64"
      ]
     },
     "execution_count": 204,
     "metadata": {},
     "output_type": "execute_result"
    }
   ],
   "source": [
    "card1['Income_Category'].value_counts()"
   ]
  },
  {
   "cell_type": "code",
   "execution_count": 205,
   "metadata": {
    "scrolled": false
   },
   "outputs": [
    {
     "data": {
      "text/html": [
       "<div>\n",
       "<style scoped>\n",
       "    .dataframe tbody tr th:only-of-type {\n",
       "        vertical-align: middle;\n",
       "    }\n",
       "\n",
       "    .dataframe tbody tr th {\n",
       "        vertical-align: top;\n",
       "    }\n",
       "\n",
       "    .dataframe thead th {\n",
       "        text-align: right;\n",
       "    }\n",
       "</style>\n",
       "<table border=\"1\" class=\"dataframe\">\n",
       "  <thead>\n",
       "    <tr style=\"text-align: right;\">\n",
       "      <th>Income_Category</th>\n",
       "      <th>$120K +</th>\n",
       "      <th>$40K - $60K</th>\n",
       "      <th>$60K - $80K</th>\n",
       "      <th>$80K - $120K</th>\n",
       "      <th>Less than $40K</th>\n",
       "    </tr>\n",
       "    <tr>\n",
       "      <th>Card_Category</th>\n",
       "      <th></th>\n",
       "      <th></th>\n",
       "      <th></th>\n",
       "      <th></th>\n",
       "      <th></th>\n",
       "    </tr>\n",
       "  </thead>\n",
       "  <tbody>\n",
       "    <tr>\n",
       "      <th>Blue</th>\n",
       "      <td>508</td>\n",
       "      <td>1327</td>\n",
       "      <td>1006</td>\n",
       "      <td>1088</td>\n",
       "      <td>2669</td>\n",
       "    </tr>\n",
       "    <tr>\n",
       "      <th>Gold</th>\n",
       "      <td>14</td>\n",
       "      <td>10</td>\n",
       "      <td>22</td>\n",
       "      <td>16</td>\n",
       "      <td>19</td>\n",
       "    </tr>\n",
       "    <tr>\n",
       "      <th>Platinum</th>\n",
       "      <td>4</td>\n",
       "      <td>1</td>\n",
       "      <td>3</td>\n",
       "      <td>0</td>\n",
       "      <td>3</td>\n",
       "    </tr>\n",
       "    <tr>\n",
       "      <th>Silver</th>\n",
       "      <td>46</td>\n",
       "      <td>74</td>\n",
       "      <td>72</td>\n",
       "      <td>98</td>\n",
       "      <td>101</td>\n",
       "    </tr>\n",
       "  </tbody>\n",
       "</table>\n",
       "</div>"
      ],
      "text/plain": [
       "Income_Category  $120K +  $40K - $60K  $60K - $80K  $80K - $120K  \\\n",
       "Card_Category                                                      \n",
       "Blue                 508         1327         1006          1088   \n",
       "Gold                  14           10           22            16   \n",
       "Platinum               4            1            3             0   \n",
       "Silver                46           74           72            98   \n",
       "\n",
       "Income_Category  Less than $40K  \n",
       "Card_Category                    \n",
       "Blue                       2669  \n",
       "Gold                         19  \n",
       "Platinum                      3  \n",
       "Silver                      101  "
      ]
     },
     "execution_count": 205,
     "metadata": {},
     "output_type": "execute_result"
    }
   ],
   "source": [
    "# performing a cross tab to compare income with card categories:\n",
    "\n",
    "pd.crosstab(card['Card_Category'], card['Income_Category'])\n"
   ]
  },
  {
   "cell_type": "code",
   "execution_count": 206,
   "metadata": {},
   "outputs": [],
   "source": [
    "# now, lets take the income category \n",
    "income=pd.get_dummies(card1['Income_Category'])\n",
    "income.drop(['Less than $40K'], axis=1, inplace=True)\n"
   ]
  },
  {
   "cell_type": "code",
   "execution_count": 207,
   "metadata": {},
   "outputs": [
    {
     "name": "stdout",
     "output_type": "stream",
     "text": [
      "Optimization terminated successfully.\n",
      "         Current function value: 0.243733\n",
      "         Iterations 8\n",
      "                           Logit Regression Results                           \n",
      "==============================================================================\n",
      "Dep. Variable:              Attrition   No. Observations:                 7081\n",
      "Model:                          Logit   Df Residuals:                     7066\n",
      "Method:                           MLE   Df Model:                           14\n",
      "Date:                Sun, 10 Oct 2021   Pseudo R-squ.:                  0.4397\n",
      "Time:                        10:13:09   Log-Likelihood:                -1725.9\n",
      "converged:                       True   LL-Null:                       -3080.0\n",
      "Covariance Type:            nonrobust   LLR p-value:                     0.000\n",
      "============================================================================================\n",
      "                               coef    std err          z      P>|z|      [0.025      0.975]\n",
      "--------------------------------------------------------------------------------------------\n",
      "const                        3.9322      0.284     13.822      0.000       3.375       4.490\n",
      "$120K +                     -0.2227      0.189     -1.176      0.240      -0.594       0.149\n",
      "$40K - $60K                 -0.4589      0.125     -3.672      0.000      -0.704      -0.214\n",
      "$60K - $80K                 -0.6231      0.144     -4.338      0.000      -0.905      -0.342\n",
      "$80K - $120K                -0.3639      0.146     -2.496      0.013      -0.650      -0.078\n",
      "Total_Relationship_Count    -2.2309      0.161    -13.872      0.000      -2.546      -1.916\n",
      "Months_Inactive_12_mon       2.9754      0.269     11.053      0.000       2.448       3.503\n",
      "Contacts_Count_12_mon        2.6818      0.251     10.692      0.000       2.190       3.173\n",
      "Credit_Limit                -0.1580      0.228     -0.694      0.488      -0.604       0.288\n",
      "Total_Revolving_Bal         -2.3789      0.212    -11.200      0.000      -2.795      -1.963\n",
      "Total_Amt_Chng_Q4_Q1        -1.5264      0.737     -2.072      0.038      -2.970      -0.083\n",
      "Total_Trans_Amt              7.6722      0.451     17.009      0.000       6.788       8.556\n",
      "Total_Trans_Ct             -13.2138      0.516    -25.628      0.000     -14.224     -12.203\n",
      "Total_Ct_Chng_Q4_Q1        -10.1786      0.821    -12.397      0.000     -11.788      -8.569\n",
      "Avg_Utilization_Ratio       -0.2279      0.286     -0.798      0.425      -0.788       0.332\n",
      "============================================================================================\n",
      "\n",
      "====================================\n",
      "                          Attrition \n",
      "------------------------------------\n",
      "const                    3.9322***  \n",
      "                         (0.2845)   \n",
      "$120K +                  -0.2227    \n",
      "                         (0.1894)   \n",
      "$40K - $60K              -0.4589*** \n",
      "                         (0.1250)   \n",
      "$60K - $80K              -0.6231*** \n",
      "                         (0.1436)   \n",
      "$80K - $120K             -0.3639**  \n",
      "                         (0.1458)   \n",
      "Total_Relationship_Count -2.2309*** \n",
      "                         (0.1608)   \n",
      "Months_Inactive_12_mon   2.9754***  \n",
      "                         (0.2692)   \n",
      "Contacts_Count_12_mon    2.6818***  \n",
      "                         (0.2508)   \n",
      "Credit_Limit             -0.1580    \n",
      "                         (0.2276)   \n",
      "Total_Revolving_Bal      -2.3789*** \n",
      "                         (0.2124)   \n",
      "Total_Amt_Chng_Q4_Q1     -1.5264**  \n",
      "                         (0.7366)   \n",
      "Total_Trans_Amt          7.6722***  \n",
      "                         (0.4511)   \n",
      "Total_Trans_Ct           -13.2138***\n",
      "                         (0.5156)   \n",
      "Total_Ct_Chng_Q4_Q1      -10.1786***\n",
      "                         (0.8210)   \n",
      "Avg_Utilization_Ratio    -0.2279    \n",
      "                         (0.2855)   \n",
      "====================================\n",
      "Standard errors in parentheses.\n",
      "* p<.1, ** p<.05, ***p<.01\n"
     ]
    }
   ],
   "source": [
    "ivs=card1[['Total_Relationship_Count',\n",
    "       'Months_Inactive_12_mon', 'Contacts_Count_12_mon', 'Credit_Limit',\n",
    "       'Total_Revolving_Bal', 'Total_Amt_Chng_Q4_Q1', 'Total_Trans_Amt',\n",
    "       'Total_Trans_Ct', 'Total_Ct_Chng_Q4_Q1', 'Avg_Utilization_Ratio']]\n",
    "\n",
    "X=pd.concat([income, ivs], axis=1)\n",
    "X=sm.add_constant(X)\n",
    "\n",
    "model1=sm.Logit(Y, X).fit()\n",
    "print(model1.summary())\n",
    "summary_Attrition_income = summary_col(model1, stars=True)\n",
    "print(summary_Attrition_income)"
   ]
  },
  {
   "cell_type": "markdown",
   "metadata": {},
   "source": [
    "Here the '40-60k', '60k - 80k', and '80k - 120k' categories are significant and negative, it means  that these categories are less likely to churn as compared to the base category of 'less than 40k'.\n",
    "\n",
    "The impact of the '120k+' category is not significant, it means that there is no difference \n",
    "between the impact of '120k+' group and the impact of the base group (less than 40k).\n"
   ]
  },
  {
   "cell_type": "markdown",
   "metadata": {},
   "source": [
    "### At this point we are interested to predict the number of customers who churned when the income categories are used."
   ]
  },
  {
   "cell_type": "code",
   "execution_count": 210,
   "metadata": {
    "scrolled": true
   },
   "outputs": [
    {
     "data": {
      "text/html": [
       "<div>\n",
       "<style scoped>\n",
       "    .dataframe tbody tr th:only-of-type {\n",
       "        vertical-align: middle;\n",
       "    }\n",
       "\n",
       "    .dataframe tbody tr th {\n",
       "        vertical-align: top;\n",
       "    }\n",
       "\n",
       "    .dataframe thead th {\n",
       "        text-align: right;\n",
       "    }\n",
       "</style>\n",
       "<table border=\"1\" class=\"dataframe\">\n",
       "  <thead>\n",
       "    <tr style=\"text-align: right;\">\n",
       "      <th></th>\n",
       "      <th>Attrition</th>\n",
       "      <th>churn_income_cat</th>\n",
       "      <th>churned1</th>\n",
       "    </tr>\n",
       "  </thead>\n",
       "  <tbody>\n",
       "    <tr>\n",
       "      <th>0</th>\n",
       "      <td>0</td>\n",
       "      <td>0.003590</td>\n",
       "      <td>0</td>\n",
       "    </tr>\n",
       "    <tr>\n",
       "      <th>1</th>\n",
       "      <td>0</td>\n",
       "      <td>0.000021</td>\n",
       "      <td>0</td>\n",
       "    </tr>\n",
       "    <tr>\n",
       "      <th>2</th>\n",
       "      <td>0</td>\n",
       "      <td>0.004944</td>\n",
       "      <td>0</td>\n",
       "    </tr>\n",
       "    <tr>\n",
       "      <th>4</th>\n",
       "      <td>0</td>\n",
       "      <td>0.000496</td>\n",
       "      <td>0</td>\n",
       "    </tr>\n",
       "    <tr>\n",
       "      <th>5</th>\n",
       "      <td>0</td>\n",
       "      <td>0.187542</td>\n",
       "      <td>0</td>\n",
       "    </tr>\n",
       "  </tbody>\n",
       "</table>\n",
       "</div>"
      ],
      "text/plain": [
       "   Attrition  churn_income_cat  churned1\n",
       "0          0          0.003590         0\n",
       "1          0          0.000021         0\n",
       "2          0          0.004944         0\n",
       "4          0          0.000496         0\n",
       "5          0          0.187542         0"
      ]
     },
     "execution_count": 210,
     "metadata": {},
     "output_type": "execute_result"
    }
   ],
   "source": [
    "Y_pred_i=model1.predict(X)\n",
    "\n",
    "churn_income_cat=Y_pred_i.to_frame('churn_income_cat')\n",
    "churn_income_cat=pd.concat([Y, churn_income_cat], axis=1)\n",
    "churn_income_cat['churned1']=np.where(churn_income_cat['churn_income_cat']>0.5, 1,0)\n",
    "# this is because we are dealing with dummy variables of 0 and 1, therefore if the 'churn_income_cat' is greater than\n",
    "# 0.5, it means the customers have churned, otherwise stayed  with the bank.\n",
    "churn_income_cat.head(5)\n"
   ]
  },
  {
   "cell_type": "code",
   "execution_count": 62,
   "metadata": {},
   "outputs": [
    {
     "data": {
      "text/plain": [
       "0    7357\n",
       "1     991\n",
       "Name: churned1, dtype: int64"
      ]
     },
     "execution_count": 62,
     "metadata": {},
     "output_type": "execute_result"
    }
   ],
   "source": [
    "churn_income_cat['churned1'].value_counts()"
   ]
  },
  {
   "cell_type": "code",
   "execution_count": 110,
   "metadata": {},
   "outputs": [
    {
     "data": {
      "text/plain": [
       "0    0.881289\n",
       "1    0.118711\n",
       "Name: churned1, dtype: float64"
      ]
     },
     "execution_count": 110,
     "metadata": {},
     "output_type": "execute_result"
    }
   ],
   "source": [
    "# to get the percentage:\n",
    "churn_income_cat['churned1'].value_counts(normalize=True)"
   ]
  },
  {
   "cell_type": "code",
   "execution_count": 211,
   "metadata": {
    "scrolled": true
   },
   "outputs": [
    {
     "data": {
      "text/html": [
       "<div>\n",
       "<style scoped>\n",
       "    .dataframe tbody tr th:only-of-type {\n",
       "        vertical-align: middle;\n",
       "    }\n",
       "\n",
       "    .dataframe tbody tr th {\n",
       "        vertical-align: top;\n",
       "    }\n",
       "\n",
       "    .dataframe thead th {\n",
       "        text-align: right;\n",
       "    }\n",
       "</style>\n",
       "<table border=\"1\" class=\"dataframe\">\n",
       "  <thead>\n",
       "    <tr style=\"text-align: right;\">\n",
       "      <th></th>\n",
       "      <th>churned1</th>\n",
       "      <th>CLIENTNUM</th>\n",
       "      <th>Months_on_book</th>\n",
       "      <th>Gender</th>\n",
       "      <th>Card_Category</th>\n",
       "      <th>Income_Category</th>\n",
       "      <th>Customer_Age</th>\n",
       "      <th>Marital_Status</th>\n",
       "      <th>Credit_Limit</th>\n",
       "    </tr>\n",
       "  </thead>\n",
       "  <tbody>\n",
       "    <tr>\n",
       "      <th>0</th>\n",
       "      <td>0</td>\n",
       "      <td>768805383</td>\n",
       "      <td>39</td>\n",
       "      <td>M</td>\n",
       "      <td>Blue</td>\n",
       "      <td>$60K - $80K</td>\n",
       "      <td>45</td>\n",
       "      <td>Married</td>\n",
       "      <td>12691.0</td>\n",
       "    </tr>\n",
       "    <tr>\n",
       "      <th>1</th>\n",
       "      <td>0</td>\n",
       "      <td>818770008</td>\n",
       "      <td>44</td>\n",
       "      <td>F</td>\n",
       "      <td>Blue</td>\n",
       "      <td>Less than $40K</td>\n",
       "      <td>49</td>\n",
       "      <td>Single</td>\n",
       "      <td>8256.0</td>\n",
       "    </tr>\n",
       "    <tr>\n",
       "      <th>2</th>\n",
       "      <td>0</td>\n",
       "      <td>713982108</td>\n",
       "      <td>36</td>\n",
       "      <td>M</td>\n",
       "      <td>Blue</td>\n",
       "      <td>$80K - $120K</td>\n",
       "      <td>51</td>\n",
       "      <td>Married</td>\n",
       "      <td>3418.0</td>\n",
       "    </tr>\n",
       "    <tr>\n",
       "      <th>4</th>\n",
       "      <td>0</td>\n",
       "      <td>709106358</td>\n",
       "      <td>21</td>\n",
       "      <td>M</td>\n",
       "      <td>Blue</td>\n",
       "      <td>$60K - $80K</td>\n",
       "      <td>40</td>\n",
       "      <td>Married</td>\n",
       "      <td>4716.0</td>\n",
       "    </tr>\n",
       "    <tr>\n",
       "      <th>5</th>\n",
       "      <td>0</td>\n",
       "      <td>713061558</td>\n",
       "      <td>36</td>\n",
       "      <td>M</td>\n",
       "      <td>Blue</td>\n",
       "      <td>$40K - $60K</td>\n",
       "      <td>44</td>\n",
       "      <td>Married</td>\n",
       "      <td>4010.0</td>\n",
       "    </tr>\n",
       "  </tbody>\n",
       "</table>\n",
       "</div>"
      ],
      "text/plain": [
       "   churned1  CLIENTNUM  Months_on_book Gender Card_Category Income_Category  \\\n",
       "0         0  768805383              39      M          Blue     $60K - $80K   \n",
       "1         0  818770008              44      F          Blue  Less than $40K   \n",
       "2         0  713982108              36      M          Blue    $80K - $120K   \n",
       "4         0  709106358              21      M          Blue     $60K - $80K   \n",
       "5         0  713061558              36      M          Blue     $40K - $60K   \n",
       "\n",
       "   Customer_Age Marital_Status  Credit_Limit  \n",
       "0            45        Married       12691.0  \n",
       "1            49         Single        8256.0  \n",
       "2            51        Married        3418.0  \n",
       "4            40        Married        4716.0  \n",
       "5            44        Married        4010.0  "
      ]
     },
     "execution_count": 211,
     "metadata": {},
     "output_type": "execute_result"
    }
   ],
   "source": [
    "# we would like to identify the customers whom we predict are going to leave (using client number) in \n",
    "# order to provide strategic advice. \n",
    "\n",
    "advice=pd.concat([churn_income_cat['churned1'], card[['CLIENTNUM','Months_on_book', 'Gender', 'Card_Category', 'Income_Category',\n",
    "                                                       'Customer_Age', 'Marital_Status', 'Credit_Limit']]], axis=1)\n",
    "advice.head()"
   ]
  },
  {
   "cell_type": "code",
   "execution_count": 213,
   "metadata": {},
   "outputs": [
    {
     "data": {
      "text/html": [
       "<div>\n",
       "<style scoped>\n",
       "    .dataframe tbody tr th:only-of-type {\n",
       "        vertical-align: middle;\n",
       "    }\n",
       "\n",
       "    .dataframe tbody tr th {\n",
       "        vertical-align: top;\n",
       "    }\n",
       "\n",
       "    .dataframe thead th {\n",
       "        text-align: right;\n",
       "    }\n",
       "</style>\n",
       "<table border=\"1\" class=\"dataframe\">\n",
       "  <thead>\n",
       "    <tr style=\"text-align: right;\">\n",
       "      <th></th>\n",
       "      <th>churned1</th>\n",
       "      <th>CLIENTNUM</th>\n",
       "      <th>Months_on_book</th>\n",
       "      <th>Gender</th>\n",
       "      <th>Card_Category</th>\n",
       "      <th>Income_Category</th>\n",
       "      <th>Customer_Age</th>\n",
       "      <th>Marital_Status</th>\n",
       "      <th>Credit_Limit</th>\n",
       "    </tr>\n",
       "  </thead>\n",
       "  <tbody>\n",
       "    <tr>\n",
       "      <th>21</th>\n",
       "      <td>1</td>\n",
       "      <td>708508758</td>\n",
       "      <td>49</td>\n",
       "      <td>F</td>\n",
       "      <td>Blue</td>\n",
       "      <td>Less than $40K</td>\n",
       "      <td>62</td>\n",
       "      <td>Married</td>\n",
       "      <td>1438.3</td>\n",
       "    </tr>\n",
       "    <tr>\n",
       "      <th>37</th>\n",
       "      <td>1</td>\n",
       "      <td>785432733</td>\n",
       "      <td>36</td>\n",
       "      <td>F</td>\n",
       "      <td>Gold</td>\n",
       "      <td>Less than $40K</td>\n",
       "      <td>42</td>\n",
       "      <td>Married</td>\n",
       "      <td>15433.0</td>\n",
       "    </tr>\n",
       "    <tr>\n",
       "      <th>40</th>\n",
       "      <td>1</td>\n",
       "      <td>827111283</td>\n",
       "      <td>41</td>\n",
       "      <td>M</td>\n",
       "      <td>Blue</td>\n",
       "      <td>$80K - $120K</td>\n",
       "      <td>45</td>\n",
       "      <td>Single</td>\n",
       "      <td>32426.0</td>\n",
       "    </tr>\n",
       "    <tr>\n",
       "      <th>51</th>\n",
       "      <td>1</td>\n",
       "      <td>779471883</td>\n",
       "      <td>40</td>\n",
       "      <td>F</td>\n",
       "      <td>Blue</td>\n",
       "      <td>Less than $40K</td>\n",
       "      <td>54</td>\n",
       "      <td>Married</td>\n",
       "      <td>1438.3</td>\n",
       "    </tr>\n",
       "    <tr>\n",
       "      <th>54</th>\n",
       "      <td>1</td>\n",
       "      <td>714374133</td>\n",
       "      <td>36</td>\n",
       "      <td>M</td>\n",
       "      <td>Blue</td>\n",
       "      <td>$120K +</td>\n",
       "      <td>56</td>\n",
       "      <td>Married</td>\n",
       "      <td>15769.0</td>\n",
       "    </tr>\n",
       "  </tbody>\n",
       "</table>\n",
       "</div>"
      ],
      "text/plain": [
       "    churned1  CLIENTNUM  Months_on_book Gender Card_Category Income_Category  \\\n",
       "21         1  708508758              49      F          Blue  Less than $40K   \n",
       "37         1  785432733              36      F          Gold  Less than $40K   \n",
       "40         1  827111283              41      M          Blue    $80K - $120K   \n",
       "51         1  779471883              40      F          Blue  Less than $40K   \n",
       "54         1  714374133              36      M          Blue         $120K +   \n",
       "\n",
       "    Customer_Age Marital_Status  Credit_Limit  \n",
       "21            62        Married        1438.3  \n",
       "37            42        Married       15433.0  \n",
       "40            45         Single       32426.0  \n",
       "51            54        Married        1438.3  \n",
       "54            56        Married       15769.0  "
      ]
     },
     "execution_count": 213,
     "metadata": {},
     "output_type": "execute_result"
    }
   ],
   "source": [
    "# to see only the predicted churned customers:\n",
    "advice1= advice[advice['churned1']==1]\n",
    "advice1.head()"
   ]
  },
  {
   "cell_type": "code",
   "execution_count": 214,
   "metadata": {},
   "outputs": [],
   "source": [
    "advice1.to_csv('Advice_Customers.csv')"
   ]
  },
  {
   "cell_type": "code",
   "execution_count": 215,
   "metadata": {},
   "outputs": [
    {
     "name": "stdout",
     "output_type": "stream",
     "text": [
      "F    415\n",
      "M    403\n",
      "Name: Gender, dtype: int64\n",
      "Blue        776\n",
      "Silver       34\n",
      "Gold          7\n",
      "Platinum      1\n",
      "Name: Card_Category, dtype: int64\n",
      "Less than $40K    361\n",
      "$40K - $60K       158\n",
      "$80K - $120K      128\n",
      "$60K - $80K        97\n",
      "$120K +            74\n",
      "Name: Income_Category, dtype: int64\n",
      "Married     434\n",
      "Single      326\n",
      "Divorced     58\n",
      "Name: Marital_Status, dtype: int64\n"
     ]
    }
   ],
   "source": [
    "print(advice1['Gender'].value_counts())\n",
    "print(advice1['Card_Category'].value_counts())\n",
    "print(advice1['Income_Category'].value_counts())\n",
    "print(advice1['Marital_Status'].value_counts())\n"
   ]
  },
  {
   "cell_type": "code",
   "execution_count": 216,
   "metadata": {
    "scrolled": true
   },
   "outputs": [
    {
     "data": {
      "image/png": "[encoded data removed]",
      "text/plain": [
       "<Figure size 576x576 with 1 Axes>"
      ]
     },
     "metadata": {
      "needs_background": "light"
     },
     "output_type": "display_data"
    }
   ],
   "source": [
    "# we would like to see if there is still a U-shape relationship between credit limit and age in the predicted customers:\n",
    "adv1 = advice.groupby('Customer_Age')['Credit_Limit'].mean().reset_index()['Customer_Age']\n",
    "adv2 = advice.groupby('Customer_Age')['Credit_Limit'].mean().reset_index()['Credit_Limit']\n",
    "plt.bar(x=adv1, height=adv2)\n",
    "plt.show()"
   ]
  },
  {
   "cell_type": "code",
   "execution_count": 217,
   "metadata": {},
   "outputs": [
    {
     "name": "stderr",
     "output_type": "stream",
     "text": [
      "/opt/anaconda3/lib/python3.8/site-packages/numpy/lib/histograms.py:839: RuntimeWarning: invalid value encountered in greater_equal\n",
      "  keep = (tmp_a >= first_edge)\n",
      "/opt/anaconda3/lib/python3.8/site-packages/numpy/lib/histograms.py:840: RuntimeWarning: invalid value encountered in less_equal\n",
      "  keep &= (tmp_a <= last_edge)\n"
     ]
    },
    {
     "data": {
      "image/png": "[encoded data removed]",
      "text/plain": [
       "<Figure size 576x576 with 1 Axes>"
      ]
     },
     "metadata": {
      "needs_background": "light"
     },
     "output_type": "display_data"
    }
   ],
   "source": [
    "#  Residual Plot:\n",
    "residuals=Y-Y_predi\n",
    "plt.hist(residuals, bins=100)\n",
    "plt.show()"
   ]
  },
  {
   "cell_type": "code",
   "execution_count": 218,
   "metadata": {},
   "outputs": [
    {
     "data": {
      "image/png": "[encoded data removed]",
      "text/plain": [
       "<Figure size 576x576 with 1 Axes>"
      ]
     },
     "metadata": {
      "needs_background": "light"
     },
     "output_type": "display_data"
    }
   ],
   "source": [
    "plt.scatter(x=adv1, y=adv2)\n",
    "plt.xlabel ('Customer Age')\n",
    "plt.ylabel ('Credit Limit')\n",
    "plt.title ('Credit Limit of the Churned Customers')\n",
    "plt.show()"
   ]
  }
 ],
 "metadata": {
  "kernelspec": {
   "display_name": "Python 3",
   "language": "python",
   "name": "python3"
  },
  "language_info": {
   "codemirror_mode": {
    "name": "ipython",
    "version": 3
   },
   "file_extension": ".py",
   "mimetype": "text/x-python",
   "name": "python",
   "nbconvert_exporter": "python",
   "pygments_lexer": "ipython3",
   "version": "3.8.3"
  }
 },
 "nbformat": 4,
 "nbformat_minor": 4
}

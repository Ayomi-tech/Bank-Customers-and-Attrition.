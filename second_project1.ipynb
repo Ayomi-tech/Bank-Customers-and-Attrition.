{
 "cells": [
  {
   "cell_type": "markdown",
   "metadata": {},
   "source": [
    "### The story\n",
    "A manager at the bank is disturbed with more and more customers leaving their credit card services. They would really appreciate if one could predict for them who is gonna get churned so they can proactively go to the customer to provide them better services and turn customers' decisions in the opposite direction."
   ]
  },
  {
   "cell_type": "code",
   "execution_count": 1,
   "metadata": {},
   "outputs": [],
   "source": [
    "import pandas as pd\n",
    "import numpy as np\n",
    "pd.set_option('display.max_columns',None) # this will show the entire coloumns \n",
    "import seaborn as sns\n",
    "import matplotlib.pyplot as plt\n",
    "import statsmodels.api as sm\n",
    "#pip install -U scikit-learn (this is to get the min&max for scatterplot)"
   ]
  },
  {
   "cell_type": "code",
   "execution_count": 4,
   "metadata": {},
   "outputs": [
    {
     "data": {
      "text/html": [
       "<div>\n",
       "<style scoped>\n",
       "    .dataframe tbody tr th:only-of-type {\n",
       "        vertical-align: middle;\n",
       "    }\n",
       "\n",
       "    .dataframe tbody tr th {\n",
       "        vertical-align: top;\n",
       "    }\n",
       "\n",
       "    .dataframe thead th {\n",
       "        text-align: right;\n",
       "    }\n",
       "</style>\n",
       "<table border=\"1\" class=\"dataframe\">\n",
       "  <thead>\n",
       "    <tr style=\"text-align: right;\">\n",
       "      <th></th>\n",
       "      <th>CLIENTNUM</th>\n",
       "      <th>Attrition_Flag</th>\n",
       "      <th>Customer_Age</th>\n",
       "      <th>Gender</th>\n",
       "      <th>Dependent_count</th>\n",
       "      <th>Education_Level</th>\n",
       "      <th>Marital_Status</th>\n",
       "      <th>Income_Category</th>\n",
       "      <th>Card_Category</th>\n",
       "      <th>Months_on_book</th>\n",
       "      <th>Total_Relationship_Count</th>\n",
       "      <th>Months_Inactive_12_mon</th>\n",
       "      <th>Contacts_Count_12_mon</th>\n",
       "      <th>Credit_Limit</th>\n",
       "      <th>Total_Revolving_Bal</th>\n",
       "      <th>Avg_Open_To_Buy</th>\n",
       "      <th>Total_Amt_Chng_Q4_Q1</th>\n",
       "      <th>Total_Trans_Amt</th>\n",
       "      <th>Total_Trans_Ct</th>\n",
       "      <th>Total_Ct_Chng_Q4_Q1</th>\n",
       "      <th>Avg_Utilization_Ratio</th>\n",
       "      <th>Naive_Bayes_Classifier_Attrition_Flag_Card_Category_Contacts_Count_12_mon_Dependent_count_Education_Level_Months_Inactive_12_mon_1</th>\n",
       "      <th>Naive_Bayes_Classifier_Attrition_Flag_Card_Category_Contacts_Count_12_mon_Dependent_count_Education_Level_Months_Inactive_12_mon_2</th>\n",
       "    </tr>\n",
       "  </thead>\n",
       "  <tbody>\n",
       "    <tr>\n",
       "      <th>0</th>\n",
       "      <td>768805383</td>\n",
       "      <td>Existing Customer</td>\n",
       "      <td>45</td>\n",
       "      <td>M</td>\n",
       "      <td>3</td>\n",
       "      <td>High School</td>\n",
       "      <td>Married</td>\n",
       "      <td>$60K - $80K</td>\n",
       "      <td>Blue</td>\n",
       "      <td>39</td>\n",
       "      <td>5</td>\n",
       "      <td>1</td>\n",
       "      <td>3</td>\n",
       "      <td>12691.0</td>\n",
       "      <td>777</td>\n",
       "      <td>11914.0</td>\n",
       "      <td>1.335</td>\n",
       "      <td>1144</td>\n",
       "      <td>42</td>\n",
       "      <td>1.625</td>\n",
       "      <td>0.061</td>\n",
       "      <td>0.000093</td>\n",
       "      <td>0.99991</td>\n",
       "    </tr>\n",
       "    <tr>\n",
       "      <th>1</th>\n",
       "      <td>818770008</td>\n",
       "      <td>Existing Customer</td>\n",
       "      <td>49</td>\n",
       "      <td>F</td>\n",
       "      <td>5</td>\n",
       "      <td>Graduate</td>\n",
       "      <td>Single</td>\n",
       "      <td>Less than $40K</td>\n",
       "      <td>Blue</td>\n",
       "      <td>44</td>\n",
       "      <td>6</td>\n",
       "      <td>1</td>\n",
       "      <td>2</td>\n",
       "      <td>8256.0</td>\n",
       "      <td>864</td>\n",
       "      <td>7392.0</td>\n",
       "      <td>1.541</td>\n",
       "      <td>1291</td>\n",
       "      <td>33</td>\n",
       "      <td>3.714</td>\n",
       "      <td>0.105</td>\n",
       "      <td>0.000057</td>\n",
       "      <td>0.99994</td>\n",
       "    </tr>\n",
       "    <tr>\n",
       "      <th>2</th>\n",
       "      <td>713982108</td>\n",
       "      <td>Existing Customer</td>\n",
       "      <td>51</td>\n",
       "      <td>M</td>\n",
       "      <td>3</td>\n",
       "      <td>Graduate</td>\n",
       "      <td>Married</td>\n",
       "      <td>$80K - $120K</td>\n",
       "      <td>Blue</td>\n",
       "      <td>36</td>\n",
       "      <td>4</td>\n",
       "      <td>1</td>\n",
       "      <td>0</td>\n",
       "      <td>3418.0</td>\n",
       "      <td>0</td>\n",
       "      <td>3418.0</td>\n",
       "      <td>2.594</td>\n",
       "      <td>1887</td>\n",
       "      <td>20</td>\n",
       "      <td>2.333</td>\n",
       "      <td>0.000</td>\n",
       "      <td>0.000021</td>\n",
       "      <td>0.99998</td>\n",
       "    </tr>\n",
       "    <tr>\n",
       "      <th>3</th>\n",
       "      <td>769911858</td>\n",
       "      <td>Existing Customer</td>\n",
       "      <td>40</td>\n",
       "      <td>F</td>\n",
       "      <td>4</td>\n",
       "      <td>High School</td>\n",
       "      <td>Unknown</td>\n",
       "      <td>Less than $40K</td>\n",
       "      <td>Blue</td>\n",
       "      <td>34</td>\n",
       "      <td>3</td>\n",
       "      <td>4</td>\n",
       "      <td>1</td>\n",
       "      <td>3313.0</td>\n",
       "      <td>2517</td>\n",
       "      <td>796.0</td>\n",
       "      <td>1.405</td>\n",
       "      <td>1171</td>\n",
       "      <td>20</td>\n",
       "      <td>2.333</td>\n",
       "      <td>0.760</td>\n",
       "      <td>0.000134</td>\n",
       "      <td>0.99987</td>\n",
       "    </tr>\n",
       "    <tr>\n",
       "      <th>4</th>\n",
       "      <td>709106358</td>\n",
       "      <td>Existing Customer</td>\n",
       "      <td>40</td>\n",
       "      <td>M</td>\n",
       "      <td>3</td>\n",
       "      <td>Uneducated</td>\n",
       "      <td>Married</td>\n",
       "      <td>$60K - $80K</td>\n",
       "      <td>Blue</td>\n",
       "      <td>21</td>\n",
       "      <td>5</td>\n",
       "      <td>1</td>\n",
       "      <td>0</td>\n",
       "      <td>4716.0</td>\n",
       "      <td>0</td>\n",
       "      <td>4716.0</td>\n",
       "      <td>2.175</td>\n",
       "      <td>816</td>\n",
       "      <td>28</td>\n",
       "      <td>2.500</td>\n",
       "      <td>0.000</td>\n",
       "      <td>0.000022</td>\n",
       "      <td>0.99998</td>\n",
       "    </tr>\n",
       "  </tbody>\n",
       "</table>\n",
       "</div>"
      ],
      "text/plain": [
       "   CLIENTNUM     Attrition_Flag  Customer_Age Gender  Dependent_count  \\\n",
       "0  768805383  Existing Customer            45      M                3   \n",
       "1  818770008  Existing Customer            49      F                5   \n",
       "2  713982108  Existing Customer            51      M                3   \n",
       "3  769911858  Existing Customer            40      F                4   \n",
       "4  709106358  Existing Customer            40      M                3   \n",
       "\n",
       "  Education_Level Marital_Status Income_Category Card_Category  \\\n",
       "0     High School        Married     $60K - $80K          Blue   \n",
       "1        Graduate         Single  Less than $40K          Blue   \n",
       "2        Graduate        Married    $80K - $120K          Blue   \n",
       "3     High School        Unknown  Less than $40K          Blue   \n",
       "4      Uneducated        Married     $60K - $80K          Blue   \n",
       "\n",
       "   Months_on_book  Total_Relationship_Count  Months_Inactive_12_mon  \\\n",
       "0              39                         5                       1   \n",
       "1              44                         6                       1   \n",
       "2              36                         4                       1   \n",
       "3              34                         3                       4   \n",
       "4              21                         5                       1   \n",
       "\n",
       "   Contacts_Count_12_mon  Credit_Limit  Total_Revolving_Bal  Avg_Open_To_Buy  \\\n",
       "0                      3       12691.0                  777          11914.0   \n",
       "1                      2        8256.0                  864           7392.0   \n",
       "2                      0        3418.0                    0           3418.0   \n",
       "3                      1        3313.0                 2517            796.0   \n",
       "4                      0        4716.0                    0           4716.0   \n",
       "\n",
       "   Total_Amt_Chng_Q4_Q1  Total_Trans_Amt  Total_Trans_Ct  Total_Ct_Chng_Q4_Q1  \\\n",
       "0                 1.335             1144              42                1.625   \n",
       "1                 1.541             1291              33                3.714   \n",
       "2                 2.594             1887              20                2.333   \n",
       "3                 1.405             1171              20                2.333   \n",
       "4                 2.175              816              28                2.500   \n",
       "\n",
       "   Avg_Utilization_Ratio  \\\n",
       "0                  0.061   \n",
       "1                  0.105   \n",
       "2                  0.000   \n",
       "3                  0.760   \n",
       "4                  0.000   \n",
       "\n",
       "   Naive_Bayes_Classifier_Attrition_Flag_Card_Category_Contacts_Count_12_mon_Dependent_count_Education_Level_Months_Inactive_12_mon_1  \\\n",
       "0                                           0.000093                                                                                    \n",
       "1                                           0.000057                                                                                    \n",
       "2                                           0.000021                                                                                    \n",
       "3                                           0.000134                                                                                    \n",
       "4                                           0.000022                                                                                    \n",
       "\n",
       "   Naive_Bayes_Classifier_Attrition_Flag_Card_Category_Contacts_Count_12_mon_Dependent_count_Education_Level_Months_Inactive_12_mon_2  \n",
       "0                                            0.99991                                                                                   \n",
       "1                                            0.99994                                                                                   \n",
       "2                                            0.99998                                                                                   \n",
       "3                                            0.99987                                                                                   \n",
       "4                                            0.99998                                                                                   "
      ]
     },
     "execution_count": 4,
     "metadata": {},
     "output_type": "execute_result"
    }
   ],
   "source": [
    "# we read the csv file which contains the data on 10128 customers in the bank:\n",
    "card=pd.read_csv('BankChurners.csv')\n",
    "card.head()"
   ]
  },
  {
   "cell_type": "code",
   "execution_count": 5,
   "metadata": {},
   "outputs": [],
   "source": [
    "# lets drop the last 2 columns as there are some sort of irrelevant analysis \n",
    "# and we dont need them.\n",
    "\n",
    "card=card.drop(['Naive_Bayes_Classifier_Attrition_Flag_Card_Category_Contacts_Count_12_mon_Dependent_count_Education_Level_Months_Inactive_12_mon_1', 'Naive_Bayes_Classifier_Attrition_Flag_Card_Category_Contacts_Count_12_mon_Dependent_count_Education_Level_Months_Inactive_12_mon_2'], axis=1)\n"
   ]
  },
  {
   "cell_type": "code",
   "execution_count": 6,
   "metadata": {},
   "outputs": [],
   "source": [
    "# we drop the rows with 'Unknown' values for 'Marital_Status' & 'income category':\n",
    "\n",
    "card.drop(card[card['Marital_Status'].str.contains('Unknown')].index, inplace=True)\n",
    "card.drop(card[card['Income_Category'].str.contains('Unknown')].index, inplace=True)    \n",
    "               "
   ]
  },
  {
   "cell_type": "code",
   "execution_count": 7,
   "metadata": {},
   "outputs": [
    {
     "data": {
      "text/plain": [
       "Married     4194\n",
       "Single      3499\n",
       "Divorced     655\n",
       "Name: Marital_Status, dtype: int64"
      ]
     },
     "execution_count": 7,
     "metadata": {},
     "output_type": "execute_result"
    }
   ],
   "source": [
    "card['Marital_Status'].value_counts()"
   ]
  },
  {
   "cell_type": "code",
   "execution_count": 8,
   "metadata": {},
   "outputs": [
    {
     "data": {
      "text/plain": [
       "Less than $40K    3311\n",
       "$40K - $60K       1658\n",
       "$80K - $120K      1399\n",
       "$60K - $80K       1300\n",
       "$120K +            680\n",
       "Name: Income_Category, dtype: int64"
      ]
     },
     "execution_count": 8,
     "metadata": {},
     "output_type": "execute_result"
    }
   ],
   "source": [
    "card['Income_Category'].value_counts()"
   ]
  },
  {
   "cell_type": "code",
   "execution_count": 9,
   "metadata": {},
   "outputs": [
    {
     "data": {
      "text/plain": [
       "Existing Customer    7020\n",
       "Attrited Customer    1328\n",
       "Name: Attrition_Flag, dtype: int64"
      ]
     },
     "execution_count": 9,
     "metadata": {},
     "output_type": "execute_result"
    }
   ],
   "source": [
    "card['Attrition_Flag'].value_counts()"
   ]
  },
  {
   "cell_type": "code",
   "execution_count": 10,
   "metadata": {
    "scrolled": true
   },
   "outputs": [
    {
     "data": {
      "text/html": [
       "<div>\n",
       "<style scoped>\n",
       "    .dataframe tbody tr th:only-of-type {\n",
       "        vertical-align: middle;\n",
       "    }\n",
       "\n",
       "    .dataframe tbody tr th {\n",
       "        vertical-align: top;\n",
       "    }\n",
       "\n",
       "    .dataframe thead th {\n",
       "        text-align: right;\n",
       "    }\n",
       "</style>\n",
       "<table border=\"1\" class=\"dataframe\">\n",
       "  <thead>\n",
       "    <tr style=\"text-align: right;\">\n",
       "      <th></th>\n",
       "      <th>CLIENTNUM</th>\n",
       "      <th>Attrition_Flag</th>\n",
       "      <th>Customer_Age</th>\n",
       "      <th>Gender</th>\n",
       "      <th>Dependent_count</th>\n",
       "      <th>Education_Level</th>\n",
       "      <th>Marital_Status</th>\n",
       "      <th>Income_Category</th>\n",
       "      <th>Card_Category</th>\n",
       "      <th>Months_on_book</th>\n",
       "      <th>Total_Relationship_Count</th>\n",
       "      <th>Months_Inactive_12_mon</th>\n",
       "      <th>Contacts_Count_12_mon</th>\n",
       "      <th>Credit_Limit</th>\n",
       "      <th>Total_Revolving_Bal</th>\n",
       "      <th>Avg_Open_To_Buy</th>\n",
       "      <th>Total_Amt_Chng_Q4_Q1</th>\n",
       "      <th>Total_Trans_Amt</th>\n",
       "      <th>Total_Trans_Ct</th>\n",
       "      <th>Total_Ct_Chng_Q4_Q1</th>\n",
       "      <th>Avg_Utilization_Ratio</th>\n",
       "      <th>Attrition</th>\n",
       "    </tr>\n",
       "  </thead>\n",
       "  <tbody>\n",
       "    <tr>\n",
       "      <th>0</th>\n",
       "      <td>768805383</td>\n",
       "      <td>Existing Customer</td>\n",
       "      <td>45</td>\n",
       "      <td>M</td>\n",
       "      <td>3</td>\n",
       "      <td>High School</td>\n",
       "      <td>Married</td>\n",
       "      <td>$60K - $80K</td>\n",
       "      <td>Blue</td>\n",
       "      <td>39</td>\n",
       "      <td>5</td>\n",
       "      <td>1</td>\n",
       "      <td>3</td>\n",
       "      <td>12691.0</td>\n",
       "      <td>777</td>\n",
       "      <td>11914.0</td>\n",
       "      <td>1.335</td>\n",
       "      <td>1144</td>\n",
       "      <td>42</td>\n",
       "      <td>1.625</td>\n",
       "      <td>0.061</td>\n",
       "      <td>0</td>\n",
       "    </tr>\n",
       "    <tr>\n",
       "      <th>1</th>\n",
       "      <td>818770008</td>\n",
       "      <td>Existing Customer</td>\n",
       "      <td>49</td>\n",
       "      <td>F</td>\n",
       "      <td>5</td>\n",
       "      <td>Graduate</td>\n",
       "      <td>Single</td>\n",
       "      <td>Less than $40K</td>\n",
       "      <td>Blue</td>\n",
       "      <td>44</td>\n",
       "      <td>6</td>\n",
       "      <td>1</td>\n",
       "      <td>2</td>\n",
       "      <td>8256.0</td>\n",
       "      <td>864</td>\n",
       "      <td>7392.0</td>\n",
       "      <td>1.541</td>\n",
       "      <td>1291</td>\n",
       "      <td>33</td>\n",
       "      <td>3.714</td>\n",
       "      <td>0.105</td>\n",
       "      <td>0</td>\n",
       "    </tr>\n",
       "    <tr>\n",
       "      <th>2</th>\n",
       "      <td>713982108</td>\n",
       "      <td>Existing Customer</td>\n",
       "      <td>51</td>\n",
       "      <td>M</td>\n",
       "      <td>3</td>\n",
       "      <td>Graduate</td>\n",
       "      <td>Married</td>\n",
       "      <td>$80K - $120K</td>\n",
       "      <td>Blue</td>\n",
       "      <td>36</td>\n",
       "      <td>4</td>\n",
       "      <td>1</td>\n",
       "      <td>0</td>\n",
       "      <td>3418.0</td>\n",
       "      <td>0</td>\n",
       "      <td>3418.0</td>\n",
       "      <td>2.594</td>\n",
       "      <td>1887</td>\n",
       "      <td>20</td>\n",
       "      <td>2.333</td>\n",
       "      <td>0.000</td>\n",
       "      <td>0</td>\n",
       "    </tr>\n",
       "    <tr>\n",
       "      <th>4</th>\n",
       "      <td>709106358</td>\n",
       "      <td>Existing Customer</td>\n",
       "      <td>40</td>\n",
       "      <td>M</td>\n",
       "      <td>3</td>\n",
       "      <td>Uneducated</td>\n",
       "      <td>Married</td>\n",
       "      <td>$60K - $80K</td>\n",
       "      <td>Blue</td>\n",
       "      <td>21</td>\n",
       "      <td>5</td>\n",
       "      <td>1</td>\n",
       "      <td>0</td>\n",
       "      <td>4716.0</td>\n",
       "      <td>0</td>\n",
       "      <td>4716.0</td>\n",
       "      <td>2.175</td>\n",
       "      <td>816</td>\n",
       "      <td>28</td>\n",
       "      <td>2.500</td>\n",
       "      <td>0.000</td>\n",
       "      <td>0</td>\n",
       "    </tr>\n",
       "    <tr>\n",
       "      <th>5</th>\n",
       "      <td>713061558</td>\n",
       "      <td>Existing Customer</td>\n",
       "      <td>44</td>\n",
       "      <td>M</td>\n",
       "      <td>2</td>\n",
       "      <td>Graduate</td>\n",
       "      <td>Married</td>\n",
       "      <td>$40K - $60K</td>\n",
       "      <td>Blue</td>\n",
       "      <td>36</td>\n",
       "      <td>3</td>\n",
       "      <td>1</td>\n",
       "      <td>2</td>\n",
       "      <td>4010.0</td>\n",
       "      <td>1247</td>\n",
       "      <td>2763.0</td>\n",
       "      <td>1.376</td>\n",
       "      <td>1088</td>\n",
       "      <td>24</td>\n",
       "      <td>0.846</td>\n",
       "      <td>0.311</td>\n",
       "      <td>0</td>\n",
       "    </tr>\n",
       "  </tbody>\n",
       "</table>\n",
       "</div>"
      ],
      "text/plain": [
       "   CLIENTNUM     Attrition_Flag  Customer_Age Gender  Dependent_count  \\\n",
       "0  768805383  Existing Customer            45      M                3   \n",
       "1  818770008  Existing Customer            49      F                5   \n",
       "2  713982108  Existing Customer            51      M                3   \n",
       "4  709106358  Existing Customer            40      M                3   \n",
       "5  713061558  Existing Customer            44      M                2   \n",
       "\n",
       "  Education_Level Marital_Status Income_Category Card_Category  \\\n",
       "0     High School        Married     $60K - $80K          Blue   \n",
       "1        Graduate         Single  Less than $40K          Blue   \n",
       "2        Graduate        Married    $80K - $120K          Blue   \n",
       "4      Uneducated        Married     $60K - $80K          Blue   \n",
       "5        Graduate        Married     $40K - $60K          Blue   \n",
       "\n",
       "   Months_on_book  Total_Relationship_Count  Months_Inactive_12_mon  \\\n",
       "0              39                         5                       1   \n",
       "1              44                         6                       1   \n",
       "2              36                         4                       1   \n",
       "4              21                         5                       1   \n",
       "5              36                         3                       1   \n",
       "\n",
       "   Contacts_Count_12_mon  Credit_Limit  Total_Revolving_Bal  Avg_Open_To_Buy  \\\n",
       "0                      3       12691.0                  777          11914.0   \n",
       "1                      2        8256.0                  864           7392.0   \n",
       "2                      0        3418.0                    0           3418.0   \n",
       "4                      0        4716.0                    0           4716.0   \n",
       "5                      2        4010.0                 1247           2763.0   \n",
       "\n",
       "   Total_Amt_Chng_Q4_Q1  Total_Trans_Amt  Total_Trans_Ct  Total_Ct_Chng_Q4_Q1  \\\n",
       "0                 1.335             1144              42                1.625   \n",
       "1                 1.541             1291              33                3.714   \n",
       "2                 2.594             1887              20                2.333   \n",
       "4                 2.175              816              28                2.500   \n",
       "5                 1.376             1088              24                0.846   \n",
       "\n",
       "   Avg_Utilization_Ratio  Attrition  \n",
       "0                  0.061          0  \n",
       "1                  0.105          0  \n",
       "2                  0.000          0  \n",
       "4                  0.000          0  \n",
       "5                  0.311          0  "
      ]
     },
     "execution_count": 10,
     "metadata": {},
     "output_type": "execute_result"
    }
   ],
   "source": [
    "# 'Attrition is our Dependent Variable for the Logistic Regression, therefore we create\n",
    "# a binary variable'\n",
    "card['Attrition']= np.where(card['Attrition_Flag'] == 'Attrited Customer', 1 ,0)\n",
    "card.head()"
   ]
  },
  {
   "cell_type": "code",
   "execution_count": 12,
   "metadata": {},
   "outputs": [],
   "source": [
    "# Exported the cleaned DataFrame back to csv in order to be used for Tableau analysis:\n",
    "card.to_csv('card_tableau1.csv', index=False)\n"
   ]
  },
  {
   "cell_type": "code",
   "execution_count": 14,
   "metadata": {},
   "outputs": [],
   "source": [
    "#cd= pd.read_csv('card_tableau1.csv', )"
   ]
  },
  {
   "cell_type": "code",
   "execution_count": 120,
   "metadata": {},
   "outputs": [
    {
     "data": {
      "image/png": "[encoded data removed]",
      "text/plain": [
       "<Figure size 576x576 with 1 Axes>"
      ]
     },
     "metadata": {
      "needs_background": "light"
     },
     "output_type": "display_data"
    }
   ],
   "source": [
    "# we want a bar chart to plot the average credit limit against age:\n",
    "plt.subplots(figsize=(8,8))\n",
    "\n",
    "grp = card.groupby('Customer_Age')['Credit_Limit'].mean().reset_index()\n",
    "x= grp['Customer_Age']\n",
    "y =grp['Credit_Limit']\n",
    "plt.bar(x=x, height=y)\n",
    "\n",
    "plt.show()"
   ]
  },
  {
   "cell_type": "code",
   "execution_count": 99,
   "metadata": {},
   "outputs": [
    {
     "data": {
      "image/png": "[encoded data removed]",
      "text/plain": [
       "<Figure size 720x576 with 1 Axes>"
      ]
     },
     "metadata": {
      "needs_background": "light"
     },
     "output_type": "display_data"
    }
   ],
   "source": [
    "# scatter plot of credit limit and age\n",
    "plt.scatter(x=grp['Customer_Age'], y=grp['Credit_Limit'])\n",
    "plt.xlabel ('Customer Age')\n",
    "plt.ylabel ('Credit Limit')\n",
    "plt.title ('Scatter plot of Customer Age against Credit Limit')\n",
    "plt.show()"
   ]
  },
  {
   "cell_type": "code",
   "execution_count": 19,
   "metadata": {},
   "outputs": [],
   "source": [
    "# to get the average of a column:\n",
    "#(card['Months_on_book']).mean()"
   ]
  },
  {
   "cell_type": "code",
   "execution_count": 91,
   "metadata": {},
   "outputs": [
    {
     "data": {
      "text/html": [
       "<div>\n",
       "<style scoped>\n",
       "    .dataframe tbody tr th:only-of-type {\n",
       "        vertical-align: middle;\n",
       "    }\n",
       "\n",
       "    .dataframe tbody tr th {\n",
       "        vertical-align: top;\n",
       "    }\n",
       "\n",
       "    .dataframe thead th {\n",
       "        text-align: right;\n",
       "    }\n",
       "</style>\n",
       "<table border=\"1\" class=\"dataframe\">\n",
       "  <thead>\n",
       "    <tr style=\"text-align: right;\">\n",
       "      <th></th>\n",
       "      <th>Months_on_book</th>\n",
       "    </tr>\n",
       "    <tr>\n",
       "      <th>Gender</th>\n",
       "      <th></th>\n",
       "    </tr>\n",
       "  </thead>\n",
       "  <tbody>\n",
       "    <tr>\n",
       "      <th>F</th>\n",
       "      <td>36.063782</td>\n",
       "    </tr>\n",
       "    <tr>\n",
       "      <th>M</th>\n",
       "      <td>35.918391</td>\n",
       "    </tr>\n",
       "  </tbody>\n",
       "</table>\n",
       "</div>"
      ],
      "text/plain": [
       "        Months_on_book\n",
       "Gender                \n",
       "F            36.063782\n",
       "M            35.918391"
      ]
     },
     "execution_count": 91,
     "metadata": {},
     "output_type": "execute_result"
    }
   ],
   "source": [
    "pd.pivot_table(card, values='Months_on_book', index='Gender') # default function for 'values' is mean "
   ]
  },
  {
   "cell_type": "code",
   "execution_count": 21,
   "metadata": {},
   "outputs": [
    {
     "data": {
      "text/plain": [
       "0    0.84092\n",
       "1    0.15908\n",
       "Name: Attrition, dtype: float64"
      ]
     },
     "execution_count": 21,
     "metadata": {},
     "output_type": "execute_result"
    }
   ],
   "source": [
    "# to get the percentage of the existing and churned customers:\n",
    "card['Attrition'].value_counts(normalize=True)\n"
   ]
  },
  {
   "cell_type": "code",
   "execution_count": 19,
   "metadata": {},
   "outputs": [
    {
     "data": {
      "text/plain": [
       "Married     4194\n",
       "Single      3499\n",
       "Divorced     655\n",
       "Name: Marital_Status, dtype: int64"
      ]
     },
     "execution_count": 19,
     "metadata": {},
     "output_type": "execute_result"
    }
   ],
   "source": [
    "card['Marital_Status'].value_counts()"
   ]
  },
  {
   "cell_type": "code",
   "execution_count": 22,
   "metadata": {},
   "outputs": [
    {
     "data": {
      "text/html": [
       "<div>\n",
       "<style scoped>\n",
       "    .dataframe tbody tr th:only-of-type {\n",
       "        vertical-align: middle;\n",
       "    }\n",
       "\n",
       "    .dataframe tbody tr th {\n",
       "        vertical-align: top;\n",
       "    }\n",
       "\n",
       "    .dataframe thead th {\n",
       "        text-align: right;\n",
       "    }\n",
       "</style>\n",
       "<table border=\"1\" class=\"dataframe\">\n",
       "  <thead>\n",
       "    <tr style=\"text-align: right;\">\n",
       "      <th></th>\n",
       "      <th>Attrition</th>\n",
       "      <th>Credit_Limit</th>\n",
       "      <th>Total_Revolving_Bal</th>\n",
       "      <th>Avg_Open_To_Buy</th>\n",
       "      <th>Total_Trans_Amt</th>\n",
       "      <th>Avg_Utilization_Ratio</th>\n",
       "    </tr>\n",
       "  </thead>\n",
       "  <tbody>\n",
       "    <tr>\n",
       "      <th>Attrition</th>\n",
       "      <td>1.000000</td>\n",
       "      <td>-0.018300</td>\n",
       "      <td>-0.265673</td>\n",
       "      <td>0.005451</td>\n",
       "      <td>-0.160422</td>\n",
       "      <td>-0.185231</td>\n",
       "    </tr>\n",
       "    <tr>\n",
       "      <th>Credit_Limit</th>\n",
       "      <td>-0.018300</td>\n",
       "      <td>1.000000</td>\n",
       "      <td>0.045030</td>\n",
       "      <td>0.996004</td>\n",
       "      <td>0.167746</td>\n",
       "      <td>-0.482457</td>\n",
       "    </tr>\n",
       "    <tr>\n",
       "      <th>Total_Revolving_Bal</th>\n",
       "      <td>-0.265673</td>\n",
       "      <td>0.045030</td>\n",
       "      <td>1.000000</td>\n",
       "      <td>-0.044371</td>\n",
       "      <td>0.057583</td>\n",
       "      <td>0.625420</td>\n",
       "    </tr>\n",
       "    <tr>\n",
       "      <th>Avg_Open_To_Buy</th>\n",
       "      <td>0.005451</td>\n",
       "      <td>0.996004</td>\n",
       "      <td>-0.044371</td>\n",
       "      <td>1.000000</td>\n",
       "      <td>0.162603</td>\n",
       "      <td>-0.538385</td>\n",
       "    </tr>\n",
       "    <tr>\n",
       "      <th>Total_Trans_Amt</th>\n",
       "      <td>-0.160422</td>\n",
       "      <td>0.167746</td>\n",
       "      <td>0.057583</td>\n",
       "      <td>0.162603</td>\n",
       "      <td>1.000000</td>\n",
       "      <td>-0.091037</td>\n",
       "    </tr>\n",
       "    <tr>\n",
       "      <th>Avg_Utilization_Ratio</th>\n",
       "      <td>-0.185231</td>\n",
       "      <td>-0.482457</td>\n",
       "      <td>0.625420</td>\n",
       "      <td>-0.538385</td>\n",
       "      <td>-0.091037</td>\n",
       "      <td>1.000000</td>\n",
       "    </tr>\n",
       "  </tbody>\n",
       "</table>\n",
       "</div>"
      ],
      "text/plain": [
       "                       Attrition  Credit_Limit  Total_Revolving_Bal  \\\n",
       "Attrition               1.000000     -0.018300            -0.265673   \n",
       "Credit_Limit           -0.018300      1.000000             0.045030   \n",
       "Total_Revolving_Bal    -0.265673      0.045030             1.000000   \n",
       "Avg_Open_To_Buy         0.005451      0.996004            -0.044371   \n",
       "Total_Trans_Amt        -0.160422      0.167746             0.057583   \n",
       "Avg_Utilization_Ratio  -0.185231     -0.482457             0.625420   \n",
       "\n",
       "                       Avg_Open_To_Buy  Total_Trans_Amt  Avg_Utilization_Ratio  \n",
       "Attrition                     0.005451        -0.160422              -0.185231  \n",
       "Credit_Limit                  0.996004         0.167746              -0.482457  \n",
       "Total_Revolving_Bal          -0.044371         0.057583               0.625420  \n",
       "Avg_Open_To_Buy               1.000000         0.162603              -0.538385  \n",
       "Total_Trans_Amt               0.162603         1.000000              -0.091037  \n",
       "Avg_Utilization_Ratio        -0.538385        -0.091037               1.000000  "
      ]
     },
     "execution_count": 22,
     "metadata": {},
     "output_type": "execute_result"
    }
   ],
   "source": [
    "# the correlation between 'Attrition' (DV)and the selected desired columns\n",
    "# (independent variables):\n",
    "card[['Attrition','Credit_Limit','Total_Revolving_Bal','Avg_Open_To_Buy',\n",
    "      'Total_Trans_Amt','Avg_Utilization_Ratio']].corr()\n",
    "\n"
   ]
  },
  {
   "cell_type": "code",
   "execution_count": 21,
   "metadata": {},
   "outputs": [],
   "source": [
    "# here is the range of the correlation for interpretation:\n",
    "# zero: no correlation\n",
    "# weak (or negligible) correlation 0-0.3\n",
    "# low correlation 0.3 - 0.5\n",
    "# moderaye correlation 0.5 -0.7\n",
    "# strong (high) correlation 0.7 - 0.9\n",
    "# very high correlation 0.9 - 1.0\n",
    "\n",
    "# there is a very high correlation (0.996) between Avg_Open_To_Buy AND Credit limit \n",
    "# (this is a pre-warning that we must drop one of these independent variables).\n",
    "#Total_Revolving_Balance has a negligible correlation (0.045) with Credit Limit \n",
    "# and Total Transaction amount (0.0575) .\n",
    "\n"
   ]
  },
  {
   "cell_type": "code",
   "execution_count": 24,
   "metadata": {
    "scrolled": true
   },
   "outputs": [
    {
     "data": {
      "text/plain": [
       "Attrition                1.000000\n",
       "Credit_Limit            -0.018300\n",
       "Total_Revolving_Bal     -0.265673\n",
       "Avg_Open_To_Buy          0.005451\n",
       "Total_Trans_Amt         -0.160422\n",
       "Avg_Utilization_Ratio   -0.185231\n",
       "Name: Attrition, dtype: float64"
      ]
     },
     "execution_count": 24,
     "metadata": {},
     "output_type": "execute_result"
    }
   ],
   "source": [
    "# but we are only interested in the interactions between dependent variable 'Attrition' \n",
    "# and our selected independent varaibles:   \n",
    "card[['Attrition','Credit_Limit','Total_Revolving_Bal','Avg_Open_To_Buy',\n",
    "      'Total_Trans_Amt','Avg_Utilization_Ratio']].corr()['Attrition']\n",
    "\n"
   ]
  },
  {
   "cell_type": "code",
   "execution_count": 25,
   "metadata": {},
   "outputs": [],
   "source": [
    "#'Attrition' is negatively correlated with most of the independent variables \n",
    "# which is reasonable. For example: the higher the credit limit, th elower the chance of attrition."
   ]
  },
  {
   "cell_type": "code",
   "execution_count": 26,
   "metadata": {},
   "outputs": [
    {
     "data": {
      "text/plain": [
       "Index(['CLIENTNUM', 'Attrition_Flag', 'Customer_Age', 'Gender',\n",
       "       'Dependent_count', 'Education_Level', 'Marital_Status',\n",
       "       'Income_Category', 'Card_Category', 'Months_on_book',\n",
       "       'Total_Relationship_Count', 'Months_Inactive_12_mon',\n",
       "       'Contacts_Count_12_mon', 'Credit_Limit', 'Total_Revolving_Bal',\n",
       "       'Avg_Open_To_Buy', 'Total_Amt_Chng_Q4_Q1', 'Total_Trans_Amt',\n",
       "       'Total_Trans_Ct', 'Total_Ct_Chng_Q4_Q1', 'Avg_Utilization_Ratio',\n",
       "       'Attrition'],\n",
       "      dtype='object')"
      ]
     },
     "execution_count": 26,
     "metadata": {},
     "output_type": "execute_result"
    }
   ],
   "source": [
    "card.columns"
   ]
  },
  {
   "cell_type": "code",
   "execution_count": 100,
   "metadata": {},
   "outputs": [
    {
     "data": {
      "image/png": "[encoded data removed]",
      "text/plain": [
       "<Figure size 720x576 with 2 Axes>"
      ]
     },
     "metadata": {
      "needs_background": "light"
     },
     "output_type": "display_data"
    }
   ],
   "source": [
    "\n",
    "sns.heatmap(card[['Dependent_count','Months_on_book',\n",
    "       'Total_Relationship_Count', 'Months_Inactive_12_mon',\n",
    "       'Contacts_Count_12_mon', 'Credit_Limit', 'Total_Revolving_Bal',\n",
    "       'Avg_Open_To_Buy', 'Total_Amt_Chng_Q4_Q1', 'Total_Trans_Amt',\n",
    "       'Total_Trans_Ct', 'Total_Ct_Chng_Q4_Q1', 'Avg_Utilization_Ratio',\n",
    "       'Attrition']]\n",
    "            .corr(), annot=True, cmap='YlGnBu', linewidths=.8)\n",
    "plt.show()"
   ]
  },
  {
   "cell_type": "code",
   "execution_count": 28,
   "metadata": {},
   "outputs": [
    {
     "data": {
      "text/plain": [
       "<function matplotlib.pyplot.show(*args, **kw)>"
      ]
     },
     "execution_count": 28,
     "metadata": {},
     "output_type": "execute_result"
    },
    {
     "data": {
      "image/png": "[encoded data removed]",
      "text/plain": [
       "<Figure size 432x288 with 1 Axes>"
      ]
     },
     "metadata": {
      "needs_background": "light"
     },
     "output_type": "display_data"
    }
   ],
   "source": [
    "plt.scatter(x=card['Credit_Limit'], y=card['Avg_Open_To_Buy'])\n",
    "plt.show"
   ]
  },
  {
   "cell_type": "code",
   "execution_count": 29,
   "metadata": {},
   "outputs": [
    {
     "data": {
      "text/html": [
       "<div>\n",
       "<style scoped>\n",
       "    .dataframe tbody tr th:only-of-type {\n",
       "        vertical-align: middle;\n",
       "    }\n",
       "\n",
       "    .dataframe tbody tr th {\n",
       "        vertical-align: top;\n",
       "    }\n",
       "\n",
       "    .dataframe thead th {\n",
       "        text-align: right;\n",
       "    }\n",
       "</style>\n",
       "<table border=\"1\" class=\"dataframe\">\n",
       "  <thead>\n",
       "    <tr style=\"text-align: right;\">\n",
       "      <th></th>\n",
       "      <th>Credit_Limit</th>\n",
       "      <th>Avg_Open_To_Buy</th>\n",
       "    </tr>\n",
       "  </thead>\n",
       "  <tbody>\n",
       "    <tr>\n",
       "      <th>0</th>\n",
       "      <td>12691.0</td>\n",
       "      <td>11914.0</td>\n",
       "    </tr>\n",
       "    <tr>\n",
       "      <th>1</th>\n",
       "      <td>8256.0</td>\n",
       "      <td>7392.0</td>\n",
       "    </tr>\n",
       "    <tr>\n",
       "      <th>2</th>\n",
       "      <td>3418.0</td>\n",
       "      <td>3418.0</td>\n",
       "    </tr>\n",
       "    <tr>\n",
       "      <th>4</th>\n",
       "      <td>4716.0</td>\n",
       "      <td>4716.0</td>\n",
       "    </tr>\n",
       "    <tr>\n",
       "      <th>5</th>\n",
       "      <td>4010.0</td>\n",
       "      <td>2763.0</td>\n",
       "    </tr>\n",
       "  </tbody>\n",
       "</table>\n",
       "</div>"
      ],
      "text/plain": [
       "   Credit_Limit  Avg_Open_To_Buy\n",
       "0       12691.0          11914.0\n",
       "1        8256.0           7392.0\n",
       "2        3418.0           3418.0\n",
       "4        4716.0           4716.0\n",
       "5        4010.0           2763.0"
      ]
     },
     "execution_count": 29,
     "metadata": {},
     "output_type": "execute_result"
    }
   ],
   "source": [
    "card2=card[['Credit_Limit','Avg_Open_To_Buy']]\n",
    "card2.head()"
   ]
  },
  {
   "cell_type": "code",
   "execution_count": 30,
   "metadata": {},
   "outputs": [],
   "source": [
    "#sns.pairplot(card)\n",
    "#plt.show()"
   ]
  },
  {
   "cell_type": "code",
   "execution_count": 31,
   "metadata": {},
   "outputs": [
    {
     "data": {
      "image/png": "[encoded data removed]",
      "text/plain": [
       "<Figure size 432x288 with 1 Axes>"
      ]
     },
     "metadata": {
      "needs_background": "light"
     },
     "output_type": "display_data"
    }
   ],
   "source": [
    "plt.scatter(x=card['Avg_Utilization_Ratio'], y=card['Total_Revolving_Bal'])\n",
    "plt.show()"
   ]
  },
  {
   "cell_type": "code",
   "execution_count": 32,
   "metadata": {},
   "outputs": [
    {
     "data": {
      "image/png": "[encoded data removed]",
      "text/plain": [
       "<Figure size 432x288 with 1 Axes>"
      ]
     },
     "metadata": {
      "needs_background": "light"
     },
     "output_type": "display_data"
    }
   ],
   "source": [
    "plt.scatter(x=card['Avg_Utilization_Ratio'], y=card['Credit_Limit'])\n",
    "plt.show()"
   ]
  },
  {
   "cell_type": "code",
   "execution_count": 33,
   "metadata": {},
   "outputs": [],
   "source": [
    "# pi chart for gender:\n",
    "#fig, ax = plt.subplots()\n",
    "#ax.pie(card['Gender'].value_counts(),  autopct='%1.1f%%', shadow=True, startangle=90)"
   ]
  },
  {
   "cell_type": "code",
   "execution_count": 129,
   "metadata": {},
   "outputs": [
    {
     "data": {
      "image/png": "[encoded data removed]",
      "text/plain": [
       "<Figure size 576x576 with 1 Axes>"
      ]
     },
     "metadata": {},
     "output_type": "display_data"
    }
   ],
   "source": [
    "# to depict a pie chart for Gender:\n",
    "card['Gender'].value_counts().plot.pie(autopct=\"%1.1f%%\",explode=(0.1,0),\n",
    "\n",
    "radius=1.5,startangle=90,shadow=True)\n",
    "plt.rcParams['figure.figsize'] = (8, 8)\n",
    "\n",
    "#plt.title ('pie chart of Gender')\n",
    "plt.show()"
   ]
  },
  {
   "cell_type": "code",
   "execution_count": 128,
   "metadata": {},
   "outputs": [
    {
     "data": {
      "image/png": "[encoded data removed]",
      "text/plain": [
       "<Figure size 720x720 with 1 Axes>"
      ]
     },
     "metadata": {},
     "output_type": "display_data"
    }
   ],
   "source": [
    "card['Card_Category'].value_counts().plot.pie(autopct=\"%1.1f%%\")\n",
    "\n",
    "#plt.title ('Card_Category')\n",
    "plt.rcParams['figure.figsize'] = (8, 8)\n",
    "#grid=True"
   ]
  },
  {
   "cell_type": "code",
   "execution_count": 36,
   "metadata": {},
   "outputs": [
    {
     "data": {
      "image/png": "[encoded data removed]",
      "text/plain": [
       "<Figure size 720x576 with 1 Axes>"
      ]
     },
     "metadata": {
      "needs_background": "light"
     },
     "output_type": "display_data"
    }
   ],
   "source": [
    "#plt.subplots(figsize=(10,8))\n",
    "sns.barplot(x=card['Customer_Age'], y=card['Customer_Age'].value_counts())\n",
    "plt.xlabel ('Customer Age')\n",
    "plt.ylabel ('Number of Customers')\n",
    "plt.title('Age Analysis')\n",
    "plt.show()\n"
   ]
  },
  {
   "cell_type": "code",
   "execution_count": 251,
   "metadata": {},
   "outputs": [
    {
     "data": {
      "image/png": "[encoded data removed]",
      "text/plain": [
       "<Figure size 576x576 with 1 Axes>"
      ]
     },
     "metadata": {
      "needs_background": "light"
     },
     "output_type": "display_data"
    }
   ],
   "source": [
    "card1['Customer_Age'].hist(bins=80)\n",
    "plt.xlabel ('Customer Age')\n",
    "plt.ylabel ('Frequency')\n",
    "plt.title ('Customer Age')\n",
    "plt.show()"
   ]
  },
  {
   "cell_type": "code",
   "execution_count": 37,
   "metadata": {},
   "outputs": [
    {
     "data": {
      "image/png": "[encoded data removed]",
      "text/plain": [
       "<Figure size 720x576 with 1 Axes>"
      ]
     },
     "metadata": {
      "needs_background": "light"
     },
     "output_type": "display_data"
    }
   ],
   "source": [
    "sns.violinplot(card['Customer_Age'], grid=True, palette='Set3')\n",
    "#plt.xticks(rotation=90)\n",
    "plt.title ('violin plot for age')\n",
    "plt.show()"
   ]
  },
  {
   "cell_type": "code",
   "execution_count": 240,
   "metadata": {
    "scrolled": true
   },
   "outputs": [
    {
     "data": {
      "text/html": [
       "<div>\n",
       "<style scoped>\n",
       "    .dataframe tbody tr th:only-of-type {\n",
       "        vertical-align: middle;\n",
       "    }\n",
       "\n",
       "    .dataframe tbody tr th {\n",
       "        vertical-align: top;\n",
       "    }\n",
       "\n",
       "    .dataframe thead th {\n",
       "        text-align: right;\n",
       "    }\n",
       "</style>\n",
       "<table border=\"1\" class=\"dataframe\">\n",
       "  <thead>\n",
       "    <tr style=\"text-align: right;\">\n",
       "      <th></th>\n",
       "      <th>CLIENTNUM</th>\n",
       "      <th>Months_on_book</th>\n",
       "      <th>Total_Relationship_Count</th>\n",
       "      <th>Months_Inactive_12_mon</th>\n",
       "      <th>Contacts_Count_12_mon</th>\n",
       "      <th>Credit_Limit</th>\n",
       "      <th>Total_Revolving_Bal</th>\n",
       "      <th>Avg_Open_To_Buy</th>\n",
       "      <th>Total_Amt_Chng_Q4_Q1</th>\n",
       "      <th>Total_Trans_Amt</th>\n",
       "      <th>Total_Trans_Ct</th>\n",
       "      <th>Total_Ct_Chng_Q4_Q1</th>\n",
       "      <th>Avg_Utilization_Ratio</th>\n",
       "    </tr>\n",
       "  </thead>\n",
       "  <tbody>\n",
       "    <tr>\n",
       "      <th>0</th>\n",
       "      <td>768805383</td>\n",
       "      <td>39</td>\n",
       "      <td>5</td>\n",
       "      <td>1</td>\n",
       "      <td>3</td>\n",
       "      <td>12691.0</td>\n",
       "      <td>777</td>\n",
       "      <td>11914.0</td>\n",
       "      <td>1.335</td>\n",
       "      <td>1144</td>\n",
       "      <td>42</td>\n",
       "      <td>1.625</td>\n",
       "      <td>0.061</td>\n",
       "    </tr>\n",
       "    <tr>\n",
       "      <th>1</th>\n",
       "      <td>818770008</td>\n",
       "      <td>44</td>\n",
       "      <td>6</td>\n",
       "      <td>1</td>\n",
       "      <td>2</td>\n",
       "      <td>8256.0</td>\n",
       "      <td>864</td>\n",
       "      <td>7392.0</td>\n",
       "      <td>1.541</td>\n",
       "      <td>1291</td>\n",
       "      <td>33</td>\n",
       "      <td>3.714</td>\n",
       "      <td>0.105</td>\n",
       "    </tr>\n",
       "    <tr>\n",
       "      <th>2</th>\n",
       "      <td>713982108</td>\n",
       "      <td>36</td>\n",
       "      <td>4</td>\n",
       "      <td>1</td>\n",
       "      <td>0</td>\n",
       "      <td>3418.0</td>\n",
       "      <td>0</td>\n",
       "      <td>3418.0</td>\n",
       "      <td>2.594</td>\n",
       "      <td>1887</td>\n",
       "      <td>20</td>\n",
       "      <td>2.333</td>\n",
       "      <td>0.000</td>\n",
       "    </tr>\n",
       "    <tr>\n",
       "      <th>4</th>\n",
       "      <td>709106358</td>\n",
       "      <td>21</td>\n",
       "      <td>5</td>\n",
       "      <td>1</td>\n",
       "      <td>0</td>\n",
       "      <td>4716.0</td>\n",
       "      <td>0</td>\n",
       "      <td>4716.0</td>\n",
       "      <td>2.175</td>\n",
       "      <td>816</td>\n",
       "      <td>28</td>\n",
       "      <td>2.500</td>\n",
       "      <td>0.000</td>\n",
       "    </tr>\n",
       "    <tr>\n",
       "      <th>5</th>\n",
       "      <td>713061558</td>\n",
       "      <td>36</td>\n",
       "      <td>3</td>\n",
       "      <td>1</td>\n",
       "      <td>2</td>\n",
       "      <td>4010.0</td>\n",
       "      <td>1247</td>\n",
       "      <td>2763.0</td>\n",
       "      <td>1.376</td>\n",
       "      <td>1088</td>\n",
       "      <td>24</td>\n",
       "      <td>0.846</td>\n",
       "      <td>0.311</td>\n",
       "    </tr>\n",
       "  </tbody>\n",
       "</table>\n",
       "</div>"
      ],
      "text/plain": [
       "   CLIENTNUM  Months_on_book  Total_Relationship_Count  \\\n",
       "0  768805383              39                         5   \n",
       "1  818770008              44                         6   \n",
       "2  713982108              36                         4   \n",
       "4  709106358              21                         5   \n",
       "5  713061558              36                         3   \n",
       "\n",
       "   Months_Inactive_12_mon  Contacts_Count_12_mon  Credit_Limit  \\\n",
       "0                       1                      3       12691.0   \n",
       "1                       1                      2        8256.0   \n",
       "2                       1                      0        3418.0   \n",
       "4                       1                      0        4716.0   \n",
       "5                       1                      2        4010.0   \n",
       "\n",
       "   Total_Revolving_Bal  Avg_Open_To_Buy  Total_Amt_Chng_Q4_Q1  \\\n",
       "0                  777          11914.0                 1.335   \n",
       "1                  864           7392.0                 1.541   \n",
       "2                    0           3418.0                 2.594   \n",
       "4                    0           4716.0                 2.175   \n",
       "5                 1247           2763.0                 1.376   \n",
       "\n",
       "   Total_Trans_Amt  Total_Trans_Ct  Total_Ct_Chng_Q4_Q1  Avg_Utilization_Ratio  \n",
       "0             1144              42                1.625                  0.061  \n",
       "1             1291              33                3.714                  0.105  \n",
       "2             1887              20                2.333                  0.000  \n",
       "4              816              28                2.500                  0.000  \n",
       "5             1088              24                0.846                  0.311  "
      ]
     },
     "execution_count": 240,
     "metadata": {},
     "output_type": "execute_result"
    }
   ],
   "source": [
    "# lets take the numeric columns:\n",
    "num = card.select_dtypes(include=np.number)\n",
    "num= num.drop(num[['Attrition', 'Customer_Age', 'Dependent_count']], axis=1)\n",
    "num.head()\n"
   ]
  },
  {
   "cell_type": "code",
   "execution_count": 207,
   "metadata": {},
   "outputs": [],
   "source": [
    "from sklearn.preprocessing import MinMaxScaler\n",
    "\n",
    "scaler = MinMaxScaler()\n",
    "num1= pd.DataFrame(scaler.fit_transform(num), columns=num.columns, index=num.index)\n",
    "#num.head()"
   ]
  },
  {
   "cell_type": "code",
   "execution_count": 208,
   "metadata": {},
   "outputs": [],
   "source": [
    "# we extract the desired columns form the original dataframe:\n",
    "num2= card[['Attrition','CLIENTNUM', 'Attrition_Flag', 'Customer_Age', 'Gender',\n",
    "       'Dependent_count', 'Education_Level', 'Marital_Status',\n",
    "       'Income_Category', 'Card_Category']]"
   ]
  },
  {
   "cell_type": "code",
   "execution_count": 210,
   "metadata": {},
   "outputs": [
    {
     "data": {
      "text/html": [
       "<div>\n",
       "<style scoped>\n",
       "    .dataframe tbody tr th:only-of-type {\n",
       "        vertical-align: middle;\n",
       "    }\n",
       "\n",
       "    .dataframe tbody tr th {\n",
       "        vertical-align: top;\n",
       "    }\n",
       "\n",
       "    .dataframe thead th {\n",
       "        text-align: right;\n",
       "    }\n",
       "</style>\n",
       "<table border=\"1\" class=\"dataframe\">\n",
       "  <thead>\n",
       "    <tr style=\"text-align: right;\">\n",
       "      <th></th>\n",
       "      <th>Attrition</th>\n",
       "      <th>CLIENTNUM</th>\n",
       "      <th>Attrition_Flag</th>\n",
       "      <th>Customer_Age</th>\n",
       "      <th>Gender</th>\n",
       "      <th>Dependent_count</th>\n",
       "      <th>Education_Level</th>\n",
       "      <th>Marital_Status</th>\n",
       "      <th>Income_Category</th>\n",
       "      <th>Card_Category</th>\n",
       "      <th>Months_on_book</th>\n",
       "      <th>Total_Relationship_Count</th>\n",
       "      <th>Months_Inactive_12_mon</th>\n",
       "      <th>Contacts_Count_12_mon</th>\n",
       "      <th>Credit_Limit</th>\n",
       "      <th>Total_Revolving_Bal</th>\n",
       "      <th>Avg_Open_To_Buy</th>\n",
       "      <th>Total_Amt_Chng_Q4_Q1</th>\n",
       "      <th>Total_Trans_Amt</th>\n",
       "      <th>Total_Trans_Ct</th>\n",
       "      <th>Total_Ct_Chng_Q4_Q1</th>\n",
       "      <th>Avg_Utilization_Ratio</th>\n",
       "    </tr>\n",
       "  </thead>\n",
       "  <tbody>\n",
       "    <tr>\n",
       "      <th>0</th>\n",
       "      <td>0</td>\n",
       "      <td>768805383</td>\n",
       "      <td>Existing Customer</td>\n",
       "      <td>45</td>\n",
       "      <td>M</td>\n",
       "      <td>3</td>\n",
       "      <td>High School</td>\n",
       "      <td>Married</td>\n",
       "      <td>$60K - $80K</td>\n",
       "      <td>Blue</td>\n",
       "      <td>0.604651</td>\n",
       "      <td>0.8</td>\n",
       "      <td>0.166667</td>\n",
       "      <td>0.500000</td>\n",
       "      <td>0.340190</td>\n",
       "      <td>0.308701</td>\n",
       "      <td>0.345116</td>\n",
       "      <td>0.392994</td>\n",
       "      <td>0.035273</td>\n",
       "      <td>0.248062</td>\n",
       "      <td>0.437534</td>\n",
       "      <td>0.061061</td>\n",
       "    </tr>\n",
       "    <tr>\n",
       "      <th>1</th>\n",
       "      <td>0</td>\n",
       "      <td>818770008</td>\n",
       "      <td>Existing Customer</td>\n",
       "      <td>49</td>\n",
       "      <td>F</td>\n",
       "      <td>5</td>\n",
       "      <td>Graduate</td>\n",
       "      <td>Single</td>\n",
       "      <td>Less than $40K</td>\n",
       "      <td>Blue</td>\n",
       "      <td>0.720930</td>\n",
       "      <td>1.0</td>\n",
       "      <td>0.166667</td>\n",
       "      <td>0.333333</td>\n",
       "      <td>0.206112</td>\n",
       "      <td>0.343266</td>\n",
       "      <td>0.214093</td>\n",
       "      <td>0.453636</td>\n",
       "      <td>0.043452</td>\n",
       "      <td>0.178295</td>\n",
       "      <td>1.000000</td>\n",
       "      <td>0.105105</td>\n",
       "    </tr>\n",
       "    <tr>\n",
       "      <th>2</th>\n",
       "      <td>0</td>\n",
       "      <td>713982108</td>\n",
       "      <td>Existing Customer</td>\n",
       "      <td>51</td>\n",
       "      <td>M</td>\n",
       "      <td>3</td>\n",
       "      <td>Graduate</td>\n",
       "      <td>Married</td>\n",
       "      <td>$80K - $120K</td>\n",
       "      <td>Blue</td>\n",
       "      <td>0.534884</td>\n",
       "      <td>0.6</td>\n",
       "      <td>0.166667</td>\n",
       "      <td>0.000000</td>\n",
       "      <td>0.059850</td>\n",
       "      <td>0.000000</td>\n",
       "      <td>0.098948</td>\n",
       "      <td>0.763615</td>\n",
       "      <td>0.076611</td>\n",
       "      <td>0.077519</td>\n",
       "      <td>0.628164</td>\n",
       "      <td>0.000000</td>\n",
       "    </tr>\n",
       "    <tr>\n",
       "      <th>4</th>\n",
       "      <td>0</td>\n",
       "      <td>709106358</td>\n",
       "      <td>Existing Customer</td>\n",
       "      <td>40</td>\n",
       "      <td>M</td>\n",
       "      <td>3</td>\n",
       "      <td>Uneducated</td>\n",
       "      <td>Married</td>\n",
       "      <td>$60K - $80K</td>\n",
       "      <td>Blue</td>\n",
       "      <td>0.186047</td>\n",
       "      <td>0.8</td>\n",
       "      <td>0.166667</td>\n",
       "      <td>0.000000</td>\n",
       "      <td>0.099091</td>\n",
       "      <td>0.000000</td>\n",
       "      <td>0.136557</td>\n",
       "      <td>0.640271</td>\n",
       "      <td>0.017025</td>\n",
       "      <td>0.139535</td>\n",
       "      <td>0.673129</td>\n",
       "      <td>0.000000</td>\n",
       "    </tr>\n",
       "    <tr>\n",
       "      <th>5</th>\n",
       "      <td>0</td>\n",
       "      <td>713061558</td>\n",
       "      <td>Existing Customer</td>\n",
       "      <td>44</td>\n",
       "      <td>M</td>\n",
       "      <td>2</td>\n",
       "      <td>Graduate</td>\n",
       "      <td>Married</td>\n",
       "      <td>$40K - $60K</td>\n",
       "      <td>Blue</td>\n",
       "      <td>0.534884</td>\n",
       "      <td>0.4</td>\n",
       "      <td>0.166667</td>\n",
       "      <td>0.333333</td>\n",
       "      <td>0.077747</td>\n",
       "      <td>0.495431</td>\n",
       "      <td>0.079970</td>\n",
       "      <td>0.405063</td>\n",
       "      <td>0.032158</td>\n",
       "      <td>0.108527</td>\n",
       "      <td>0.227787</td>\n",
       "      <td>0.311311</td>\n",
       "    </tr>\n",
       "  </tbody>\n",
       "</table>\n",
       "</div>"
      ],
      "text/plain": [
       "   Attrition  CLIENTNUM     Attrition_Flag  Customer_Age Gender  \\\n",
       "0          0  768805383  Existing Customer            45      M   \n",
       "1          0  818770008  Existing Customer            49      F   \n",
       "2          0  713982108  Existing Customer            51      M   \n",
       "4          0  709106358  Existing Customer            40      M   \n",
       "5          0  713061558  Existing Customer            44      M   \n",
       "\n",
       "   Dependent_count Education_Level Marital_Status Income_Category  \\\n",
       "0                3     High School        Married     $60K - $80K   \n",
       "1                5        Graduate         Single  Less than $40K   \n",
       "2                3        Graduate        Married    $80K - $120K   \n",
       "4                3      Uneducated        Married     $60K - $80K   \n",
       "5                2        Graduate        Married     $40K - $60K   \n",
       "\n",
       "  Card_Category  Months_on_book  Total_Relationship_Count  \\\n",
       "0          Blue        0.604651                       0.8   \n",
       "1          Blue        0.720930                       1.0   \n",
       "2          Blue        0.534884                       0.6   \n",
       "4          Blue        0.186047                       0.8   \n",
       "5          Blue        0.534884                       0.4   \n",
       "\n",
       "   Months_Inactive_12_mon  Contacts_Count_12_mon  Credit_Limit  \\\n",
       "0                0.166667               0.500000      0.340190   \n",
       "1                0.166667               0.333333      0.206112   \n",
       "2                0.166667               0.000000      0.059850   \n",
       "4                0.166667               0.000000      0.099091   \n",
       "5                0.166667               0.333333      0.077747   \n",
       "\n",
       "   Total_Revolving_Bal  Avg_Open_To_Buy  Total_Amt_Chng_Q4_Q1  \\\n",
       "0             0.308701         0.345116              0.392994   \n",
       "1             0.343266         0.214093              0.453636   \n",
       "2             0.000000         0.098948              0.763615   \n",
       "4             0.000000         0.136557              0.640271   \n",
       "5             0.495431         0.079970              0.405063   \n",
       "\n",
       "   Total_Trans_Amt  Total_Trans_Ct  Total_Ct_Chng_Q4_Q1  Avg_Utilization_Ratio  \n",
       "0         0.035273        0.248062             0.437534               0.061061  \n",
       "1         0.043452        0.178295             1.000000               0.105105  \n",
       "2         0.076611        0.077519             0.628164               0.000000  \n",
       "4         0.017025        0.139535             0.673129               0.000000  \n",
       "5         0.032158        0.108527             0.227787               0.311311  "
      ]
     },
     "execution_count": 210,
     "metadata": {},
     "output_type": "execute_result"
    }
   ],
   "source": [
    "# now we should merge num1 and num\n",
    "\n",
    "card1=pd.concat([num2, num1], axis=1)\n",
    "#card1.head()\n",
    "card1.head()"
   ]
  },
  {
   "cell_type": "code",
   "execution_count": null,
   "metadata": {},
   "outputs": [],
   "source": []
  },
  {
   "cell_type": "code",
   "execution_count": 42,
   "metadata": {},
   "outputs": [],
   "source": [
    "# to normalise our data, especially, credit limit, total revolving balance, total \n",
    "# transaction amount, we use log form:\n",
    "\n",
    "# from sklearn import preprocessing\n",
    "\n",
    "#card['Credit_Limit']=(card['Credit_Limit']-min(card['Credit_Limit']))/(card['Credit_Limit'].max()-card['Credit_Limit'].min())\n",
    "# the returned values are between 0 & 1.\n",
    "# formula = (x-xmin)/(xmax-xmin)\n"
   ]
  },
  {
   "cell_type": "code",
   "execution_count": null,
   "metadata": {},
   "outputs": [],
   "source": []
  },
  {
   "cell_type": "code",
   "execution_count": 43,
   "metadata": {},
   "outputs": [
    {
     "data": {
      "text/plain": [
       "<matplotlib.collections.PathCollection at 0x7f92a56d10d0>"
      ]
     },
     "execution_count": 43,
     "metadata": {},
     "output_type": "execute_result"
    },
    {
     "data": {
      "image/png": "[encoded data removed]",
      "text/plain": [
       "<Figure size 720x576 with 1 Axes>"
      ]
     },
     "metadata": {
      "needs_background": "light"
     },
     "output_type": "display_data"
    }
   ],
   "source": [
    "# scatter between the mean of credit limit for each age category:\n",
    "\n",
    "plt.scatter(x = card1.groupby('Customer_Age')['Credit_Limit'].mean().reset_index()['Customer_Age'], \n",
    "            y = card1.groupby('Customer_Age')['Credit_Limit'].mean().reset_index()['Credit_Limit'])\n",
    "\n"
   ]
  },
  {
   "cell_type": "code",
   "execution_count": 44,
   "metadata": {},
   "outputs": [],
   "source": [
    "# when there is a U-shape relationship between x and y and we want to use regression, then we should \n",
    "# square the independent variable. In this case y= credit limit, x= customer age:\n",
    "# to know more about this type of regression : \n",
    "#https://www.theanalysisfactor.com/regression-modelshow-do-you-know-you-need-a-polynomial/"
   ]
  },
  {
   "cell_type": "code",
   "execution_count": 45,
   "metadata": {},
   "outputs": [
    {
     "data": {
      "text/html": [
       "<table class=\"simpletable\">\n",
       "<caption>OLS Regression Results</caption>\n",
       "<tr>\n",
       "  <th>Dep. Variable:</th>      <td>Credit_Limit</td>   <th>  R-squared (uncentered):</th>      <td>   0.817</td>\n",
       "</tr>\n",
       "<tr>\n",
       "  <th>Model:</th>                   <td>OLS</td>       <th>  Adj. R-squared (uncentered):</th> <td>   0.813</td>\n",
       "</tr>\n",
       "<tr>\n",
       "  <th>Method:</th>             <td>Least Squares</td>  <th>  F-statistic:       </th>          <td>   196.5</td>\n",
       "</tr>\n",
       "<tr>\n",
       "  <th>Date:</th>             <td>Sat, 12 Dec 2020</td> <th>  Prob (F-statistic):</th>          <td>7.78e-18</td>\n",
       "</tr>\n",
       "<tr>\n",
       "  <th>Time:</th>                 <td>10:52:46</td>     <th>  Log-Likelihood:    </th>          <td> -426.58</td>\n",
       "</tr>\n",
       "<tr>\n",
       "  <th>No. Observations:</th>      <td>    45</td>      <th>  AIC:               </th>          <td>   855.2</td>\n",
       "</tr>\n",
       "<tr>\n",
       "  <th>Df Residuals:</th>          <td>    44</td>      <th>  BIC:               </th>          <td>   857.0</td>\n",
       "</tr>\n",
       "<tr>\n",
       "  <th>Df Model:</th>              <td>     1</td>      <th>                     </th>              <td> </td>   \n",
       "</tr>\n",
       "<tr>\n",
       "  <th>Covariance Type:</th>      <td>nonrobust</td>    <th>                     </th>              <td> </td>   \n",
       "</tr>\n",
       "</table>\n",
       "<table class=\"simpletable\">\n",
       "<tr>\n",
       "        <td></td>          <th>coef</th>     <th>std err</th>      <th>t</th>      <th>P>|t|</th>  <th>[0.025</th>    <th>0.975]</th>  \n",
       "</tr>\n",
       "<tr>\n",
       "  <th>Customer_Age</th> <td>  134.2673</td> <td>    9.578</td> <td>   14.018</td> <td> 0.000</td> <td>  114.964</td> <td>  153.571</td>\n",
       "</tr>\n",
       "</table>\n",
       "<table class=\"simpletable\">\n",
       "<tr>\n",
       "  <th>Omnibus:</th>       <td> 9.463</td> <th>  Durbin-Watson:     </th> <td>   0.138</td>\n",
       "</tr>\n",
       "<tr>\n",
       "  <th>Prob(Omnibus):</th> <td> 0.009</td> <th>  Jarque-Bera (JB):  </th> <td>   9.587</td>\n",
       "</tr>\n",
       "<tr>\n",
       "  <th>Skew:</th>          <td>-1.127</td> <th>  Prob(JB):          </th> <td> 0.00829</td>\n",
       "</tr>\n",
       "<tr>\n",
       "  <th>Kurtosis:</th>      <td> 3.177</td> <th>  Cond. No.          </th> <td>    1.00</td>\n",
       "</tr>\n",
       "</table><br/><br/>Warnings:<br/>[1] Standard Errors assume that the covariance matrix of the errors is correctly specified."
      ],
      "text/plain": [
       "<class 'statsmodels.iolib.summary.Summary'>\n",
       "\"\"\"\n",
       "                                 OLS Regression Results                                \n",
       "=======================================================================================\n",
       "Dep. Variable:           Credit_Limit   R-squared (uncentered):                   0.817\n",
       "Model:                            OLS   Adj. R-squared (uncentered):              0.813\n",
       "Method:                 Least Squares   F-statistic:                              196.5\n",
       "Date:                Sat, 12 Dec 2020   Prob (F-statistic):                    7.78e-18\n",
       "Time:                        10:52:46   Log-Likelihood:                         -426.58\n",
       "No. Observations:                  45   AIC:                                      855.2\n",
       "Df Residuals:                      44   BIC:                                      857.0\n",
       "Df Model:                           1                                                  \n",
       "Covariance Type:            nonrobust                                                  \n",
       "================================================================================\n",
       "                   coef    std err          t      P>|t|      [0.025      0.975]\n",
       "--------------------------------------------------------------------------------\n",
       "Customer_Age   134.2673      9.578     14.018      0.000     114.964     153.571\n",
       "==============================================================================\n",
       "Omnibus:                        9.463   Durbin-Watson:                   0.138\n",
       "Prob(Omnibus):                  0.009   Jarque-Bera (JB):                9.587\n",
       "Skew:                          -1.127   Prob(JB):                      0.00829\n",
       "Kurtosis:                       3.177   Cond. No.                         1.00\n",
       "==============================================================================\n",
       "\n",
       "Warnings:\n",
       "[1] Standard Errors assume that the covariance matrix of the errors is correctly specified.\n",
       "\"\"\""
      ]
     },
     "execution_count": 45,
     "metadata": {},
     "output_type": "execute_result"
    }
   ],
   "source": [
    "Y = card.groupby('Customer_Age')['Credit_Limit'].mean().reset_index()['Credit_Limit']\n",
    "X = card.groupby('Customer_Age')['Credit_Limit'].mean().reset_index()['Customer_Age']\n",
    "\n",
    "sm.add_constant(X)\n",
    "model = sm.OLS(Y, X).fit()\n",
    "model.summary()"
   ]
  },
  {
   "cell_type": "code",
   "execution_count": 152,
   "metadata": {},
   "outputs": [
    {
     "name": "stdout",
     "output_type": "stream",
     "text": [
      "                            OLS Regression Results                            \n",
      "==============================================================================\n",
      "Dep. Variable:           Credit_Limit   R-squared:                       0.255\n",
      "Model:                            OLS   Adj. R-squared:                  0.254\n",
      "Method:                 Least Squares   F-statistic:                     475.4\n",
      "Date:                Sat, 12 Dec 2020   Prob (F-statistic):               0.00\n",
      "Time:                        12:28:59   Log-Likelihood:                 161.56\n",
      "No. Observations:                8348   AIC:                            -309.1\n",
      "Df Residuals:                    8341   BIC:                            -259.9\n",
      "Df Model:                           6                                         \n",
      "Covariance Type:            nonrobust                                         \n",
      "=========================================================================================\n",
      "                            coef    std err          t      P>|t|      [0.025      0.975]\n",
      "-----------------------------------------------------------------------------------------\n",
      "const                     0.0735      0.013      5.801      0.000       0.049       0.098\n",
      "F                        -0.0922      0.007    -13.201      0.000      -0.106      -0.079\n",
      "M                         0.1658      0.007     24.596      0.000       0.153       0.179\n",
      "Customer_Age              0.0010      0.000      2.954      0.003       0.000       0.002\n",
      "Contacts_Count_12_mon     0.0291      0.014      2.046      0.041       0.001       0.057\n",
      "Total_Revolving_Bal       0.0190      0.008      2.358      0.018       0.003       0.035\n",
      "Total_Trans_Amt           0.2785      0.023     11.968      0.000       0.233       0.324\n",
      "Total_Trans_Ct           -0.0689      0.025     -2.812      0.005      -0.117      -0.021\n",
      "==============================================================================\n",
      "Omnibus:                     1532.309   Durbin-Watson:                   1.940\n",
      "Prob(Omnibus):                  0.000   Jarque-Bera (JB):             2652.524\n",
      "Skew:                           1.194   Prob(JB):                         0.00\n",
      "Kurtosis:                       4.388   Cond. No.                     5.72e+18\n",
      "==============================================================================\n",
      "\n",
      "Warnings:\n",
      "[1] Standard Errors assume that the covariance matrix of the errors is correctly specified.\n",
      "[2] The smallest eigenvalue is 5.65e-31. This might indicate that there are\n",
      "strong multicollinearity problems or that the design matrix is singular.\n",
      "\n",
      "==================================\n",
      "                      Credit_Limit\n",
      "----------------------------------\n",
      "const                 0.0735***   \n",
      "                      (0.0127)    \n",
      "F                     -0.0922***  \n",
      "                      (0.0070)    \n",
      "M                     0.1658***   \n",
      "                      (0.0067)    \n",
      "Customer_Age          0.0010***   \n",
      "                      (0.0003)    \n",
      "Contacts_Count_12_mon 0.0291**    \n",
      "                      (0.0142)    \n",
      "Total_Revolving_Bal   0.0190**    \n",
      "                      (0.0081)    \n",
      "Total_Trans_Amt       0.2785***   \n",
      "                      (0.0233)    \n",
      "Total_Trans_Ct        -0.0689***  \n",
      "                      (0.0245)    \n",
      "R-squared             0.2543      \n",
      "                      0.2548      \n",
      "==================================\n",
      "Standard errors in parentheses.\n",
      "* p<.1, ** p<.05, ***p<.01\n"
     ]
    }
   ],
   "source": [
    "# now we want to regress the credit limit on some of the major variables that determine the\n",
    "# credit limit:\n",
    "gen=pd.get_dummies(card1['Gender'])\n",
    "Y=card1['Credit_Limit']\n",
    "X=card1[['Customer_Age','Contacts_Count_12_mon', 'Total_Revolving_Bal', 'Total_Trans_Amt',\n",
    "       'Total_Trans_Ct']]\n",
    "X=pd.concat([gen, X], axis=1)\n",
    "X=sm.add_constant(X)\n",
    "model=sm.OLS(Y, X).fit()\n",
    "print(model.summary())\n",
    "\n",
    "\n",
    "from statsmodels.iolib.summary2 import summary_col\n",
    "summary = summary_col(model,stars=True)\n",
    "print(summary)"
   ]
  },
  {
   "cell_type": "code",
   "execution_count": null,
   "metadata": {},
   "outputs": [],
   "source": []
  },
  {
   "cell_type": "markdown",
   "metadata": {},
   "source": [
    "### Logistic Regression"
   ]
  },
  {
   "cell_type": "code",
   "execution_count": 154,
   "metadata": {},
   "outputs": [
    {
     "name": "stdout",
     "output_type": "stream",
     "text": [
      "Optimization terminated successfully.\n",
      "         Current function value: 0.245234\n",
      "         Iterations 8\n",
      "                           Logit Regression Results                           \n",
      "==============================================================================\n",
      "Dep. Variable:              Attrition   No. Observations:                 8348\n",
      "Model:                          Logit   Df Residuals:                     8337\n",
      "Method:                           MLE   Df Model:                           10\n",
      "Date:                Sat, 12 Dec 2020   Pseudo R-squ.:                  0.4403\n",
      "Time:                        12:38:11   Log-Likelihood:                -2047.2\n",
      "converged:                       True   LL-Null:                       -3657.6\n",
      "Covariance Type:            nonrobust   LLR p-value:                     0.000\n",
      "============================================================================================\n",
      "                               coef    std err          z      P>|z|      [0.025      0.975]\n",
      "--------------------------------------------------------------------------------------------\n",
      "const                        4.0129      0.281     14.301      0.000       3.463       4.563\n",
      "Months_on_book              -0.7097      0.212     -3.355      0.001      -1.124      -0.295\n",
      "Total_Relationship_Count    -2.2760      0.148    -15.371      0.000      -2.566      -1.986\n",
      "Months_Inactive_12_mon       3.0664      0.246     12.448      0.000       2.584       3.549\n",
      "Contacts_Count_12_mon        2.7564      0.231     11.932      0.000       2.304       3.209\n",
      "Credit_Limit                -0.2661      0.150     -1.771      0.077      -0.561       0.028\n",
      "Total_Revolving_Bal         -2.5215      0.126    -20.055      0.000      -2.768      -2.275\n",
      "Total_Amt_Chng_Q4_Q1        -1.4525      0.671     -2.165      0.030      -2.767      -0.138\n",
      "Total_Trans_Amt              7.8569      0.424     18.532      0.000       7.026       8.688\n",
      "Total_Trans_Ct             -13.7549      0.493    -27.926      0.000     -14.720     -12.789\n",
      "Total_Ct_Chng_Q4_Q1        -10.0443      0.746    -13.465      0.000     -11.506      -8.582\n",
      "============================================================================================\n",
      "\n",
      "====================================\n",
      "                          Attrition \n",
      "------------------------------------\n",
      "const                    4.0129***  \n",
      "                         (0.2806)   \n",
      "Months_on_book           -0.7097*** \n",
      "                         (0.2115)   \n",
      "Total_Relationship_Count -2.2760*** \n",
      "                         (0.1481)   \n",
      "Months_Inactive_12_mon   3.0664***  \n",
      "                         (0.2463)   \n",
      "Contacts_Count_12_mon    2.7564***  \n",
      "                         (0.2310)   \n",
      "Credit_Limit             -0.2661*   \n",
      "                         (0.1503)   \n",
      "Total_Revolving_Bal      -2.5215*** \n",
      "                         (0.1257)   \n",
      "Total_Amt_Chng_Q4_Q1     -1.4525**  \n",
      "                         (0.6709)   \n",
      "Total_Trans_Amt          7.8569***  \n",
      "                         (0.4240)   \n",
      "Total_Trans_Ct           -13.7549***\n",
      "                         (0.4925)   \n",
      "Total_Ct_Chng_Q4_Q1      -10.0443***\n",
      "                         (0.7459)   \n",
      "====================================\n",
      "Standard errors in parentheses.\n",
      "* p<.1, ** p<.05, ***p<.01\n"
     ]
    }
   ],
   "source": [
    "\n",
    "Y= card1['Attrition'] # dependent variable\n",
    "X=card1[['Months_on_book',\n",
    "       'Total_Relationship_Count', 'Months_Inactive_12_mon',\n",
    "       'Contacts_Count_12_mon', 'Credit_Limit', 'Total_Revolving_Bal',\n",
    "       'Total_Amt_Chng_Q4_Q1', 'Total_Trans_Amt',\n",
    "       'Total_Trans_Ct', 'Total_Ct_Chng_Q4_Q1']]\n",
    "\n",
    "X=sm.add_constant(X)\n",
    "\n",
    "model=sm.Logit(Y, X).fit()\n",
    "print(model.summary())\n",
    "summaryL = summary_col(model,stars=True)\n",
    "print(summaryL)"
   ]
  },
  {
   "cell_type": "code",
   "execution_count": 48,
   "metadata": {},
   "outputs": [],
   "source": [
    "# customers who have longer relationship with the bank are less likely to have churned.\n",
    "# customers who were inactive in the last 12 months are very likely to churn. \n",
    "# when the p-value is less than 5%, the intervals will NOT contain the ZERO.\n"
   ]
  },
  {
   "cell_type": "code",
   "execution_count": 49,
   "metadata": {},
   "outputs": [
    {
     "name": "stdout",
     "output_type": "stream",
     "text": [
      "Optimization terminated successfully.\n",
      "         Current function value: 0.293389\n",
      "         Iterations 8\n"
     ]
    },
    {
     "data": {
      "text/html": [
       "<table class=\"simpletable\">\n",
       "<caption>Logit Regression Results</caption>\n",
       "<tr>\n",
       "  <th>Dep. Variable:</th>       <td>Attrition</td>    <th>  No. Observations:  </th>  <td>  8348</td> \n",
       "</tr>\n",
       "<tr>\n",
       "  <th>Model:</th>                 <td>Logit</td>      <th>  Df Residuals:      </th>  <td>  8343</td> \n",
       "</tr>\n",
       "<tr>\n",
       "  <th>Method:</th>                 <td>MLE</td>       <th>  Df Model:          </th>  <td>     4</td> \n",
       "</tr>\n",
       "<tr>\n",
       "  <th>Date:</th>            <td>Sat, 12 Dec 2020</td> <th>  Pseudo R-squ.:     </th>  <td>0.3304</td> \n",
       "</tr>\n",
       "<tr>\n",
       "  <th>Time:</th>                <td>10:52:47</td>     <th>  Log-Likelihood:    </th> <td> -2449.2</td>\n",
       "</tr>\n",
       "<tr>\n",
       "  <th>converged:</th>             <td>True</td>       <th>  LL-Null:           </th> <td> -3657.6</td>\n",
       "</tr>\n",
       "<tr>\n",
       "  <th>Covariance Type:</th>     <td>nonrobust</td>    <th>  LLR p-value:       </th>  <td> 0.000</td> \n",
       "</tr>\n",
       "</table>\n",
       "<table class=\"simpletable\">\n",
       "<tr>\n",
       "             <td></td>               <th>coef</th>     <th>std err</th>      <th>z</th>      <th>P>|z|</th>  <th>[0.025</th>    <th>0.975]</th>  \n",
       "</tr>\n",
       "<tr>\n",
       "  <th>const</th>                  <td>    1.5083</td> <td>    0.134</td> <td>   11.248</td> <td> 0.000</td> <td>    1.245</td> <td>    1.771</td>\n",
       "</tr>\n",
       "<tr>\n",
       "  <th>Months_Inactive_12_mon</th> <td>    2.9210</td> <td>    0.220</td> <td>   13.251</td> <td> 0.000</td> <td>    2.489</td> <td>    3.353</td>\n",
       "</tr>\n",
       "<tr>\n",
       "  <th>Total_Revolving_Bal</th>    <td>   -2.7305</td> <td>    0.117</td> <td>  -23.321</td> <td> 0.000</td> <td>   -2.960</td> <td>   -2.501</td>\n",
       "</tr>\n",
       "<tr>\n",
       "  <th>Total_Trans_Amt</th>        <td>    8.0539</td> <td>    0.384</td> <td>   20.968</td> <td> 0.000</td> <td>    7.301</td> <td>    8.807</td>\n",
       "</tr>\n",
       "<tr>\n",
       "  <th>Total_Trans_Ct</th>         <td>  -13.5495</td> <td>    0.435</td> <td>  -31.123</td> <td> 0.000</td> <td>  -14.403</td> <td>  -12.696</td>\n",
       "</tr>\n",
       "</table>"
      ],
      "text/plain": [
       "<class 'statsmodels.iolib.summary.Summary'>\n",
       "\"\"\"\n",
       "                           Logit Regression Results                           \n",
       "==============================================================================\n",
       "Dep. Variable:              Attrition   No. Observations:                 8348\n",
       "Model:                          Logit   Df Residuals:                     8343\n",
       "Method:                           MLE   Df Model:                            4\n",
       "Date:                Sat, 12 Dec 2020   Pseudo R-squ.:                  0.3304\n",
       "Time:                        10:52:47   Log-Likelihood:                -2449.2\n",
       "converged:                       True   LL-Null:                       -3657.6\n",
       "Covariance Type:            nonrobust   LLR p-value:                     0.000\n",
       "==========================================================================================\n",
       "                             coef    std err          z      P>|z|      [0.025      0.975]\n",
       "------------------------------------------------------------------------------------------\n",
       "const                      1.5083      0.134     11.248      0.000       1.245       1.771\n",
       "Months_Inactive_12_mon     2.9210      0.220     13.251      0.000       2.489       3.353\n",
       "Total_Revolving_Bal       -2.7305      0.117    -23.321      0.000      -2.960      -2.501\n",
       "Total_Trans_Amt            8.0539      0.384     20.968      0.000       7.301       8.807\n",
       "Total_Trans_Ct           -13.5495      0.435    -31.123      0.000     -14.403     -12.696\n",
       "==========================================================================================\n",
       "\"\"\""
      ]
     },
     "execution_count": 49,
     "metadata": {},
     "output_type": "execute_result"
    }
   ],
   "source": [
    "# we try to eliminate some of the variables which we think not relvant to the DV.\n",
    "Y= card1['Attrition'] # dependent variable\n",
    "X=card1[['Months_Inactive_12_mon',\n",
    "        'Total_Revolving_Bal'\n",
    "         , 'Total_Trans_Amt',\n",
    "       'Total_Trans_Ct',]]\n",
    "\n",
    "X=sm.add_constant(X)\n",
    "\n",
    "model=sm.Logit(Y, X).fit()\n",
    "model.summary()\n"
   ]
  },
  {
   "cell_type": "code",
   "execution_count": 50,
   "metadata": {},
   "outputs": [
    {
     "name": "stdout",
     "output_type": "stream",
     "text": [
      "Optimization terminated successfully.\n",
      "         Current function value: 0.283321\n",
      "         Iterations 7\n"
     ]
    },
    {
     "data": {
      "text/html": [
       "<table class=\"simpletable\">\n",
       "<caption>Logit Regression Results</caption>\n",
       "<tr>\n",
       "  <th>Dep. Variable:</th>       <td>Attrition</td>    <th>  No. Observations:  </th>  <td>  8348</td> \n",
       "</tr>\n",
       "<tr>\n",
       "  <th>Model:</th>                 <td>Logit</td>      <th>  Df Residuals:      </th>  <td>  8340</td> \n",
       "</tr>\n",
       "<tr>\n",
       "  <th>Method:</th>                 <td>MLE</td>       <th>  Df Model:          </th>  <td>     7</td> \n",
       "</tr>\n",
       "<tr>\n",
       "  <th>Date:</th>            <td>Sat, 12 Dec 2020</td> <th>  Pseudo R-squ.:     </th>  <td>0.3534</td> \n",
       "</tr>\n",
       "<tr>\n",
       "  <th>Time:</th>                <td>10:52:48</td>     <th>  Log-Likelihood:    </th> <td> -2365.2</td>\n",
       "</tr>\n",
       "<tr>\n",
       "  <th>converged:</th>             <td>True</td>       <th>  LL-Null:           </th> <td> -3657.6</td>\n",
       "</tr>\n",
       "<tr>\n",
       "  <th>Covariance Type:</th>     <td>nonrobust</td>    <th>  LLR p-value:       </th>  <td> 0.000</td> \n",
       "</tr>\n",
       "</table>\n",
       "<table class=\"simpletable\">\n",
       "<tr>\n",
       "              <td></td>                <th>coef</th>     <th>std err</th>      <th>z</th>      <th>P>|z|</th>  <th>[0.025</th>    <th>0.975]</th>  \n",
       "</tr>\n",
       "<tr>\n",
       "  <th>const</th>                    <td>    5.5084</td> <td>    0.232</td> <td>   23.711</td> <td> 0.000</td> <td>    5.053</td> <td>    5.964</td>\n",
       "</tr>\n",
       "<tr>\n",
       "  <th>Months_on_book</th>           <td>   -0.4974</td> <td>    0.197</td> <td>   -2.528</td> <td> 0.011</td> <td>   -0.883</td> <td>   -0.112</td>\n",
       "</tr>\n",
       "<tr>\n",
       "  <th>Total_Relationship_Count</th> <td>   -2.5358</td> <td>    0.137</td> <td>  -18.497</td> <td> 0.000</td> <td>   -2.804</td> <td>   -2.267</td>\n",
       "</tr>\n",
       "<tr>\n",
       "  <th>Credit_Limit</th>             <td>    0.0389</td> <td>    0.139</td> <td>    0.279</td> <td> 0.780</td> <td>   -0.234</td> <td>    0.312</td>\n",
       "</tr>\n",
       "<tr>\n",
       "  <th>Total_Revolving_Bal</th>      <td>   -2.4527</td> <td>    0.118</td> <td>  -20.758</td> <td> 0.000</td> <td>   -2.684</td> <td>   -2.221</td>\n",
       "</tr>\n",
       "<tr>\n",
       "  <th>Total_Amt_Chng_Q4_Q1</th>     <td>   -0.6448</td> <td>    0.608</td> <td>   -1.061</td> <td> 0.289</td> <td>   -1.836</td> <td>    0.547</td>\n",
       "</tr>\n",
       "<tr>\n",
       "  <th>Total_Trans_Ct</th>           <td>   -7.6078</td> <td>    0.273</td> <td>  -27.897</td> <td> 0.000</td> <td>   -8.142</td> <td>   -7.073</td>\n",
       "</tr>\n",
       "<tr>\n",
       "  <th>Total_Ct_Chng_Q4_Q1</th>      <td>   -9.8534</td> <td>    0.713</td> <td>  -13.813</td> <td> 0.000</td> <td>  -11.251</td> <td>   -8.455</td>\n",
       "</tr>\n",
       "</table>"
      ],
      "text/plain": [
       "<class 'statsmodels.iolib.summary.Summary'>\n",
       "\"\"\"\n",
       "                           Logit Regression Results                           \n",
       "==============================================================================\n",
       "Dep. Variable:              Attrition   No. Observations:                 8348\n",
       "Model:                          Logit   Df Residuals:                     8340\n",
       "Method:                           MLE   Df Model:                            7\n",
       "Date:                Sat, 12 Dec 2020   Pseudo R-squ.:                  0.3534\n",
       "Time:                        10:52:48   Log-Likelihood:                -2365.2\n",
       "converged:                       True   LL-Null:                       -3657.6\n",
       "Covariance Type:            nonrobust   LLR p-value:                     0.000\n",
       "============================================================================================\n",
       "                               coef    std err          z      P>|z|      [0.025      0.975]\n",
       "--------------------------------------------------------------------------------------------\n",
       "const                        5.5084      0.232     23.711      0.000       5.053       5.964\n",
       "Months_on_book              -0.4974      0.197     -2.528      0.011      -0.883      -0.112\n",
       "Total_Relationship_Count    -2.5358      0.137    -18.497      0.000      -2.804      -2.267\n",
       "Credit_Limit                 0.0389      0.139      0.279      0.780      -0.234       0.312\n",
       "Total_Revolving_Bal         -2.4527      0.118    -20.758      0.000      -2.684      -2.221\n",
       "Total_Amt_Chng_Q4_Q1        -0.6448      0.608     -1.061      0.289      -1.836       0.547\n",
       "Total_Trans_Ct              -7.6078      0.273    -27.897      0.000      -8.142      -7.073\n",
       "Total_Ct_Chng_Q4_Q1         -9.8534      0.713    -13.813      0.000     -11.251      -8.455\n",
       "============================================================================================\n",
       "\"\"\""
      ]
     },
     "execution_count": 50,
     "metadata": {},
     "output_type": "execute_result"
    }
   ],
   "source": [
    "# this tme we remove the +ve signs:\n",
    "\n",
    "Y= card1['Attrition'] # dependent variable\n",
    "X=card1[['Months_on_book',\n",
    "       'Total_Relationship_Count','Credit_Limit', 'Total_Revolving_Bal',\n",
    "       'Total_Amt_Chng_Q4_Q1',\n",
    "       'Total_Trans_Ct', 'Total_Ct_Chng_Q4_Q1']]\n",
    "\n",
    "X=sm.add_constant(X)\n",
    "\n",
    "model=sm.Logit(Y, X).fit()\n",
    "model.summary()"
   ]
  },
  {
   "cell_type": "markdown",
   "metadata": {},
   "source": [
    "### Logistic regression: educational level as dummy variable"
   ]
  },
  {
   "cell_type": "code",
   "execution_count": 51,
   "metadata": {},
   "outputs": [
    {
     "data": {
      "text/plain": [
       "Graduate         2591\n",
       "High School      1653\n",
       "Unknown          1267\n",
       "Uneducated       1204\n",
       "College           844\n",
       "Post-Graduate     431\n",
       "Doctorate         358\n",
       "Name: Education_Level, dtype: int64"
      ]
     },
     "execution_count": 51,
     "metadata": {},
     "output_type": "execute_result"
    }
   ],
   "source": [
    "card1['Education_Level'].value_counts()"
   ]
  },
  {
   "cell_type": "code",
   "execution_count": 52,
   "metadata": {},
   "outputs": [
    {
     "name": "stdout",
     "output_type": "stream",
     "text": [
      "Optimization terminated successfully.\n",
      "         Current function value: 0.244631\n",
      "         Iterations 8\n",
      "                           Logit Regression Results                           \n",
      "==============================================================================\n",
      "Dep. Variable:              Attrition   No. Observations:                 8348\n",
      "Model:                          Logit   Df Residuals:                     8331\n",
      "Method:                           MLE   Df Model:                           16\n",
      "Date:                Sat, 12 Dec 2020   Pseudo R-squ.:                  0.4417\n",
      "Time:                        10:52:48   Log-Likelihood:                -2042.2\n",
      "converged:                       True   LL-Null:                       -3657.6\n",
      "Covariance Type:            nonrobust   LLR p-value:                     0.000\n",
      "============================================================================================\n",
      "                               coef    std err          z      P>|z|      [0.025      0.975]\n",
      "--------------------------------------------------------------------------------------------\n",
      "const                        4.1211      0.298     13.839      0.000       3.537       4.705\n",
      "College                     -0.0960      0.164     -0.585      0.559      -0.418       0.226\n",
      "Doctorate                    0.3025      0.209      1.446      0.148      -0.107       0.713\n",
      "Graduate                    -0.1756      0.125     -1.400      0.161      -0.421       0.070\n",
      "High School                 -0.2390      0.139     -1.724      0.085      -0.511       0.033\n",
      "Post-Graduate                0.0605      0.202      0.300      0.764      -0.335       0.456\n",
      "Uneducated                  -0.1684      0.149     -1.127      0.260      -0.461       0.125\n",
      "Months_on_book              -0.7055      0.212     -3.325      0.001      -1.121      -0.290\n",
      "Total_Relationship_Count    -2.2624      0.148    -15.250      0.000      -2.553      -1.972\n",
      "Months_Inactive_12_mon       3.0790      0.247     12.477      0.000       2.595       3.563\n",
      "Contacts_Count_12_mon        2.7518      0.231     11.897      0.000       2.298       3.205\n",
      "Credit_Limit                -0.2599      0.151     -1.725      0.085      -0.555       0.035\n",
      "Total_Revolving_Bal         -2.5216      0.126    -20.026      0.000      -2.768      -2.275\n",
      "Total_Amt_Chng_Q4_Q1        -1.4822      0.673     -2.204      0.028      -2.800      -0.164\n",
      "Total_Trans_Amt              7.8950      0.425     18.580      0.000       7.062       8.728\n",
      "Total_Trans_Ct             -13.8048      0.494    -27.958      0.000     -14.773     -12.837\n",
      "Total_Ct_Chng_Q4_Q1         -9.9787      0.747    -13.360      0.000     -11.443      -8.515\n",
      "============================================================================================\n"
     ]
    }
   ],
   "source": [
    "edu=pd.get_dummies(card1['Education_Level'])\n",
    "edu.drop(['Unknown'], axis=1, inplace=True)\n",
    "\n",
    "Y= card1['Attrition'] # dependent variable\n",
    "X=card1[['Months_on_book',\n",
    "       'Total_Relationship_Count', 'Months_Inactive_12_mon',\n",
    "       'Contacts_Count_12_mon', 'Credit_Limit', 'Total_Revolving_Bal',\n",
    "       'Total_Amt_Chng_Q4_Q1', 'Total_Trans_Amt',\n",
    "       'Total_Trans_Ct', 'Total_Ct_Chng_Q4_Q1']]\n",
    "X=pd.concat([edu, X], axis=1)\n",
    "X=sm.add_constant(X)\n",
    "\n",
    "model=sm.Logit(Y, X).fit()\n",
    "print(model.summary())"
   ]
  },
  {
   "cell_type": "code",
   "execution_count": 53,
   "metadata": {},
   "outputs": [],
   "source": [
    "# It seems that Educational Level has no impact(relationship) with Attrion nor with credit limit. "
   ]
  },
  {
   "cell_type": "markdown",
   "metadata": {},
   "source": [
    "### Logistic Regression, Marital status as Dummy Variable"
   ]
  },
  {
   "cell_type": "code",
   "execution_count": 155,
   "metadata": {},
   "outputs": [
    {
     "data": {
      "text/plain": [
       "Married     4194\n",
       "Single      3499\n",
       "Divorced     655\n",
       "Name: Marital_Status, dtype: int64"
      ]
     },
     "execution_count": 155,
     "metadata": {},
     "output_type": "execute_result"
    }
   ],
   "source": [
    "card1['Marital_Status'].value_counts()"
   ]
  },
  {
   "cell_type": "code",
   "execution_count": 156,
   "metadata": {},
   "outputs": [],
   "source": [
    "# to perform the Logistic regression with dummy variables:\n",
    "\n",
    "marital=pd.get_dummies(card1['Marital_Status'])\n",
    "marital.drop(['Single'], axis=1, inplace=True)\n"
   ]
  },
  {
   "cell_type": "code",
   "execution_count": 162,
   "metadata": {},
   "outputs": [
    {
     "name": "stdout",
     "output_type": "stream",
     "text": [
      "Optimization terminated successfully.\n",
      "         Current function value: 0.242354\n",
      "         Iterations 8\n",
      "                           Logit Regression Results                           \n",
      "==============================================================================\n",
      "Dep. Variable:              Attrition   No. Observations:                 8348\n",
      "Model:                          Logit   Df Residuals:                     8335\n",
      "Method:                           MLE   Df Model:                           12\n",
      "Date:                Sat, 12 Dec 2020   Pseudo R-squ.:                  0.4469\n",
      "Time:                        12:57:19   Log-Likelihood:                -2023.2\n",
      "converged:                       True   LL-Null:                       -3657.6\n",
      "Covariance Type:            nonrobust   LLR p-value:                     0.000\n",
      "============================================================================================\n",
      "                               coef    std err          z      P>|z|      [0.025      0.975]\n",
      "--------------------------------------------------------------------------------------------\n",
      "const                        4.3526      0.288     15.091      0.000       3.787       4.918\n",
      "Divorced                    -0.0248      0.161     -0.154      0.877      -0.340       0.290\n",
      "Married                     -0.5804      0.087     -6.652      0.000      -0.751      -0.409\n",
      "Months_on_book              -0.6747      0.212     -3.176      0.001      -1.091      -0.258\n",
      "Total_Relationship_Count    -2.2597      0.149    -15.185      0.000      -2.551      -1.968\n",
      "Months_Inactive_12_mon       3.0690      0.248     12.360      0.000       2.582       3.556\n",
      "Contacts_Count_12_mon        2.7901      0.233     11.998      0.000       2.334       3.246\n",
      "Credit_Limit                -0.3194      0.152     -2.103      0.035      -0.617      -0.022\n",
      "Total_Revolving_Bal         -2.4782      0.126    -19.613      0.000      -2.726      -2.231\n",
      "Total_Amt_Chng_Q4_Q1        -1.3091      0.681     -1.924      0.054      -2.643       0.025\n",
      "Total_Trans_Amt              8.1032      0.430     18.829      0.000       7.260       8.947\n",
      "Total_Trans_Ct             -14.2765      0.505    -28.273      0.000     -15.266     -13.287\n",
      "Total_Ct_Chng_Q4_Q1         -9.9896      0.751    -13.297      0.000     -11.462      -8.517\n",
      "============================================================================================\n",
      "\n",
      "====================================\n",
      "                          Attrition \n",
      "------------------------------------\n",
      "const                    4.3526***  \n",
      "                         (0.2884)   \n",
      "Divorced                 -0.0248    \n",
      "                         (0.1607)   \n",
      "Married                  -0.5804*** \n",
      "                         (0.0873)   \n",
      "Months_on_book           -0.6747*** \n",
      "                         (0.2125)   \n",
      "Total_Relationship_Count -2.2597*** \n",
      "                         (0.1488)   \n",
      "Months_Inactive_12_mon   3.0690***  \n",
      "                         (0.2483)   \n",
      "Contacts_Count_12_mon    2.7901***  \n",
      "                         (0.2326)   \n",
      "Credit_Limit             -0.3194**  \n",
      "                         (0.1518)   \n",
      "Total_Revolving_Bal      -2.4782*** \n",
      "                         (0.1264)   \n",
      "Total_Amt_Chng_Q4_Q1     -1.3091*   \n",
      "                         (0.6806)   \n",
      "Total_Trans_Amt          8.1032***  \n",
      "                         (0.4303)   \n",
      "Total_Trans_Ct           -14.2765***\n",
      "                         (0.5049)   \n",
      "Total_Ct_Chng_Q4_Q1      -9.9896*** \n",
      "                         (0.7513)   \n",
      "====================================\n",
      "Standard errors in parentheses.\n",
      "* p<.1, ** p<.05, ***p<.01\n"
     ]
    }
   ],
   "source": [
    "Y= card1['Attrition'] # dependent variable\n",
    "ivs=card1[['Months_on_book',\n",
    "       'Total_Relationship_Count', 'Months_Inactive_12_mon',\n",
    "       'Contacts_Count_12_mon', 'Credit_Limit', 'Total_Revolving_Bal',\n",
    "       'Total_Amt_Chng_Q4_Q1', 'Total_Trans_Amt',\n",
    "       'Total_Trans_Ct', 'Total_Ct_Chng_Q4_Q1']]\n",
    "\n",
    "X=pd.concat([marital, ivs], axis=1)\n",
    "X=sm.add_constant(X)\n",
    "\n",
    "model=sm.Logit(Y, X).fit()\n",
    "print(model.summary())\n",
    "summary_Attrition_marital=summary_col(model, stars=True)\n",
    "print(summary_Attrition_marital)"
   ]
  },
  {
   "cell_type": "code",
   "execution_count": 57,
   "metadata": {},
   "outputs": [],
   "source": [
    "#1-  When the categorical variable (Divorced) is not significant, it means that the impact \n",
    "#of 'Divorced'  is not different from the impact of the base variable (single).\n",
    "#2-  'Married' category is significant and the coefficient sign is negative. It means that \n",
    "# the 'Married' group is less likely to churn as compared to the 'single' group.\n",
    "\n"
   ]
  },
  {
   "cell_type": "code",
   "execution_count": 58,
   "metadata": {},
   "outputs": [],
   "source": [
    "#card1.info()"
   ]
  },
  {
   "cell_type": "code",
   "execution_count": 59,
   "metadata": {},
   "outputs": [
    {
     "data": {
      "text/plain": [
       "Less than $40K    3311\n",
       "$40K - $60K       1658\n",
       "$80K - $120K      1399\n",
       "$60K - $80K       1300\n",
       "$120K +            680\n",
       "Name: Income_Category, dtype: int64"
      ]
     },
     "execution_count": 59,
     "metadata": {},
     "output_type": "execute_result"
    }
   ],
   "source": [
    "card1['Income_Category'].value_counts()"
   ]
  },
  {
   "cell_type": "code",
   "execution_count": 60,
   "metadata": {},
   "outputs": [
    {
     "data": {
      "text/html": [
       "<div>\n",
       "<style scoped>\n",
       "    .dataframe tbody tr th:only-of-type {\n",
       "        vertical-align: middle;\n",
       "    }\n",
       "\n",
       "    .dataframe tbody tr th {\n",
       "        vertical-align: top;\n",
       "    }\n",
       "\n",
       "    .dataframe thead th {\n",
       "        text-align: right;\n",
       "    }\n",
       "</style>\n",
       "<table border=\"1\" class=\"dataframe\">\n",
       "  <thead>\n",
       "    <tr style=\"text-align: right;\">\n",
       "      <th>Income_Category</th>\n",
       "      <th>$120K +</th>\n",
       "      <th>$40K - $60K</th>\n",
       "      <th>$60K - $80K</th>\n",
       "      <th>$80K - $120K</th>\n",
       "      <th>Less than $40K</th>\n",
       "    </tr>\n",
       "    <tr>\n",
       "      <th>Card_Category</th>\n",
       "      <th></th>\n",
       "      <th></th>\n",
       "      <th></th>\n",
       "      <th></th>\n",
       "      <th></th>\n",
       "    </tr>\n",
       "  </thead>\n",
       "  <tbody>\n",
       "    <tr>\n",
       "      <th>Blue</th>\n",
       "      <td>600</td>\n",
       "      <td>1554</td>\n",
       "      <td>1185</td>\n",
       "      <td>1274</td>\n",
       "      <td>3169</td>\n",
       "    </tr>\n",
       "    <tr>\n",
       "      <th>Gold</th>\n",
       "      <td>18</td>\n",
       "      <td>13</td>\n",
       "      <td>26</td>\n",
       "      <td>17</td>\n",
       "      <td>22</td>\n",
       "    </tr>\n",
       "    <tr>\n",
       "      <th>Platinum</th>\n",
       "      <td>4</td>\n",
       "      <td>1</td>\n",
       "      <td>4</td>\n",
       "      <td>0</td>\n",
       "      <td>4</td>\n",
       "    </tr>\n",
       "    <tr>\n",
       "      <th>Silver</th>\n",
       "      <td>58</td>\n",
       "      <td>90</td>\n",
       "      <td>85</td>\n",
       "      <td>108</td>\n",
       "      <td>116</td>\n",
       "    </tr>\n",
       "  </tbody>\n",
       "</table>\n",
       "</div>"
      ],
      "text/plain": [
       "Income_Category  $120K +  $40K - $60K  $60K - $80K  $80K - $120K  \\\n",
       "Card_Category                                                      \n",
       "Blue                 600         1554         1185          1274   \n",
       "Gold                  18           13           26            17   \n",
       "Platinum               4            1            4             0   \n",
       "Silver                58           90           85           108   \n",
       "\n",
       "Income_Category  Less than $40K  \n",
       "Card_Category                    \n",
       "Blue                       3169  \n",
       "Gold                         22  \n",
       "Platinum                      4  \n",
       "Silver                      116  "
      ]
     },
     "execution_count": 60,
     "metadata": {},
     "output_type": "execute_result"
    }
   ],
   "source": [
    "# doing a cross tab to compare income with card categories:\n",
    "\n",
    "pd.crosstab(card['Card_Category'], card['Income_Category'])\n"
   ]
  },
  {
   "cell_type": "code",
   "execution_count": 160,
   "metadata": {},
   "outputs": [],
   "source": [
    "income=pd.get_dummies(card1['Income_Category'])\n",
    "income.drop(['Less than $40K'], axis=1, inplace=True)\n",
    "\n",
    "\n"
   ]
  },
  {
   "cell_type": "code",
   "execution_count": 175,
   "metadata": {},
   "outputs": [
    {
     "name": "stdout",
     "output_type": "stream",
     "text": [
      "Optimization terminated successfully.\n",
      "         Current function value: 0.243318\n",
      "         Iterations 8\n",
      "                           Logit Regression Results                           \n",
      "==============================================================================\n",
      "Dep. Variable:              Attrition   No. Observations:                 8348\n",
      "Model:                          Logit   Df Residuals:                     8333\n",
      "Method:                           MLE   Df Model:                           14\n",
      "Date:                Sat, 12 Dec 2020   Pseudo R-squ.:                  0.4447\n",
      "Time:                        13:21:51   Log-Likelihood:                -2031.2\n",
      "converged:                       True   LL-Null:                       -3657.6\n",
      "Covariance Type:            nonrobust   LLR p-value:                     0.000\n",
      "============================================================================================\n",
      "                               coef    std err          z      P>|z|      [0.025      0.975]\n",
      "--------------------------------------------------------------------------------------------\n",
      "const                        4.2759      0.287     14.883      0.000       3.713       4.839\n",
      "$120K +                     -0.1893      0.174     -1.086      0.278      -0.531       0.152\n",
      "$40K - $60K                 -0.4052      0.114     -3.543      0.000      -0.629      -0.181\n",
      "$60K - $80K                 -0.6489      0.131     -4.943      0.000      -0.906      -0.392\n",
      "$80K - $120K                -0.4086      0.135     -3.034      0.002      -0.673      -0.145\n",
      "Months_on_book              -0.7425      0.213     -3.491      0.000      -1.159      -0.326\n",
      "Total_Relationship_Count    -2.2817      0.149    -15.361      0.000      -2.573      -1.991\n",
      "Months_Inactive_12_mon       3.0819      0.247     12.464      0.000       2.597       3.567\n",
      "Contacts_Count_12_mon        2.7820      0.232     12.004      0.000       2.328       3.236\n",
      "Credit_Limit                -0.0158      0.190     -0.083      0.934      -0.388       0.356\n",
      "Total_Revolving_Bal         -2.5123      0.126    -19.928      0.000      -2.759      -2.265\n",
      "Total_Amt_Chng_Q4_Q1        -1.4888      0.676     -2.203      0.028      -2.814      -0.164\n",
      "Total_Trans_Amt              7.9777      0.428     18.627      0.000       7.138       8.817\n",
      "Total_Trans_Ct             -13.9885      0.498    -28.078      0.000     -14.965     -13.012\n",
      "Total_Ct_Chng_Q4_Q1         -9.9894      0.752    -13.285      0.000     -11.463      -8.516\n",
      "============================================================================================\n",
      "\n",
      "====================================\n",
      "                          Attrition \n",
      "------------------------------------\n",
      "const                    4.2759***  \n",
      "                         (0.2873)   \n",
      "$120K +                  -0.1893    \n",
      "                         (0.1744)   \n",
      "$40K - $60K              -0.4052*** \n",
      "                         (0.1144)   \n",
      "$60K - $80K              -0.6489*** \n",
      "                         (0.1313)   \n",
      "$80K - $120K             -0.4086*** \n",
      "                         (0.1347)   \n",
      "Months_on_book           -0.7425*** \n",
      "                         (0.2127)   \n",
      "Total_Relationship_Count -2.2817*** \n",
      "                         (0.1485)   \n",
      "Months_Inactive_12_mon   3.0819***  \n",
      "                         (0.2473)   \n",
      "Contacts_Count_12_mon    2.7820***  \n",
      "                         (0.2317)   \n",
      "Credit_Limit             -0.0158    \n",
      "                         (0.1899)   \n",
      "Total_Revolving_Bal      -2.5123*** \n",
      "                         (0.1261)   \n",
      "Total_Amt_Chng_Q4_Q1     -1.4888**  \n",
      "                         (0.6759)   \n",
      "Total_Trans_Amt          7.9777***  \n",
      "                         (0.4283)   \n",
      "Total_Trans_Ct           -13.9885***\n",
      "                         (0.4982)   \n",
      "Total_Ct_Chng_Q4_Q1      -9.9894*** \n",
      "                         (0.7519)   \n",
      "====================================\n",
      "Standard errors in parentheses.\n",
      "* p<.1, ** p<.05, ***p<.01\n"
     ]
    }
   ],
   "source": [
    "ivs=card1[['Months_on_book',\n",
    "       'Total_Relationship_Count', 'Months_Inactive_12_mon',\n",
    "       'Contacts_Count_12_mon', 'Credit_Limit', 'Total_Revolving_Bal',\n",
    "       'Total_Amt_Chng_Q4_Q1', 'Total_Trans_Amt',\n",
    "       'Total_Trans_Ct', 'Total_Ct_Chng_Q4_Q1']]\n",
    "\n",
    "X=pd.concat([income, ivs], axis=1)\n",
    "X=sm.add_constant(X)\n",
    "\n",
    "model1=sm.Logit(Y, X).fit()\n",
    "print(model1.summary())\n",
    "summary_Attrition_income = summary_col(model1, stars=True)\n",
    "print(summary_Attrition_income)"
   ]
  },
  {
   "cell_type": "markdown",
   "metadata": {},
   "source": [
    "Here the '40-60k', '60k - 80k', and '80k - 120k' categories are significant and negative, it means  that these categories are less likely to churn as compared to the base category of 'less than 40k'.\n",
    "\n",
    "The impact of the '120k+' category is not significant, it means that there is no difference \n",
    "between the impact of '120k+' group and the impact of the base group (less than 40k).\n"
   ]
  },
  {
   "cell_type": "markdown",
   "metadata": {},
   "source": [
    "### At this point we are interested to predict the number of customers who churned when the income categories are used."
   ]
  },
  {
   "cell_type": "code",
   "execution_count": 176,
   "metadata": {},
   "outputs": [
    {
     "data": {
      "text/html": [
       "<div>\n",
       "<style scoped>\n",
       "    .dataframe tbody tr th:only-of-type {\n",
       "        vertical-align: middle;\n",
       "    }\n",
       "\n",
       "    .dataframe tbody tr th {\n",
       "        vertical-align: top;\n",
       "    }\n",
       "\n",
       "    .dataframe thead th {\n",
       "        text-align: right;\n",
       "    }\n",
       "</style>\n",
       "<table border=\"1\" class=\"dataframe\">\n",
       "  <thead>\n",
       "    <tr style=\"text-align: right;\">\n",
       "      <th></th>\n",
       "      <th>Attrition</th>\n",
       "      <th>churn_income_cat</th>\n",
       "      <th>churned1</th>\n",
       "    </tr>\n",
       "  </thead>\n",
       "  <tbody>\n",
       "    <tr>\n",
       "      <th>0</th>\n",
       "      <td>0</td>\n",
       "      <td>0.003443</td>\n",
       "      <td>0</td>\n",
       "    </tr>\n",
       "    <tr>\n",
       "      <th>1</th>\n",
       "      <td>0</td>\n",
       "      <td>0.000021</td>\n",
       "      <td>0</td>\n",
       "    </tr>\n",
       "    <tr>\n",
       "      <th>2</th>\n",
       "      <td>0</td>\n",
       "      <td>0.005112</td>\n",
       "      <td>0</td>\n",
       "    </tr>\n",
       "    <tr>\n",
       "      <th>4</th>\n",
       "      <td>0</td>\n",
       "      <td>0.000663</td>\n",
       "      <td>0</td>\n",
       "    </tr>\n",
       "    <tr>\n",
       "      <th>5</th>\n",
       "      <td>0</td>\n",
       "      <td>0.200344</td>\n",
       "      <td>0</td>\n",
       "    </tr>\n",
       "    <tr>\n",
       "      <th>...</th>\n",
       "      <td>...</td>\n",
       "      <td>...</td>\n",
       "      <td>...</td>\n",
       "    </tr>\n",
       "    <tr>\n",
       "      <th>10121</th>\n",
       "      <td>0</td>\n",
       "      <td>0.017583</td>\n",
       "      <td>0</td>\n",
       "    </tr>\n",
       "    <tr>\n",
       "      <th>10122</th>\n",
       "      <td>0</td>\n",
       "      <td>0.010857</td>\n",
       "      <td>0</td>\n",
       "    </tr>\n",
       "    <tr>\n",
       "      <th>10123</th>\n",
       "      <td>1</td>\n",
       "      <td>0.083613</td>\n",
       "      <td>0</td>\n",
       "    </tr>\n",
       "    <tr>\n",
       "      <th>10124</th>\n",
       "      <td>1</td>\n",
       "      <td>0.859057</td>\n",
       "      <td>1</td>\n",
       "    </tr>\n",
       "    <tr>\n",
       "      <th>10126</th>\n",
       "      <td>1</td>\n",
       "      <td>0.369574</td>\n",
       "      <td>0</td>\n",
       "    </tr>\n",
       "  </tbody>\n",
       "</table>\n",
       "<p>8348 rows × 3 columns</p>\n",
       "</div>"
      ],
      "text/plain": [
       "       Attrition  churn_income_cat  churned1\n",
       "0              0          0.003443         0\n",
       "1              0          0.000021         0\n",
       "2              0          0.005112         0\n",
       "4              0          0.000663         0\n",
       "5              0          0.200344         0\n",
       "...          ...               ...       ...\n",
       "10121          0          0.017583         0\n",
       "10122          0          0.010857         0\n",
       "10123          1          0.083613         0\n",
       "10124          1          0.859057         1\n",
       "10126          1          0.369574         0\n",
       "\n",
       "[8348 rows x 3 columns]"
      ]
     },
     "execution_count": 176,
     "metadata": {},
     "output_type": "execute_result"
    }
   ],
   "source": [
    "Y_predi=model1.predict(X)\n",
    "\n",
    "churn_income_cat=Y_predi.to_frame('churn_income_cat')\n",
    "churn_income_cat=pd.concat([Y, churn_income_cat], axis=1)\n",
    "churn_income_cat['churned1']=np.where(churn_income_cat['churn_income_cat']>0.5, 1,0)\n",
    "churn_income_cat"
   ]
  },
  {
   "cell_type": "code",
   "execution_count": 177,
   "metadata": {},
   "outputs": [
    {
     "data": {
      "text/plain": [
       "0    7357\n",
       "1     991\n",
       "Name: churned1, dtype: int64"
      ]
     },
     "execution_count": 177,
     "metadata": {},
     "output_type": "execute_result"
    }
   ],
   "source": [
    "churn_income_cat['churned1'].value_counts()"
   ]
  },
  {
   "cell_type": "code",
   "execution_count": 178,
   "metadata": {},
   "outputs": [
    {
     "data": {
      "text/plain": [
       "0    0.881289\n",
       "1    0.118711\n",
       "Name: churned1, dtype: float64"
      ]
     },
     "execution_count": 178,
     "metadata": {},
     "output_type": "execute_result"
    }
   ],
   "source": [
    "churn_income_cat['churned1'].value_counts(normalize=True)"
   ]
  },
  {
   "cell_type": "code",
   "execution_count": 217,
   "metadata": {},
   "outputs": [
    {
     "data": {
      "text/html": [
       "<div>\n",
       "<style scoped>\n",
       "    .dataframe tbody tr th:only-of-type {\n",
       "        vertical-align: middle;\n",
       "    }\n",
       "\n",
       "    .dataframe tbody tr th {\n",
       "        vertical-align: top;\n",
       "    }\n",
       "\n",
       "    .dataframe thead th {\n",
       "        text-align: right;\n",
       "    }\n",
       "</style>\n",
       "<table border=\"1\" class=\"dataframe\">\n",
       "  <thead>\n",
       "    <tr style=\"text-align: right;\">\n",
       "      <th></th>\n",
       "      <th>churned1</th>\n",
       "      <th>Months_on_book</th>\n",
       "      <th>CLIENTNUM</th>\n",
       "      <th>Gender</th>\n",
       "      <th>Card_Category</th>\n",
       "      <th>Income_Category</th>\n",
       "      <th>Customer_Age</th>\n",
       "      <th>Marital_Status</th>\n",
       "      <th>Credit_Limit</th>\n",
       "    </tr>\n",
       "  </thead>\n",
       "  <tbody>\n",
       "    <tr>\n",
       "      <th>21</th>\n",
       "      <td>1</td>\n",
       "      <td>0.837209</td>\n",
       "      <td>708508758</td>\n",
       "      <td>F</td>\n",
       "      <td>Blue</td>\n",
       "      <td>Less than $40K</td>\n",
       "      <td>62</td>\n",
       "      <td>Married</td>\n",
       "      <td>0.000000</td>\n",
       "    </tr>\n",
       "    <tr>\n",
       "      <th>23</th>\n",
       "      <td>1</td>\n",
       "      <td>0.534884</td>\n",
       "      <td>811604133</td>\n",
       "      <td>F</td>\n",
       "      <td>Blue</td>\n",
       "      <td>Less than $40K</td>\n",
       "      <td>47</td>\n",
       "      <td>Single</td>\n",
       "      <td>0.031855</td>\n",
       "    </tr>\n",
       "    <tr>\n",
       "      <th>24</th>\n",
       "      <td>1</td>\n",
       "      <td>0.674419</td>\n",
       "      <td>789124683</td>\n",
       "      <td>M</td>\n",
       "      <td>Blue</td>\n",
       "      <td>$80K - $120K</td>\n",
       "      <td>54</td>\n",
       "      <td>Married</td>\n",
       "      <td>0.325860</td>\n",
       "    </tr>\n",
       "    <tr>\n",
       "      <th>37</th>\n",
       "      <td>1</td>\n",
       "      <td>0.534884</td>\n",
       "      <td>785432733</td>\n",
       "      <td>F</td>\n",
       "      <td>Gold</td>\n",
       "      <td>Less than $40K</td>\n",
       "      <td>42</td>\n",
       "      <td>Married</td>\n",
       "      <td>0.423086</td>\n",
       "    </tr>\n",
       "    <tr>\n",
       "      <th>40</th>\n",
       "      <td>1</td>\n",
       "      <td>0.651163</td>\n",
       "      <td>827111283</td>\n",
       "      <td>M</td>\n",
       "      <td>Blue</td>\n",
       "      <td>$80K - $120K</td>\n",
       "      <td>45</td>\n",
       "      <td>Single</td>\n",
       "      <td>0.936815</td>\n",
       "    </tr>\n",
       "    <tr>\n",
       "      <th>...</th>\n",
       "      <td>...</td>\n",
       "      <td>...</td>\n",
       "      <td>...</td>\n",
       "      <td>...</td>\n",
       "      <td>...</td>\n",
       "      <td>...</td>\n",
       "      <td>...</td>\n",
       "      <td>...</td>\n",
       "      <td>...</td>\n",
       "    </tr>\n",
       "    <tr>\n",
       "      <th>10108</th>\n",
       "      <td>1</td>\n",
       "      <td>0.604651</td>\n",
       "      <td>714471183</td>\n",
       "      <td>M</td>\n",
       "      <td>Blue</td>\n",
       "      <td>$80K - $120K</td>\n",
       "      <td>47</td>\n",
       "      <td>Divorced</td>\n",
       "      <td>0.485696</td>\n",
       "    </tr>\n",
       "    <tr>\n",
       "      <th>10109</th>\n",
       "      <td>1</td>\n",
       "      <td>0.511628</td>\n",
       "      <td>780613758</td>\n",
       "      <td>M</td>\n",
       "      <td>Blue</td>\n",
       "      <td>Less than $40K</td>\n",
       "      <td>47</td>\n",
       "      <td>Single</td>\n",
       "      <td>0.082433</td>\n",
       "    </tr>\n",
       "    <tr>\n",
       "      <th>10112</th>\n",
       "      <td>1</td>\n",
       "      <td>0.162791</td>\n",
       "      <td>708564858</td>\n",
       "      <td>M</td>\n",
       "      <td>Gold</td>\n",
       "      <td>$120K +</td>\n",
       "      <td>33</td>\n",
       "      <td>Married</td>\n",
       "      <td>1.000000</td>\n",
       "    </tr>\n",
       "    <tr>\n",
       "      <th>10114</th>\n",
       "      <td>1</td>\n",
       "      <td>0.046512</td>\n",
       "      <td>720841533</td>\n",
       "      <td>M</td>\n",
       "      <td>Blue</td>\n",
       "      <td>Less than $40K</td>\n",
       "      <td>29</td>\n",
       "      <td>Married</td>\n",
       "      <td>0.098607</td>\n",
       "    </tr>\n",
       "    <tr>\n",
       "      <th>10124</th>\n",
       "      <td>1</td>\n",
       "      <td>0.534884</td>\n",
       "      <td>716506083</td>\n",
       "      <td>F</td>\n",
       "      <td>Blue</td>\n",
       "      <td>Less than $40K</td>\n",
       "      <td>44</td>\n",
       "      <td>Married</td>\n",
       "      <td>0.120042</td>\n",
       "    </tr>\n",
       "  </tbody>\n",
       "</table>\n",
       "<p>991 rows × 9 columns</p>\n",
       "</div>"
      ],
      "text/plain": [
       "       churned1  Months_on_book  CLIENTNUM Gender Card_Category  \\\n",
       "21            1        0.837209  708508758      F          Blue   \n",
       "23            1        0.534884  811604133      F          Blue   \n",
       "24            1        0.674419  789124683      M          Blue   \n",
       "37            1        0.534884  785432733      F          Gold   \n",
       "40            1        0.651163  827111283      M          Blue   \n",
       "...         ...             ...        ...    ...           ...   \n",
       "10108         1        0.604651  714471183      M          Blue   \n",
       "10109         1        0.511628  780613758      M          Blue   \n",
       "10112         1        0.162791  708564858      M          Gold   \n",
       "10114         1        0.046512  720841533      M          Blue   \n",
       "10124         1        0.534884  716506083      F          Blue   \n",
       "\n",
       "      Income_Category  Customer_Age Marital_Status  Credit_Limit  \n",
       "21     Less than $40K            62        Married      0.000000  \n",
       "23     Less than $40K            47         Single      0.031855  \n",
       "24       $80K - $120K            54        Married      0.325860  \n",
       "37     Less than $40K            42        Married      0.423086  \n",
       "40       $80K - $120K            45         Single      0.936815  \n",
       "...               ...           ...            ...           ...  \n",
       "10108    $80K - $120K            47       Divorced      0.485696  \n",
       "10109  Less than $40K            47         Single      0.082433  \n",
       "10112         $120K +            33        Married      1.000000  \n",
       "10114  Less than $40K            29        Married      0.098607  \n",
       "10124  Less than $40K            44        Married      0.120042  \n",
       "\n",
       "[991 rows x 9 columns]"
      ]
     },
     "execution_count": 217,
     "metadata": {},
     "output_type": "execute_result"
    }
   ],
   "source": [
    "# we would like to identify the customers whom we predit are going to leave (using client number) in \n",
    "# order to provide strategic advice. \n",
    "\n",
    "advice=pd.concat([churn_income_cat['churned1'], card1[['Months_on_book','CLIENTNUM', 'Gender', 'Card_Category', 'Income_Category',\n",
    "                                                       'Customer_Age', 'Marital_Status', 'Credit_Limit']]], axis=1)\n",
    "advice= advice[advice['churned1']==1]\n",
    "advice"
   ]
  },
  {
   "cell_type": "code",
   "execution_count": 221,
   "metadata": {},
   "outputs": [
    {
     "data": {
      "text/plain": [
       "Index(['churned1', 'Months_on_book', 'CLIENTNUM', 'Gender', 'Card_Category',\n",
       "       'Income_Category', 'Customer_Age', 'Marital_Status', 'Credit_Limit'],\n",
       "      dtype='object')"
      ]
     },
     "execution_count": 221,
     "metadata": {},
     "output_type": "execute_result"
    }
   ],
   "source": [
    "advice.columns"
   ]
  },
  {
   "cell_type": "code",
   "execution_count": 238,
   "metadata": {},
   "outputs": [
    {
     "data": {
      "text/plain": [
       "Index(['Months_on_book', 'Total_Relationship_Count', 'Months_Inactive_12_mon',\n",
       "       'Contacts_Count_12_mon', 'Credit_Limit', 'Total_Revolving_Bal',\n",
       "       'Avg_Open_To_Buy', 'Total_Amt_Chng_Q4_Q1', 'Total_Trans_Amt',\n",
       "       'Total_Trans_Ct', 'Total_Ct_Chng_Q4_Q1', 'Avg_Utilization_Ratio'],\n",
       "      dtype='object')"
      ]
     },
     "execution_count": 238,
     "metadata": {},
     "output_type": "execute_result"
    }
   ],
   "source": [
    "num.columns"
   ]
  },
  {
   "cell_type": "code",
   "execution_count": 245,
   "metadata": {},
   "outputs": [
    {
     "data": {
      "text/html": [
       "<div>\n",
       "<style scoped>\n",
       "    .dataframe tbody tr th:only-of-type {\n",
       "        vertical-align: middle;\n",
       "    }\n",
       "\n",
       "    .dataframe tbody tr th {\n",
       "        vertical-align: top;\n",
       "    }\n",
       "\n",
       "    .dataframe thead th {\n",
       "        text-align: right;\n",
       "    }\n",
       "</style>\n",
       "<table border=\"1\" class=\"dataframe\">\n",
       "  <thead>\n",
       "    <tr style=\"text-align: right;\">\n",
       "      <th></th>\n",
       "      <th>churned1</th>\n",
       "      <th>CLIENTNUM</th>\n",
       "      <th>Gender</th>\n",
       "      <th>Card_Category</th>\n",
       "      <th>Income_Category</th>\n",
       "      <th>Customer_Age</th>\n",
       "      <th>Marital_Status</th>\n",
       "      <th>Months_on_book</th>\n",
       "      <th>Credit_Limit</th>\n",
       "    </tr>\n",
       "  </thead>\n",
       "  <tbody>\n",
       "    <tr>\n",
       "      <th>0</th>\n",
       "      <td>1</td>\n",
       "      <td>708508758</td>\n",
       "      <td>F</td>\n",
       "      <td>Blue</td>\n",
       "      <td>Less than $40K</td>\n",
       "      <td>62</td>\n",
       "      <td>Married</td>\n",
       "      <td>49</td>\n",
       "      <td>1438.3</td>\n",
       "    </tr>\n",
       "    <tr>\n",
       "      <th>1</th>\n",
       "      <td>1</td>\n",
       "      <td>811604133</td>\n",
       "      <td>F</td>\n",
       "      <td>Blue</td>\n",
       "      <td>Less than $40K</td>\n",
       "      <td>47</td>\n",
       "      <td>Single</td>\n",
       "      <td>36</td>\n",
       "      <td>2492.0</td>\n",
       "    </tr>\n",
       "    <tr>\n",
       "      <th>2</th>\n",
       "      <td>1</td>\n",
       "      <td>789124683</td>\n",
       "      <td>M</td>\n",
       "      <td>Blue</td>\n",
       "      <td>$80K - $120K</td>\n",
       "      <td>54</td>\n",
       "      <td>Married</td>\n",
       "      <td>42</td>\n",
       "      <td>12217.0</td>\n",
       "    </tr>\n",
       "    <tr>\n",
       "      <th>3</th>\n",
       "      <td>1</td>\n",
       "      <td>785432733</td>\n",
       "      <td>F</td>\n",
       "      <td>Gold</td>\n",
       "      <td>Less than $40K</td>\n",
       "      <td>42</td>\n",
       "      <td>Married</td>\n",
       "      <td>36</td>\n",
       "      <td>15433.0</td>\n",
       "    </tr>\n",
       "    <tr>\n",
       "      <th>4</th>\n",
       "      <td>1</td>\n",
       "      <td>827111283</td>\n",
       "      <td>M</td>\n",
       "      <td>Blue</td>\n",
       "      <td>$80K - $120K</td>\n",
       "      <td>45</td>\n",
       "      <td>Single</td>\n",
       "      <td>41</td>\n",
       "      <td>32426.0</td>\n",
       "    </tr>\n",
       "    <tr>\n",
       "      <th>5</th>\n",
       "      <td>1</td>\n",
       "      <td>779471883</td>\n",
       "      <td>F</td>\n",
       "      <td>Blue</td>\n",
       "      <td>Less than $40K</td>\n",
       "      <td>54</td>\n",
       "      <td>Married</td>\n",
       "      <td>40</td>\n",
       "      <td>1438.3</td>\n",
       "    </tr>\n",
       "    <tr>\n",
       "      <th>6</th>\n",
       "      <td>1</td>\n",
       "      <td>714374133</td>\n",
       "      <td>M</td>\n",
       "      <td>Blue</td>\n",
       "      <td>$120K +</td>\n",
       "      <td>56</td>\n",
       "      <td>Married</td>\n",
       "      <td>36</td>\n",
       "      <td>15769.0</td>\n",
       "    </tr>\n",
       "    <tr>\n",
       "      <th>7</th>\n",
       "      <td>1</td>\n",
       "      <td>712030833</td>\n",
       "      <td>M</td>\n",
       "      <td>Silver</td>\n",
       "      <td>$60K - $80K</td>\n",
       "      <td>48</td>\n",
       "      <td>Married</td>\n",
       "      <td>35</td>\n",
       "      <td>34516.0</td>\n",
       "    </tr>\n",
       "    <tr>\n",
       "      <th>8</th>\n",
       "      <td>1</td>\n",
       "      <td>710082708</td>\n",
       "      <td>M</td>\n",
       "      <td>Blue</td>\n",
       "      <td>$120K +</td>\n",
       "      <td>44</td>\n",
       "      <td>Single</td>\n",
       "      <td>32</td>\n",
       "      <td>23957.0</td>\n",
       "    </tr>\n",
       "    <tr>\n",
       "      <th>9</th>\n",
       "      <td>1</td>\n",
       "      <td>720096558</td>\n",
       "      <td>F</td>\n",
       "      <td>Blue</td>\n",
       "      <td>Less than $40K</td>\n",
       "      <td>55</td>\n",
       "      <td>Married</td>\n",
       "      <td>42</td>\n",
       "      <td>2216.0</td>\n",
       "    </tr>\n",
       "  </tbody>\n",
       "</table>\n",
       "</div>"
      ],
      "text/plain": [
       "   churned1  CLIENTNUM Gender Card_Category Income_Category  Customer_Age  \\\n",
       "0         1  708508758      F          Blue  Less than $40K            62   \n",
       "1         1  811604133      F          Blue  Less than $40K            47   \n",
       "2         1  789124683      M          Blue    $80K - $120K            54   \n",
       "3         1  785432733      F          Gold  Less than $40K            42   \n",
       "4         1  827111283      M          Blue    $80K - $120K            45   \n",
       "5         1  779471883      F          Blue  Less than $40K            54   \n",
       "6         1  714374133      M          Blue         $120K +            56   \n",
       "7         1  712030833      M        Silver     $60K - $80K            48   \n",
       "8         1  710082708      M          Blue         $120K +            44   \n",
       "9         1  720096558      F          Blue  Less than $40K            55   \n",
       "\n",
       "  Marital_Status  Months_on_book  Credit_Limit  \n",
       "0        Married              49        1438.3  \n",
       "1         Single              36        2492.0  \n",
       "2        Married              42       12217.0  \n",
       "3        Married              36       15433.0  \n",
       "4         Single              41       32426.0  \n",
       "5        Married              40        1438.3  \n",
       "6        Married              36       15769.0  \n",
       "7        Married              35       34516.0  \n",
       "8         Single              32       23957.0  \n",
       "9        Married              42        2216.0  "
      ]
     },
     "execution_count": 245,
     "metadata": {},
     "output_type": "execute_result"
    }
   ],
   "source": [
    "advice2=advice[['churned1','CLIENTNUM', 'Gender', 'Card_Category',\n",
    "       'Income_Category', 'Customer_Age', 'Marital_Status']]\n",
    "\n",
    "num3 = num[['CLIENTNUM','Months_on_book','Credit_Limit']]\n",
    "\n",
    "advice3=pd.merge(advice2, num3, how='left', on=['CLIENTNUM'])\n",
    "advice3.head(10)"
   ]
  },
  {
   "cell_type": "code",
   "execution_count": null,
   "metadata": {},
   "outputs": [],
   "source": []
  },
  {
   "cell_type": "code",
   "execution_count": null,
   "metadata": {},
   "outputs": [],
   "source": []
  },
  {
   "cell_type": "code",
   "execution_count": 244,
   "metadata": {},
   "outputs": [],
   "source": [
    "advice3.to_csv('Advice_Customers.csv')"
   ]
  },
  {
   "cell_type": "code",
   "execution_count": 67,
   "metadata": {},
   "outputs": [
    {
     "name": "stdout",
     "output_type": "stream",
     "text": [
      "F    507\n",
      "M    484\n",
      "Name: Gender, dtype: int64\n",
      "Blue        940\n",
      "Silver       41\n",
      "Gold          8\n",
      "Platinum      2\n",
      "Name: Card_Category, dtype: int64\n",
      "Less than $40K    436\n",
      "$40K - $60K       198\n",
      "$80K - $120K      150\n",
      "$60K - $80K       120\n",
      "$120K +            87\n",
      "Name: Income_Category, dtype: int64\n",
      "Married     529\n",
      "Single      391\n",
      "Divorced     71\n",
      "Name: Marital_Status, dtype: int64\n"
     ]
    }
   ],
   "source": [
    "print(advice['Gender'].value_counts())\n",
    "print(advice['Card_Category'].value_counts())\n",
    "print(advice['Income_Category'].value_counts())\n",
    "print(advice['Marital_Status'].value_counts())\n"
   ]
  },
  {
   "cell_type": "code",
   "execution_count": 132,
   "metadata": {},
   "outputs": [
    {
     "data": {
      "image/png": "[encoded data removed]",
      "text/plain": [
       "<Figure size 576x576 with 1 Axes>"
      ]
     },
     "metadata": {
      "needs_background": "light"
     },
     "output_type": "display_data"
    }
   ],
   "source": [
    "# we would like to see if there is still a U-shape relationship between credit limit and age in the predicted customers:\n",
    "adv1 = advice.groupby('Customer_Age')['Credit_Limit'].mean().reset_index()['Customer_Age']\n",
    "adv2 = advice.groupby('Customer_Age')['Credit_Limit'].mean().reset_index()['Credit_Limit']\n",
    "plt.bar(x=adv1, height=adv2)\n",
    "plt.show()"
   ]
  },
  {
   "cell_type": "code",
   "execution_count": 214,
   "metadata": {},
   "outputs": [],
   "source": [
    "# to denormalise the data:\n",
    "\n",
    "\n",
    "#num_df = np.log(num)\n",
    "\n",
    "\n",
    "#df_num = scaler.inverse_transform(num)\n",
    "#df = pd.DataFrame(data=df_num, columns=num.columns)\n",
    "\n"
   ]
  },
  {
   "cell_type": "code",
   "execution_count": 183,
   "metadata": {},
   "outputs": [
    {
     "data": {
      "image/png": "[encoded data removed]",
      "text/plain": [
       "<Figure size 576x576 with 1 Axes>"
      ]
     },
     "metadata": {
      "needs_background": "light"
     },
     "output_type": "display_data"
    }
   ],
   "source": [
    "plt.scatter(x=adv1, y=)\n",
    "plt.xlabel ('Customer Age')\n",
    "plt.ylabel ('Credit Limit')\n",
    "plt.title ('Credit Limit of the Churned Customers')\n",
    "plt.show()"
   ]
  },
  {
   "cell_type": "code",
   "execution_count": 69,
   "metadata": {},
   "outputs": [],
   "source": [
    "#card1['Card_Category'].value_counts()"
   ]
  },
  {
   "cell_type": "markdown",
   "metadata": {},
   "source": [
    "### Logistic Regression: Card Category as Dummy Variable"
   ]
  },
  {
   "cell_type": "code",
   "execution_count": 169,
   "metadata": {},
   "outputs": [],
   "source": [
    "typ=pd.get_dummies(card1['Card_Category'])\n",
    "typ.drop(['Blue'], axis=1, inplace=True)"
   ]
  },
  {
   "cell_type": "code",
   "execution_count": 170,
   "metadata": {},
   "outputs": [
    {
     "name": "stdout",
     "output_type": "stream",
     "text": [
      "Optimization terminated successfully.\n",
      "         Current function value: 0.244672\n",
      "         Iterations 8\n",
      "                           Logit Regression Results                           \n",
      "==============================================================================\n",
      "Dep. Variable:              Attrition   No. Observations:                 8348\n",
      "Model:                          Logit   Df Residuals:                     8334\n",
      "Method:                           MLE   Df Model:                           13\n",
      "Date:                Sat, 12 Dec 2020   Pseudo R-squ.:                  0.4416\n",
      "Time:                        13:13:52   Log-Likelihood:                -2042.5\n",
      "converged:                       True   LL-Null:                       -3657.6\n",
      "Covariance Type:            nonrobust   LLR p-value:                     0.000\n",
      "============================================================================================\n",
      "                               coef    std err          z      P>|z|      [0.025      0.975]\n",
      "--------------------------------------------------------------------------------------------\n",
      "const                        4.0394      0.281     14.371      0.000       3.488       4.590\n",
      "Gold                         0.7805      0.374      2.088      0.037       0.048       1.513\n",
      "Platinum                     1.3899      0.959      1.450      0.147      -0.489       3.269\n",
      "Silver                       0.4468      0.201      2.222      0.026       0.053       0.841\n",
      "Months_on_book              -0.7060      0.212     -3.334      0.001      -1.121      -0.291\n",
      "Total_Relationship_Count    -2.2649      0.148    -15.279      0.000      -2.555      -1.974\n",
      "Months_Inactive_12_mon       3.0705      0.247     12.440      0.000       2.587       3.554\n",
      "Contacts_Count_12_mon        2.7484      0.231     11.883      0.000       2.295       3.202\n",
      "Credit_Limit                -0.4894      0.171     -2.858      0.004      -0.825      -0.154\n",
      "Total_Revolving_Bal         -2.5264      0.126    -20.059      0.000      -2.773      -2.280\n",
      "Total_Amt_Chng_Q4_Q1        -1.4427      0.672     -2.148      0.032      -2.759      -0.126\n",
      "Total_Trans_Amt              7.8057      0.426     18.329      0.000       6.971       8.640\n",
      "Total_Trans_Ct             -13.8050      0.494    -27.949      0.000     -14.773     -12.837\n",
      "Total_Ct_Chng_Q4_Q1        -10.0123      0.746    -13.414      0.000     -11.475      -8.549\n",
      "============================================================================================\n",
      "\n",
      "====================================\n",
      "                          Attrition \n",
      "------------------------------------\n",
      "const                    4.0394***  \n",
      "                         (0.2811)   \n",
      "Gold                     0.7805**   \n",
      "                         (0.3738)   \n",
      "Platinum                 1.3899     \n",
      "                         (0.9589)   \n",
      "Silver                   0.4468**   \n",
      "                         (0.2011)   \n",
      "Months_on_book           -0.7060*** \n",
      "                         (0.2117)   \n",
      "Total_Relationship_Count -2.2649*** \n",
      "                         (0.1482)   \n",
      "Months_Inactive_12_mon   3.0705***  \n",
      "                         (0.2468)   \n",
      "Contacts_Count_12_mon    2.7484***  \n",
      "                         (0.2313)   \n",
      "Credit_Limit             -0.4894*** \n",
      "                         (0.1712)   \n",
      "Total_Revolving_Bal      -2.5264*** \n",
      "                         (0.1259)   \n",
      "Total_Amt_Chng_Q4_Q1     -1.4427**  \n",
      "                         (0.6716)   \n",
      "Total_Trans_Amt          7.8057***  \n",
      "                         (0.4259)   \n",
      "Total_Trans_Ct           -13.8050***\n",
      "                         (0.4939)   \n",
      "Total_Ct_Chng_Q4_Q1      -10.0123***\n",
      "                         (0.7464)   \n",
      "====================================\n",
      "Standard errors in parentheses.\n",
      "* p<.1, ** p<.05, ***p<.01\n"
     ]
    }
   ],
   "source": [
    "ivs=card1[['Months_on_book',\n",
    "       'Total_Relationship_Count', 'Months_Inactive_12_mon',\n",
    "       'Contacts_Count_12_mon', 'Credit_Limit', 'Total_Revolving_Bal',\n",
    "       'Total_Amt_Chng_Q4_Q1', 'Total_Trans_Amt',\n",
    "       'Total_Trans_Ct', 'Total_Ct_Chng_Q4_Q1']]\n",
    "\n",
    "X=pd.concat([typ, ivs], axis=1)\n",
    "X=sm.add_constant(X)\n",
    "\n",
    "model2=sm.Logit(Y, X).fit()\n",
    "print(model2.summary())\n",
    "summary_attrition_card=summary_col(model2, stars=True)\n",
    "print(summary_attrition_card)"
   ]
  },
  {
   "cell_type": "markdown",
   "metadata": {},
   "source": [
    "The categorical variables of 'Gold' and 'Silver' are significant with positive coefficients. It means that these type of card holders are more likely to churn as compared to the 'Blue' card holders."
   ]
  },
  {
   "cell_type": "code",
   "execution_count": 72,
   "metadata": {},
   "outputs": [],
   "source": [
    "# we would like to predict the probability of churn between customers: \n",
    "Y_pred=model2.predict(X)\n",
    "\n",
    "#residuals= Y-Y_pred\n",
    "#residuals.hist(bins=100)\n",
    "#plt.show()\n",
    "#df=pd.concat([Y, Y_pred], axis=1)\n",
    "prob=Y_pred.to_frame(name='Prob_to_Churn')\n"
   ]
  },
  {
   "cell_type": "code",
   "execution_count": 73,
   "metadata": {},
   "outputs": [
    {
     "data": {
      "text/html": [
       "<div>\n",
       "<style scoped>\n",
       "    .dataframe tbody tr th:only-of-type {\n",
       "        vertical-align: middle;\n",
       "    }\n",
       "\n",
       "    .dataframe tbody tr th {\n",
       "        vertical-align: top;\n",
       "    }\n",
       "\n",
       "    .dataframe thead th {\n",
       "        text-align: right;\n",
       "    }\n",
       "</style>\n",
       "<table border=\"1\" class=\"dataframe\">\n",
       "  <thead>\n",
       "    <tr style=\"text-align: right;\">\n",
       "      <th></th>\n",
       "      <th>Attrition</th>\n",
       "      <th>Prob_to_Churn</th>\n",
       "    </tr>\n",
       "  </thead>\n",
       "  <tbody>\n",
       "    <tr>\n",
       "      <th>0</th>\n",
       "      <td>0</td>\n",
       "      <td>0.004694</td>\n",
       "    </tr>\n",
       "    <tr>\n",
       "      <th>1</th>\n",
       "      <td>0</td>\n",
       "      <td>0.000016</td>\n",
       "    </tr>\n",
       "    <tr>\n",
       "      <th>2</th>\n",
       "      <td>0</td>\n",
       "      <td>0.006194</td>\n",
       "    </tr>\n",
       "    <tr>\n",
       "      <th>4</th>\n",
       "      <td>0</td>\n",
       "      <td>0.001009</td>\n",
       "    </tr>\n",
       "    <tr>\n",
       "      <th>5</th>\n",
       "      <td>0</td>\n",
       "      <td>0.228242</td>\n",
       "    </tr>\n",
       "    <tr>\n",
       "      <th>...</th>\n",
       "      <td>...</td>\n",
       "      <td>...</td>\n",
       "    </tr>\n",
       "    <tr>\n",
       "      <th>10121</th>\n",
       "      <td>0</td>\n",
       "      <td>0.014016</td>\n",
       "    </tr>\n",
       "    <tr>\n",
       "      <th>10122</th>\n",
       "      <td>0</td>\n",
       "      <td>0.012516</td>\n",
       "    </tr>\n",
       "    <tr>\n",
       "      <th>10123</th>\n",
       "      <td>1</td>\n",
       "      <td>0.093883</td>\n",
       "    </tr>\n",
       "    <tr>\n",
       "      <th>10124</th>\n",
       "      <td>1</td>\n",
       "      <td>0.817953</td>\n",
       "    </tr>\n",
       "    <tr>\n",
       "      <th>10126</th>\n",
       "      <td>1</td>\n",
       "      <td>0.382807</td>\n",
       "    </tr>\n",
       "  </tbody>\n",
       "</table>\n",
       "<p>8348 rows × 2 columns</p>\n",
       "</div>"
      ],
      "text/plain": [
       "       Attrition  Prob_to_Churn\n",
       "0              0       0.004694\n",
       "1              0       0.000016\n",
       "2              0       0.006194\n",
       "4              0       0.001009\n",
       "5              0       0.228242\n",
       "...          ...            ...\n",
       "10121          0       0.014016\n",
       "10122          0       0.012516\n",
       "10123          1       0.093883\n",
       "10124          1       0.817953\n",
       "10126          1       0.382807\n",
       "\n",
       "[8348 rows x 2 columns]"
      ]
     },
     "execution_count": 73,
     "metadata": {},
     "output_type": "execute_result"
    }
   ],
   "source": [
    "# To see the probability to churn after prediction, we concat the predicted values and actual values:\n",
    "prob_churn=pd.concat([Y, prob], axis=1)\n",
    "prob_churn"
   ]
  },
  {
   "cell_type": "code",
   "execution_count": 74,
   "metadata": {},
   "outputs": [
    {
     "data": {
      "text/plain": [
       "0    7020\n",
       "1    1328\n",
       "Name: Attrition, dtype: int64"
      ]
     },
     "execution_count": 74,
     "metadata": {},
     "output_type": "execute_result"
    }
   ],
   "source": [
    "prob_churn['Attrition'].value_counts()"
   ]
  },
  {
   "cell_type": "code",
   "execution_count": 75,
   "metadata": {
    "scrolled": true
   },
   "outputs": [
    {
     "data": {
      "text/html": [
       "<div>\n",
       "<style scoped>\n",
       "    .dataframe tbody tr th:only-of-type {\n",
       "        vertical-align: middle;\n",
       "    }\n",
       "\n",
       "    .dataframe tbody tr th {\n",
       "        vertical-align: top;\n",
       "    }\n",
       "\n",
       "    .dataframe thead th {\n",
       "        text-align: right;\n",
       "    }\n",
       "</style>\n",
       "<table border=\"1\" class=\"dataframe\">\n",
       "  <thead>\n",
       "    <tr style=\"text-align: right;\">\n",
       "      <th></th>\n",
       "      <th>Attrition</th>\n",
       "      <th>Prob_to_Churn</th>\n",
       "      <th>churned</th>\n",
       "    </tr>\n",
       "  </thead>\n",
       "  <tbody>\n",
       "    <tr>\n",
       "      <th>0</th>\n",
       "      <td>0</td>\n",
       "      <td>0.004694</td>\n",
       "      <td>0</td>\n",
       "    </tr>\n",
       "    <tr>\n",
       "      <th>1</th>\n",
       "      <td>0</td>\n",
       "      <td>0.000016</td>\n",
       "      <td>0</td>\n",
       "    </tr>\n",
       "    <tr>\n",
       "      <th>2</th>\n",
       "      <td>0</td>\n",
       "      <td>0.006194</td>\n",
       "      <td>0</td>\n",
       "    </tr>\n",
       "    <tr>\n",
       "      <th>4</th>\n",
       "      <td>0</td>\n",
       "      <td>0.001009</td>\n",
       "      <td>0</td>\n",
       "    </tr>\n",
       "    <tr>\n",
       "      <th>5</th>\n",
       "      <td>0</td>\n",
       "      <td>0.228242</td>\n",
       "      <td>0</td>\n",
       "    </tr>\n",
       "    <tr>\n",
       "      <th>...</th>\n",
       "      <td>...</td>\n",
       "      <td>...</td>\n",
       "      <td>...</td>\n",
       "    </tr>\n",
       "    <tr>\n",
       "      <th>10121</th>\n",
       "      <td>0</td>\n",
       "      <td>0.014016</td>\n",
       "      <td>0</td>\n",
       "    </tr>\n",
       "    <tr>\n",
       "      <th>10122</th>\n",
       "      <td>0</td>\n",
       "      <td>0.012516</td>\n",
       "      <td>0</td>\n",
       "    </tr>\n",
       "    <tr>\n",
       "      <th>10123</th>\n",
       "      <td>1</td>\n",
       "      <td>0.093883</td>\n",
       "      <td>0</td>\n",
       "    </tr>\n",
       "    <tr>\n",
       "      <th>10124</th>\n",
       "      <td>1</td>\n",
       "      <td>0.817953</td>\n",
       "      <td>1</td>\n",
       "    </tr>\n",
       "    <tr>\n",
       "      <th>10126</th>\n",
       "      <td>1</td>\n",
       "      <td>0.382807</td>\n",
       "      <td>0</td>\n",
       "    </tr>\n",
       "  </tbody>\n",
       "</table>\n",
       "<p>8348 rows × 3 columns</p>\n",
       "</div>"
      ],
      "text/plain": [
       "       Attrition  Prob_to_Churn  churned\n",
       "0              0       0.004694        0\n",
       "1              0       0.000016        0\n",
       "2              0       0.006194        0\n",
       "4              0       0.001009        0\n",
       "5              0       0.228242        0\n",
       "...          ...            ...      ...\n",
       "10121          0       0.014016        0\n",
       "10122          0       0.012516        0\n",
       "10123          1       0.093883        0\n",
       "10124          1       0.817953        1\n",
       "10126          1       0.382807        0\n",
       "\n",
       "[8348 rows x 3 columns]"
      ]
     },
     "execution_count": 75,
     "metadata": {},
     "output_type": "execute_result"
    }
   ],
   "source": [
    "prob_churn['churned']=np.where(prob_churn['Prob_to_Churn']>0.5, 1,0)\n",
    "prob_churn"
   ]
  },
  {
   "cell_type": "code",
   "execution_count": null,
   "metadata": {},
   "outputs": [],
   "source": []
  },
  {
   "cell_type": "code",
   "execution_count": 76,
   "metadata": {},
   "outputs": [
    {
     "data": {
      "text/plain": [
       "0    0.84092\n",
       "1    0.15908\n",
       "Name: Attrition, dtype: float64"
      ]
     },
     "execution_count": 76,
     "metadata": {},
     "output_type": "execute_result"
    }
   ],
   "source": [
    "prob_churn['Attrition'].value_counts(normalize=True)\n"
   ]
  },
  {
   "cell_type": "code",
   "execution_count": 77,
   "metadata": {},
   "outputs": [
    {
     "data": {
      "text/plain": [
       "0    7357\n",
       "1     991\n",
       "Name: churned, dtype: int64"
      ]
     },
     "execution_count": 77,
     "metadata": {},
     "output_type": "execute_result"
    }
   ],
   "source": [
    "prob_churn['churned'].value_counts()"
   ]
  },
  {
   "cell_type": "code",
   "execution_count": 78,
   "metadata": {},
   "outputs": [
    {
     "data": {
      "text/plain": [
       "0    0.881289\n",
       "1    0.118711\n",
       "Name: churned, dtype: float64"
      ]
     },
     "execution_count": 78,
     "metadata": {},
     "output_type": "execute_result"
    }
   ],
   "source": [
    "prob_churn['churned'].value_counts(normalize=True)\n"
   ]
  },
  {
   "cell_type": "markdown",
   "metadata": {},
   "source": [
    "When the 'card category' is used to predict the number of churn, then the regression predicted a value of 11.87%"
   ]
  },
  {
   "cell_type": "markdown",
   "metadata": {},
   "source": [
    "### Logistic Regression: Gender as Dummy Variable"
   ]
  },
  {
   "cell_type": "code",
   "execution_count": 79,
   "metadata": {},
   "outputs": [
    {
     "data": {
      "text/plain": [
       "M    4350\n",
       "F    3998\n",
       "Name: Gender, dtype: int64"
      ]
     },
     "execution_count": 79,
     "metadata": {},
     "output_type": "execute_result"
    }
   ],
   "source": [
    "card1['Gender'].value_counts()"
   ]
  },
  {
   "cell_type": "code",
   "execution_count": 80,
   "metadata": {},
   "outputs": [
    {
     "data": {
      "text/html": [
       "<div>\n",
       "<style scoped>\n",
       "    .dataframe tbody tr th:only-of-type {\n",
       "        vertical-align: middle;\n",
       "    }\n",
       "\n",
       "    .dataframe tbody tr th {\n",
       "        vertical-align: top;\n",
       "    }\n",
       "\n",
       "    .dataframe thead th {\n",
       "        text-align: right;\n",
       "    }\n",
       "</style>\n",
       "<table border=\"1\" class=\"dataframe\">\n",
       "  <thead>\n",
       "    <tr style=\"text-align: right;\">\n",
       "      <th></th>\n",
       "      <th>F</th>\n",
       "      <th>M</th>\n",
       "    </tr>\n",
       "  </thead>\n",
       "  <tbody>\n",
       "    <tr>\n",
       "      <th>0</th>\n",
       "      <td>0</td>\n",
       "      <td>1</td>\n",
       "    </tr>\n",
       "    <tr>\n",
       "      <th>1</th>\n",
       "      <td>1</td>\n",
       "      <td>0</td>\n",
       "    </tr>\n",
       "    <tr>\n",
       "      <th>2</th>\n",
       "      <td>0</td>\n",
       "      <td>1</td>\n",
       "    </tr>\n",
       "    <tr>\n",
       "      <th>4</th>\n",
       "      <td>0</td>\n",
       "      <td>1</td>\n",
       "    </tr>\n",
       "    <tr>\n",
       "      <th>5</th>\n",
       "      <td>0</td>\n",
       "      <td>1</td>\n",
       "    </tr>\n",
       "    <tr>\n",
       "      <th>...</th>\n",
       "      <td>...</td>\n",
       "      <td>...</td>\n",
       "    </tr>\n",
       "    <tr>\n",
       "      <th>10121</th>\n",
       "      <td>1</td>\n",
       "      <td>0</td>\n",
       "    </tr>\n",
       "    <tr>\n",
       "      <th>10122</th>\n",
       "      <td>0</td>\n",
       "      <td>1</td>\n",
       "    </tr>\n",
       "    <tr>\n",
       "      <th>10123</th>\n",
       "      <td>0</td>\n",
       "      <td>1</td>\n",
       "    </tr>\n",
       "    <tr>\n",
       "      <th>10124</th>\n",
       "      <td>1</td>\n",
       "      <td>0</td>\n",
       "    </tr>\n",
       "    <tr>\n",
       "      <th>10126</th>\n",
       "      <td>1</td>\n",
       "      <td>0</td>\n",
       "    </tr>\n",
       "  </tbody>\n",
       "</table>\n",
       "<p>8348 rows × 2 columns</p>\n",
       "</div>"
      ],
      "text/plain": [
       "       F  M\n",
       "0      0  1\n",
       "1      1  0\n",
       "2      0  1\n",
       "4      0  1\n",
       "5      0  1\n",
       "...   .. ..\n",
       "10121  1  0\n",
       "10122  0  1\n",
       "10123  0  1\n",
       "10124  1  0\n",
       "10126  1  0\n",
       "\n",
       "[8348 rows x 2 columns]"
      ]
     },
     "execution_count": 80,
     "metadata": {},
     "output_type": "execute_result"
    }
   ],
   "source": [
    "sex=pd.get_dummies(card1['Gender'])\n",
    "sex"
   ]
  },
  {
   "cell_type": "code",
   "execution_count": 81,
   "metadata": {},
   "outputs": [
    {
     "name": "stdout",
     "output_type": "stream",
     "text": [
      "Optimization terminated successfully.\n",
      "         Current function value: 0.241587\n",
      "         Iterations 8\n"
     ]
    },
    {
     "data": {
      "text/html": [
       "<table class=\"simpletable\">\n",
       "<caption>Logit Regression Results</caption>\n",
       "<tr>\n",
       "  <th>Dep. Variable:</th>       <td>Attrition</td>    <th>  No. Observations:  </th>  <td>  8348</td> \n",
       "</tr>\n",
       "<tr>\n",
       "  <th>Model:</th>                 <td>Logit</td>      <th>  Df Residuals:      </th>  <td>  8336</td> \n",
       "</tr>\n",
       "<tr>\n",
       "  <th>Method:</th>                 <td>MLE</td>       <th>  Df Model:          </th>  <td>    11</td> \n",
       "</tr>\n",
       "<tr>\n",
       "  <th>Date:</th>            <td>Sat, 12 Dec 2020</td> <th>  Pseudo R-squ.:     </th>  <td>0.4486</td> \n",
       "</tr>\n",
       "<tr>\n",
       "  <th>Time:</th>                <td>10:52:51</td>     <th>  Log-Likelihood:    </th> <td> -2016.8</td>\n",
       "</tr>\n",
       "<tr>\n",
       "  <th>converged:</th>             <td>True</td>       <th>  LL-Null:           </th> <td> -3657.6</td>\n",
       "</tr>\n",
       "<tr>\n",
       "  <th>Covariance Type:</th>     <td>nonrobust</td>    <th>  LLR p-value:       </th>  <td> 0.000</td> \n",
       "</tr>\n",
       "</table>\n",
       "<table class=\"simpletable\">\n",
       "<tr>\n",
       "              <td></td>                <th>coef</th>     <th>std err</th>      <th>z</th>      <th>P>|z|</th>  <th>[0.025</th>    <th>0.975]</th>  \n",
       "</tr>\n",
       "<tr>\n",
       "  <th>const</th>                    <td>    3.5930</td> <td>    0.287</td> <td>   12.513</td> <td> 0.000</td> <td>    3.030</td> <td>    4.156</td>\n",
       "</tr>\n",
       "<tr>\n",
       "  <th>F</th>                        <td>    0.7283</td> <td>    0.095</td> <td>    7.696</td> <td> 0.000</td> <td>    0.543</td> <td>    0.914</td>\n",
       "</tr>\n",
       "<tr>\n",
       "  <th>Months_on_book</th>           <td>   -0.7533</td> <td>    0.214</td> <td>   -3.514</td> <td> 0.000</td> <td>   -1.174</td> <td>   -0.333</td>\n",
       "</tr>\n",
       "<tr>\n",
       "  <th>Total_Relationship_Count</th> <td>   -2.2695</td> <td>    0.149</td> <td>  -15.224</td> <td> 0.000</td> <td>   -2.562</td> <td>   -1.977</td>\n",
       "</tr>\n",
       "<tr>\n",
       "  <th>Months_Inactive_12_mon</th>   <td>    3.1088</td> <td>    0.248</td> <td>   12.553</td> <td> 0.000</td> <td>    2.623</td> <td>    3.594</td>\n",
       "</tr>\n",
       "<tr>\n",
       "  <th>Contacts_Count_12_mon</th>    <td>    2.8401</td> <td>    0.234</td> <td>   12.123</td> <td> 0.000</td> <td>    2.381</td> <td>    3.299</td>\n",
       "</tr>\n",
       "<tr>\n",
       "  <th>Credit_Limit</th>             <td>    0.3520</td> <td>    0.170</td> <td>    2.065</td> <td> 0.039</td> <td>    0.018</td> <td>    0.686</td>\n",
       "</tr>\n",
       "<tr>\n",
       "  <th>Total_Revolving_Bal</th>      <td>   -2.5039</td> <td>    0.127</td> <td>  -19.778</td> <td> 0.000</td> <td>   -2.752</td> <td>   -2.256</td>\n",
       "</tr>\n",
       "<tr>\n",
       "  <th>Total_Amt_Chng_Q4_Q1</th>     <td>   -1.4604</td> <td>    0.681</td> <td>   -2.144</td> <td> 0.032</td> <td>   -2.795</td> <td>   -0.126</td>\n",
       "</tr>\n",
       "<tr>\n",
       "  <th>Total_Trans_Amt</th>          <td>    8.1032</td> <td>    0.431</td> <td>   18.811</td> <td> 0.000</td> <td>    7.259</td> <td>    8.948</td>\n",
       "</tr>\n",
       "<tr>\n",
       "  <th>Total_Trans_Ct</th>           <td>  -14.1965</td> <td>    0.502</td> <td>  -28.294</td> <td> 0.000</td> <td>  -15.180</td> <td>  -13.213</td>\n",
       "</tr>\n",
       "<tr>\n",
       "  <th>Total_Ct_Chng_Q4_Q1</th>      <td>   -9.9888</td> <td>    0.755</td> <td>  -13.222</td> <td> 0.000</td> <td>  -11.469</td> <td>   -8.508</td>\n",
       "</tr>\n",
       "</table>"
      ],
      "text/plain": [
       "<class 'statsmodels.iolib.summary.Summary'>\n",
       "\"\"\"\n",
       "                           Logit Regression Results                           \n",
       "==============================================================================\n",
       "Dep. Variable:              Attrition   No. Observations:                 8348\n",
       "Model:                          Logit   Df Residuals:                     8336\n",
       "Method:                           MLE   Df Model:                           11\n",
       "Date:                Sat, 12 Dec 2020   Pseudo R-squ.:                  0.4486\n",
       "Time:                        10:52:51   Log-Likelihood:                -2016.8\n",
       "converged:                       True   LL-Null:                       -3657.6\n",
       "Covariance Type:            nonrobust   LLR p-value:                     0.000\n",
       "============================================================================================\n",
       "                               coef    std err          z      P>|z|      [0.025      0.975]\n",
       "--------------------------------------------------------------------------------------------\n",
       "const                        3.5930      0.287     12.513      0.000       3.030       4.156\n",
       "F                            0.7283      0.095      7.696      0.000       0.543       0.914\n",
       "Months_on_book              -0.7533      0.214     -3.514      0.000      -1.174      -0.333\n",
       "Total_Relationship_Count    -2.2695      0.149    -15.224      0.000      -2.562      -1.977\n",
       "Months_Inactive_12_mon       3.1088      0.248     12.553      0.000       2.623       3.594\n",
       "Contacts_Count_12_mon        2.8401      0.234     12.123      0.000       2.381       3.299\n",
       "Credit_Limit                 0.3520      0.170      2.065      0.039       0.018       0.686\n",
       "Total_Revolving_Bal         -2.5039      0.127    -19.778      0.000      -2.752      -2.256\n",
       "Total_Amt_Chng_Q4_Q1        -1.4604      0.681     -2.144      0.032      -2.795      -0.126\n",
       "Total_Trans_Amt              8.1032      0.431     18.811      0.000       7.259       8.948\n",
       "Total_Trans_Ct             -14.1965      0.502    -28.294      0.000     -15.180     -13.213\n",
       "Total_Ct_Chng_Q4_Q1         -9.9888      0.755    -13.222      0.000     -11.469      -8.508\n",
       "============================================================================================\n",
       "\"\"\""
      ]
     },
     "execution_count": 81,
     "metadata": {},
     "output_type": "execute_result"
    }
   ],
   "source": [
    "\n",
    "sex.drop(['M'], axis=1, inplace=True)\n",
    "\n",
    "ivs=card1[['Months_on_book',\n",
    "       'Total_Relationship_Count', 'Months_Inactive_12_mon',\n",
    "       'Contacts_Count_12_mon', 'Credit_Limit', 'Total_Revolving_Bal',\n",
    "       'Total_Amt_Chng_Q4_Q1', 'Total_Trans_Amt',\n",
    "       'Total_Trans_Ct', 'Total_Ct_Chng_Q4_Q1']]\n",
    "\n",
    "X=pd.concat([sex, ivs], axis=1)\n",
    "X=sm.add_constant(X)\n",
    "\n",
    "model=sm.Logit(Y, X).fit()\n",
    "model.summary()"
   ]
  },
  {
   "cell_type": "markdown",
   "metadata": {},
   "source": [
    "### Logistic regression: Gender as DV"
   ]
  },
  {
   "cell_type": "code",
   "execution_count": 82,
   "metadata": {},
   "outputs": [],
   "source": [
    "# first step is to generate the binary variable for DV:\n",
    "card1['Gender_1']= np.where(card1['Gender'] == 'F', 1 ,0)\n"
   ]
  },
  {
   "cell_type": "code",
   "execution_count": 83,
   "metadata": {},
   "outputs": [
    {
     "name": "stdout",
     "output_type": "stream",
     "text": [
      "Optimization terminated successfully.\n",
      "         Current function value: 0.524353\n",
      "         Iterations 7\n"
     ]
    },
    {
     "data": {
      "text/html": [
       "<table class=\"simpletable\">\n",
       "<caption>Logit Regression Results</caption>\n",
       "<tr>\n",
       "  <th>Dep. Variable:</th>       <td>Gender_1</td>     <th>  No. Observations:  </th>  <td>  8348</td> \n",
       "</tr>\n",
       "<tr>\n",
       "  <th>Model:</th>                 <td>Logit</td>      <th>  Df Residuals:      </th>  <td>  8337</td> \n",
       "</tr>\n",
       "<tr>\n",
       "  <th>Method:</th>                 <td>MLE</td>       <th>  Df Model:          </th>  <td>    10</td> \n",
       "</tr>\n",
       "<tr>\n",
       "  <th>Date:</th>            <td>Sat, 12 Dec 2020</td> <th>  Pseudo R-squ.:     </th>  <td>0.2425</td> \n",
       "</tr>\n",
       "<tr>\n",
       "  <th>Time:</th>                <td>10:52:51</td>     <th>  Log-Likelihood:    </th> <td> -4377.3</td>\n",
       "</tr>\n",
       "<tr>\n",
       "  <th>converged:</th>             <td>True</td>       <th>  LL-Null:           </th> <td> -5779.0</td>\n",
       "</tr>\n",
       "<tr>\n",
       "  <th>Covariance Type:</th>     <td>nonrobust</td>    <th>  LLR p-value:       </th>  <td> 0.000</td> \n",
       "</tr>\n",
       "</table>\n",
       "<table class=\"simpletable\">\n",
       "<tr>\n",
       "              <td></td>                <th>coef</th>     <th>std err</th>      <th>z</th>      <th>P>|z|</th>  <th>[0.025</th>    <th>0.975]</th>  \n",
       "</tr>\n",
       "<tr>\n",
       "  <th>const</th>                    <td>    0.5782</td> <td>    0.185</td> <td>    3.130</td> <td> 0.002</td> <td>    0.216</td> <td>    0.940</td>\n",
       "</tr>\n",
       "<tr>\n",
       "  <th>Months_on_book</th>           <td>    0.2818</td> <td>    0.136</td> <td>    2.072</td> <td> 0.038</td> <td>    0.015</td> <td>    0.548</td>\n",
       "</tr>\n",
       "<tr>\n",
       "  <th>Total_Relationship_Count</th> <td>   -0.1711</td> <td>    0.090</td> <td>   -1.902</td> <td> 0.057</td> <td>   -0.347</td> <td>    0.005</td>\n",
       "</tr>\n",
       "<tr>\n",
       "  <th>Months_Inactive_12_mon</th>   <td>    0.0379</td> <td>    0.156</td> <td>    0.244</td> <td> 0.807</td> <td>   -0.267</td> <td>    0.343</td>\n",
       "</tr>\n",
       "<tr>\n",
       "  <th>Contacts_Count_12_mon</th>    <td>   -0.1970</td> <td>    0.142</td> <td>   -1.384</td> <td> 0.166</td> <td>   -0.476</td> <td>    0.082</td>\n",
       "</tr>\n",
       "<tr>\n",
       "  <th>Credit_Limit</th>             <td>   -7.5375</td> <td>    0.226</td> <td>  -33.330</td> <td> 0.000</td> <td>   -7.981</td> <td>   -7.094</td>\n",
       "</tr>\n",
       "<tr>\n",
       "  <th>Total_Revolving_Bal</th>      <td>   -0.0199</td> <td>    0.080</td> <td>   -0.247</td> <td> 0.805</td> <td>   -0.177</td> <td>    0.138</td>\n",
       "</tr>\n",
       "<tr>\n",
       "  <th>Total_Amt_Chng_Q4_Q1</th>     <td>   -0.9487</td> <td>    0.434</td> <td>   -2.188</td> <td> 0.029</td> <td>   -1.798</td> <td>   -0.099</td>\n",
       "</tr>\n",
       "<tr>\n",
       "  <th>Total_Trans_Amt</th>          <td>   -0.6276</td> <td>    0.250</td> <td>   -2.513</td> <td> 0.012</td> <td>   -1.117</td> <td>   -0.138</td>\n",
       "</tr>\n",
       "<tr>\n",
       "  <th>Total_Trans_Ct</th>           <td>    1.9624</td> <td>    0.245</td> <td>    8.013</td> <td> 0.000</td> <td>    1.482</td> <td>    2.442</td>\n",
       "</tr>\n",
       "<tr>\n",
       "  <th>Total_Ct_Chng_Q4_Q1</th>      <td>    0.1568</td> <td>    0.443</td> <td>    0.354</td> <td> 0.723</td> <td>   -0.712</td> <td>    1.025</td>\n",
       "</tr>\n",
       "</table>"
      ],
      "text/plain": [
       "<class 'statsmodels.iolib.summary.Summary'>\n",
       "\"\"\"\n",
       "                           Logit Regression Results                           \n",
       "==============================================================================\n",
       "Dep. Variable:               Gender_1   No. Observations:                 8348\n",
       "Model:                          Logit   Df Residuals:                     8337\n",
       "Method:                           MLE   Df Model:                           10\n",
       "Date:                Sat, 12 Dec 2020   Pseudo R-squ.:                  0.2425\n",
       "Time:                        10:52:51   Log-Likelihood:                -4377.3\n",
       "converged:                       True   LL-Null:                       -5779.0\n",
       "Covariance Type:            nonrobust   LLR p-value:                     0.000\n",
       "============================================================================================\n",
       "                               coef    std err          z      P>|z|      [0.025      0.975]\n",
       "--------------------------------------------------------------------------------------------\n",
       "const                        0.5782      0.185      3.130      0.002       0.216       0.940\n",
       "Months_on_book               0.2818      0.136      2.072      0.038       0.015       0.548\n",
       "Total_Relationship_Count    -0.1711      0.090     -1.902      0.057      -0.347       0.005\n",
       "Months_Inactive_12_mon       0.0379      0.156      0.244      0.807      -0.267       0.343\n",
       "Contacts_Count_12_mon       -0.1970      0.142     -1.384      0.166      -0.476       0.082\n",
       "Credit_Limit                -7.5375      0.226    -33.330      0.000      -7.981      -7.094\n",
       "Total_Revolving_Bal         -0.0199      0.080     -0.247      0.805      -0.177       0.138\n",
       "Total_Amt_Chng_Q4_Q1        -0.9487      0.434     -2.188      0.029      -1.798      -0.099\n",
       "Total_Trans_Amt             -0.6276      0.250     -2.513      0.012      -1.117      -0.138\n",
       "Total_Trans_Ct               1.9624      0.245      8.013      0.000       1.482       2.442\n",
       "Total_Ct_Chng_Q4_Q1          0.1568      0.443      0.354      0.723      -0.712       1.025\n",
       "============================================================================================\n",
       "\"\"\""
      ]
     },
     "execution_count": 83,
     "metadata": {},
     "output_type": "execute_result"
    }
   ],
   "source": [
    "Y=card1['Gender_1']\n",
    "\n",
    "X=card1[['Months_on_book',\n",
    "       'Total_Relationship_Count', 'Months_Inactive_12_mon',\n",
    "       'Contacts_Count_12_mon', 'Credit_Limit', 'Total_Revolving_Bal',\n",
    "       'Total_Amt_Chng_Q4_Q1', 'Total_Trans_Amt',\n",
    "       'Total_Trans_Ct', 'Total_Ct_Chng_Q4_Q1']]\n",
    "\n",
    "X=sm.add_constant(X)\n",
    "\n",
    "model=sm.Logit(Y, X).fit()\n",
    "model.summary()"
   ]
  },
  {
   "cell_type": "code",
   "execution_count": 84,
   "metadata": {},
   "outputs": [],
   "source": [
    "# customers who have longer relationship with the bank are more likely to be Female.\n",
    "\n",
    "# females do not hold multiple products .\n",
    "\n",
    "# customers with higher credit limit are men. \n",
    "\n"
   ]
  },
  {
   "cell_type": "code",
   "execution_count": 85,
   "metadata": {},
   "outputs": [],
   "source": [
    "# interpret Attrition regression with dummy variable income category.\n",
    "# regression with Male-Fem"
   ]
  },
  {
   "cell_type": "markdown",
   "metadata": {},
   "source": [
    "### Residual plot"
   ]
  },
  {
   "cell_type": "code",
   "execution_count": 86,
   "metadata": {},
   "outputs": [],
   "source": [
    "#Y_predic=model.predict(X)\n",
    "#residuals=Y-Y_predic\n",
    "#plt.hist(residuals, bins=100)\n",
    "#plt.show()"
   ]
  },
  {
   "cell_type": "code",
   "execution_count": 87,
   "metadata": {},
   "outputs": [
    {
     "data": {
      "text/plain": [
       "Index(['Attrition', 'CLIENTNUM', 'Attrition_Flag', 'Customer_Age', 'Gender',\n",
       "       'Dependent_count', 'Education_Level', 'Marital_Status',\n",
       "       'Income_Category', 'Card_Category', 'Months_on_book',\n",
       "       'Total_Relationship_Count', 'Months_Inactive_12_mon',\n",
       "       'Contacts_Count_12_mon', 'Credit_Limit', 'Total_Revolving_Bal',\n",
       "       'Avg_Open_To_Buy', 'Total_Amt_Chng_Q4_Q1', 'Total_Trans_Amt',\n",
       "       'Total_Trans_Ct', 'Total_Ct_Chng_Q4_Q1', 'Avg_Utilization_Ratio',\n",
       "       'Gender_1'],\n",
       "      dtype='object')"
      ]
     },
     "execution_count": 87,
     "metadata": {},
     "output_type": "execute_result"
    }
   ],
   "source": [
    "card1.columns"
   ]
  },
  {
   "cell_type": "code",
   "execution_count": 95,
   "metadata": {
    "scrolled": true
   },
   "outputs": [
    {
     "data": {
      "text/html": [
       "<div>\n",
       "<style scoped>\n",
       "    .dataframe tbody tr th:only-of-type {\n",
       "        vertical-align: middle;\n",
       "    }\n",
       "\n",
       "    .dataframe tbody tr th {\n",
       "        vertical-align: top;\n",
       "    }\n",
       "\n",
       "    .dataframe thead th {\n",
       "        text-align: right;\n",
       "    }\n",
       "</style>\n",
       "<table border=\"1\" class=\"dataframe\">\n",
       "  <thead>\n",
       "    <tr style=\"text-align: right;\">\n",
       "      <th></th>\n",
       "      <th>Avg_Open_To_Buy</th>\n",
       "      <th>Avg_Utilization_Ratio</th>\n",
       "      <th>Contacts_Count_12_mon</th>\n",
       "      <th>Credit_Limit</th>\n",
       "      <th>Customer_Age</th>\n",
       "      <th>Months_Inactive_12_mon</th>\n",
       "      <th>Months_on_book</th>\n",
       "      <th>Total_Amt_Chng_Q4_Q1</th>\n",
       "      <th>Total_Ct_Chng_Q4_Q1</th>\n",
       "      <th>Total_Relationship_Count</th>\n",
       "      <th>Total_Revolving_Bal</th>\n",
       "      <th>Total_Trans_Amt</th>\n",
       "      <th>Total_Trans_Ct</th>\n",
       "    </tr>\n",
       "    <tr>\n",
       "      <th>Gender</th>\n",
       "      <th></th>\n",
       "      <th></th>\n",
       "      <th></th>\n",
       "      <th></th>\n",
       "      <th></th>\n",
       "      <th></th>\n",
       "      <th></th>\n",
       "      <th></th>\n",
       "      <th></th>\n",
       "      <th></th>\n",
       "      <th></th>\n",
       "      <th></th>\n",
       "      <th></th>\n",
       "    </tr>\n",
       "  </thead>\n",
       "  <tbody>\n",
       "    <tr>\n",
       "      <th>F</th>\n",
       "      <td>2780.301926</td>\n",
       "      <td>0.371593</td>\n",
       "      <td>2.411456</td>\n",
       "      <td>3923.752901</td>\n",
       "      <td>46.519010</td>\n",
       "      <td>2.348174</td>\n",
       "      <td>36.063782</td>\n",
       "      <td>0.753112</td>\n",
       "      <td>0.713678</td>\n",
       "      <td>3.808404</td>\n",
       "      <td>1143.450975</td>\n",
       "      <td>4300.845423</td>\n",
       "      <td>66.051776</td>\n",
       "    </tr>\n",
       "    <tr>\n",
       "      <th>M</th>\n",
       "      <td>11428.479149</td>\n",
       "      <td>0.201708</td>\n",
       "      <td>2.501839</td>\n",
       "      <td>12620.955701</td>\n",
       "      <td>46.249655</td>\n",
       "      <td>2.329425</td>\n",
       "      <td>35.918391</td>\n",
       "      <td>0.766684</td>\n",
       "      <td>0.709120</td>\n",
       "      <td>3.822989</td>\n",
       "      <td>1192.476552</td>\n",
       "      <td>4484.002759</td>\n",
       "      <td>63.100920</td>\n",
       "    </tr>\n",
       "  </tbody>\n",
       "</table>\n",
       "</div>"
      ],
      "text/plain": [
       "        Avg_Open_To_Buy  Avg_Utilization_Ratio  Contacts_Count_12_mon  \\\n",
       "Gender                                                                  \n",
       "F           2780.301926               0.371593               2.411456   \n",
       "M          11428.479149               0.201708               2.501839   \n",
       "\n",
       "        Credit_Limit  Customer_Age  Months_Inactive_12_mon  Months_on_book  \\\n",
       "Gender                                                                       \n",
       "F        3923.752901     46.519010                2.348174       36.063782   \n",
       "M       12620.955701     46.249655                2.329425       35.918391   \n",
       "\n",
       "        Total_Amt_Chng_Q4_Q1  Total_Ct_Chng_Q4_Q1  Total_Relationship_Count  \\\n",
       "Gender                                                                        \n",
       "F                   0.753112             0.713678                  3.808404   \n",
       "M                   0.766684             0.709120                  3.822989   \n",
       "\n",
       "        Total_Revolving_Bal  Total_Trans_Amt  Total_Trans_Ct  \n",
       "Gender                                                        \n",
       "F               1143.450975      4300.845423       66.051776  \n",
       "M               1192.476552      4484.002759       63.100920  "
      ]
     },
     "execution_count": 95,
     "metadata": {},
     "output_type": "execute_result"
    }
   ],
   "source": [
    "\n",
    "pd.pivot_table(card, values=['Customer_Age', 'Months_on_book',\n",
    "       'Total_Relationship_Count', 'Months_Inactive_12_mon',\n",
    "       'Contacts_Count_12_mon', 'Credit_Limit', 'Total_Revolving_Bal',\n",
    "       'Avg_Open_To_Buy', 'Total_Amt_Chng_Q4_Q1', 'Total_Trans_Amt',\n",
    "       'Total_Trans_Ct', 'Total_Ct_Chng_Q4_Q1', 'Avg_Utilization_Ratio'], index='Gender')"
   ]
  },
  {
   "cell_type": "code",
   "execution_count": null,
   "metadata": {},
   "outputs": [],
   "source": [
    "# according to the pivot table there are only two distinction: credit limit, \n",
    "# Avg open to buy, and Avg utilization ration."
   ]
  },
  {
   "cell_type": "code",
   "execution_count": null,
   "metadata": {},
   "outputs": [],
   "source": []
  },
  {
   "cell_type": "code",
   "execution_count": null,
   "metadata": {},
   "outputs": [],
   "source": []
  },
  {
   "cell_type": "code",
   "execution_count": null,
   "metadata": {},
   "outputs": [],
   "source": []
  }
 ],
 "metadata": {
  "kernelspec": {
   "display_name": "Python 3",
   "language": "python",
   "name": "python3"
  },
  "language_info": {
   "codemirror_mode": {
    "name": "ipython",
    "version": 3
   },
   "file_extension": ".py",
   "mimetype": "text/x-python",
   "name": "python",
   "nbconvert_exporter": "python",
   "pygments_lexer": "ipython3",
   "version": "3.8.3"
  }
 },
 "nbformat": 4,
 "nbformat_minor": 4
}
